{
 "cells": [
  {
   "cell_type": "markdown",
   "id": "8bfcb5d1",
   "metadata": {},
   "source": [
    "# <center><b>Analysis on Car Second Hand Dataset<b></center>"
   ]
  },
  {
   "cell_type": "markdown",
   "id": "fc2795a7",
   "metadata": {},
   "source": [
    "---\n",
    "# **Table of Contents**\n",
    "---\n",
    "\n",
    "**1.** [**Introduction**](#Section1)<br>\n",
    "**2.** [**Problem Statement**](#Section2)<br>\n",
    "**3.** [**Installing & Importing Libraries**](#Section3)<br>\n",
    "  - **3.1** [**Installing Libraries**](#Section31)\n",
    "  - **3.2** [**Importing Libraries**](#Section33)\n",
    "\n",
    "**4.** [**Data Acquisition & Description**](#Section4)<br>\n",
    "  - **4.1** [**Data Information**](#Section42)\n",
    "\n",
    "**5.** [**Data Pre-Profiling**](#Section5)<br>\n",
    "  - **5.1** [**Missing value**](#Section51)\n",
    "  - **5.2** [**Duplicate rows**](#Section52)\n",
    "  - **5.3** [**Outliers**](#Section53)\n",
    "\n",
    "**6.** [**Data Cleaning**](#Section6)<br>\n",
    "**7.** [**Data Post-Profiling**](#Section7)<br>\n",
    "**8.** [**Exploratory Data Analysis**](#Section8)<br>\n",
    "**9.** [**Summarization**](#Section9)<br>\n",
    "  - **9.1** [**Conclusion**](#Section91)<br>\n",
    "  - **9.2** [**Actionable Insights**](#Section92)<br>"
   ]
  },
  {
   "cell_type": "markdown",
   "id": "5b83cd67",
   "metadata": {},
   "source": [
    "---\n",
    "<a name = Section1></a>\n",
    "# **1. Introduction**\n",
    "---\n",
    "\n",
    "- Even as new car sales have slowed down in the recent past, the **pre-owned car market** has continued to grow over the past year and is larger than the new car market now.\n",
    "\n",
    "- Experts said a slowdown in new car sales could mean the demand is shifting towards the pre-owned market. In fact, some car sellers replace their old cars with **pre-owned cars** instead of buying new ones.\n",
    "\n",
    "- In the increasingly **competitive environment**, enterprises have to create a decision-making model for precision marketing on provide right value to particulat brand.\n",
    "\n",
    "<center><img width=50% src=\"https://dealerimages.dealereprocess.com/image/upload/w_700/1157477.jpg\"></center>\n",
    "\n",
    "- The case study considers a **marketing problem** of find right value and good condition **pre-owned car**.\n",
    "\n",
    "- This case study demonstrates that our **proposed decisions** and insights are capable of providing a good **precision marketing strategy**.\n",
    "\n",
    "- The real-world data from a Car Dekho were collected and used in this case study to illustrate how to implement EDA."
   ]
  },
  {
   "cell_type": "markdown",
   "id": "79a69e0e",
   "metadata": {},
   "source": [
    "---\n",
    "<a name = Section2></a>\n",
    "# **2. Problem Statement**\n",
    "---\n",
    "\n",
    "- **The pre-owned car** is a market that is taking a boom year after year.\n",
    "- To increase sales of good condition **pre-owned car** in market\n",
    "- They track which kind of car and its market value from various brands.\n",
    "- Since **2004** there is a constant hike in sales of pre-owned cars. \n",
    "- As Data Science role I have been hired to analyze their transactional data from 2004 till 2020.\n",
    "- I will present an initial investigation on this data to check for various patterns and trends of selling cars.\n",
    "- This would be a **leading step** to help the customer and company get the right price of cars."
   ]
  },
  {
   "cell_type": "markdown",
   "id": "1e3c2731",
   "metadata": {},
   "source": [
    "---\n",
    "<a name = Section3></a>\n",
    "# **3. Installing and Importing Libraries**\n",
    "---"
   ]
  },
  {
   "cell_type": "markdown",
   "id": "61ab82ca",
   "metadata": {},
   "source": [
    "<a name = Section31></a>\n",
    "### **3.1 Installing & Upgrading Libraries**"
   ]
  },
  {
   "cell_type": "code",
   "execution_count": 79,
   "id": "ba41fc76",
   "metadata": {},
   "outputs": [],
   "source": [
    "!pip install -q datascience \n",
    "!pip install -q pandas-profiling"
   ]
  },
  {
   "cell_type": "code",
   "execution_count": 80,
   "id": "65b0cc28",
   "metadata": {},
   "outputs": [],
   "source": [
    "!pip install -q --upgrade pandas-profiling"
   ]
  },
  {
   "cell_type": "code",
   "execution_count": 83,
   "id": "18216608",
   "metadata": {},
   "outputs": [
    {
     "name": "stdout",
     "output_type": "stream",
     "text": [
      "Requirement already satisfied: pandas in /opt/anaconda3/lib/python3.9/site-packages (1.3.4)\n",
      "Collecting pandas\n",
      "  Downloading pandas-1.4.0-cp39-cp39-macosx_10_9_x86_64.whl (11.5 MB)\n",
      "\u001b[K     |████████████████████████████████| 11.5 MB 5.8 MB/s eta 0:00:01\n",
      "\u001b[?25hRequirement already satisfied: pytz>=2020.1 in /opt/anaconda3/lib/python3.9/site-packages (from pandas) (2021.3)\n",
      "Requirement already satisfied: python-dateutil>=2.8.1 in /opt/anaconda3/lib/python3.9/site-packages (from pandas) (2.8.2)\n",
      "Requirement already satisfied: numpy>=1.18.5 in /opt/anaconda3/lib/python3.9/site-packages (from pandas) (1.20.3)\n",
      "Requirement already satisfied: six>=1.5 in /opt/anaconda3/lib/python3.9/site-packages (from python-dateutil>=2.8.1->pandas) (1.16.0)\n",
      "Installing collected packages: pandas\n",
      "  Attempting uninstall: pandas\n",
      "    Found existing installation: pandas 1.3.4\n",
      "    Uninstalling pandas-1.3.4:\n",
      "      Successfully uninstalled pandas-1.3.4\n",
      "Successfully installed pandas-1.4.0\n"
     ]
    }
   ],
   "source": [
    "!pip install --upgrade pandas"
   ]
  },
  {
   "cell_type": "markdown",
   "id": "f080a43a",
   "metadata": {},
   "source": [
    "<a name = Section33></a>\n",
    "### **3.2 Importing Libraries**"
   ]
  },
  {
   "cell_type": "code",
   "execution_count": 30,
   "id": "2d4f8726",
   "metadata": {},
   "outputs": [],
   "source": [
    "#-------------------------------------------------------------------------------------------------------------------------------\n",
    "import pandas as pd                                                 # Importing for panel data analysis\n",
    "from pandas_profiling import ProfileReport                          # Importing Pandas Profiling (To generate Univariate Analysis)\n",
    "pd.set_option('display.max_columns', None)                          # Unfolding hidden features if the cardinality is high\n",
    "pd.set_option('display.max_colwidth', None)                         # Unfolding the max feature width for better clearity\n",
    "pd.set_option('display.max_rows', None)                             # Unfolding hidden data points if the cardinality is high\n",
    "pd.set_option('mode.chained_assignment', None)                      # Removing restriction over chained assignments operations\n",
    "pd.set_option('display.float_format', lambda x: '%.2f' % x)         # To suppress scientific notation over exponential values\n",
    "%matplotlib inline\n",
    "#-------------------------------------------------------------------------------------------------------------------------------\n",
    "import numpy as np                                                  # Importing package numpys (For Numerical Python)\n",
    "#-------------------------------------------------------------------------------------------------------------------------------\n",
    "import matplotlib.pyplot as plt                                     # Importing pyplot interface of matplotlib\n",
    "import seaborn as sns                                                # For datetime operations\n",
    "#-------------------------------------------------------------------------------------------------------------------------------\n",
    "import warnings                                                     # Importing warning to disable runtime warnings\n",
    "warnings.filterwarnings(\"ignore\")                                   # Warnings will appear only once\n",
    "import re"
   ]
  },
  {
   "cell_type": "markdown",
   "id": "a6774049",
   "metadata": {},
   "source": [
    "---\n",
    "<a name = Section4></a>\n",
    "# **4. Data Acquisition & Description**\n",
    "---\n",
    "\n",
    "\n",
    "- The dataset consists of information about the Cars model, selling price, Kilometer Driven, and cars details like transmission, fuel type, and mileage.\n",
    "\n",
    "| Records | Features | Dataset Size |\n",
    "| :--: | :--: | :--: |\n",
    "| 8128 | 13 | 825.6 KB | \n",
    "\n",
    "<br>\n",
    "\n",
    "| # | Feature Name | Feature Description |\n",
    "|:--:|:--|:--| \n",
    "|1| Name | Cars name with detail information |\n",
    "|2| Year | Year of model  |\n",
    "|3| Selling Price |\tSelling price of car |\n",
    "|4| KM Driven |\tKilometer driven of car by multiple owners |\n",
    "|5| Fule |\tFuel type like **Diesel, Petrol, CNG, LPG** |\n",
    "|6| Seller Type |\tType of seller like **Individual, Dealer, Trustmark Dealer** |\n",
    "|7| Transmission |\tTransmission type like **Manual and Automatic** |\n",
    "|8| Owner |\tType of owner from first to forth|\n",
    "|9| Other |\tOther cars attribute like **milage in KMPL, engine in CC, max power in BHP, torque and numebr of seats**|"
   ]
  },
  {
   "cell_type": "code",
   "execution_count": 31,
   "id": "96c65e9a",
   "metadata": {},
   "outputs": [
    {
     "name": "stdout",
     "output_type": "stream",
     "text": [
      "Data shape :  (8128, 13)\n"
     ]
    },
    {
     "data": {
      "text/html": [
       "<div>\n",
       "<style scoped>\n",
       "    .dataframe tbody tr th:only-of-type {\n",
       "        vertical-align: middle;\n",
       "    }\n",
       "\n",
       "    .dataframe tbody tr th {\n",
       "        vertical-align: top;\n",
       "    }\n",
       "\n",
       "    .dataframe thead th {\n",
       "        text-align: right;\n",
       "    }\n",
       "</style>\n",
       "<table border=\"1\" class=\"dataframe\">\n",
       "  <thead>\n",
       "    <tr style=\"text-align: right;\">\n",
       "      <th></th>\n",
       "      <th>name</th>\n",
       "      <th>year</th>\n",
       "      <th>selling_price</th>\n",
       "      <th>km_driven</th>\n",
       "      <th>fuel</th>\n",
       "      <th>seller_type</th>\n",
       "      <th>transmission</th>\n",
       "      <th>owner</th>\n",
       "      <th>mileage</th>\n",
       "      <th>engine</th>\n",
       "      <th>max_power</th>\n",
       "      <th>torque</th>\n",
       "      <th>seats</th>\n",
       "    </tr>\n",
       "  </thead>\n",
       "  <tbody>\n",
       "    <tr>\n",
       "      <th>0</th>\n",
       "      <td>Maruti Swift Dzire VDI</td>\n",
       "      <td>2014</td>\n",
       "      <td>450000</td>\n",
       "      <td>145500</td>\n",
       "      <td>Diesel</td>\n",
       "      <td>Individual</td>\n",
       "      <td>Manual</td>\n",
       "      <td>First Owner</td>\n",
       "      <td>23.4 kmpl</td>\n",
       "      <td>1248 CC</td>\n",
       "      <td>74 bhp</td>\n",
       "      <td>190Nm@ 2000rpm</td>\n",
       "      <td>5.00</td>\n",
       "    </tr>\n",
       "    <tr>\n",
       "      <th>1</th>\n",
       "      <td>Skoda Rapid 1.5 TDI Ambition</td>\n",
       "      <td>2014</td>\n",
       "      <td>370000</td>\n",
       "      <td>120000</td>\n",
       "      <td>Diesel</td>\n",
       "      <td>Individual</td>\n",
       "      <td>Manual</td>\n",
       "      <td>Second Owner</td>\n",
       "      <td>21.14 kmpl</td>\n",
       "      <td>1498 CC</td>\n",
       "      <td>103.52 bhp</td>\n",
       "      <td>250Nm@ 1500-2500rpm</td>\n",
       "      <td>5.00</td>\n",
       "    </tr>\n",
       "    <tr>\n",
       "      <th>2</th>\n",
       "      <td>Honda City 2017-2020 EXi</td>\n",
       "      <td>2006</td>\n",
       "      <td>158000</td>\n",
       "      <td>140000</td>\n",
       "      <td>Petrol</td>\n",
       "      <td>Individual</td>\n",
       "      <td>Manual</td>\n",
       "      <td>Third Owner</td>\n",
       "      <td>17.7 kmpl</td>\n",
       "      <td>1497 CC</td>\n",
       "      <td>78 bhp</td>\n",
       "      <td>12.7@ 2,700(kgm@ rpm)</td>\n",
       "      <td>5.00</td>\n",
       "    </tr>\n",
       "    <tr>\n",
       "      <th>3</th>\n",
       "      <td>Hyundai i20 Sportz Diesel</td>\n",
       "      <td>2010</td>\n",
       "      <td>225000</td>\n",
       "      <td>127000</td>\n",
       "      <td>Diesel</td>\n",
       "      <td>Individual</td>\n",
       "      <td>Manual</td>\n",
       "      <td>First Owner</td>\n",
       "      <td>23.0 kmpl</td>\n",
       "      <td>1396 CC</td>\n",
       "      <td>90 bhp</td>\n",
       "      <td>22.4 kgm at 1750-2750rpm</td>\n",
       "      <td>5.00</td>\n",
       "    </tr>\n",
       "    <tr>\n",
       "      <th>4</th>\n",
       "      <td>Maruti Swift VXI BSIII</td>\n",
       "      <td>2007</td>\n",
       "      <td>130000</td>\n",
       "      <td>120000</td>\n",
       "      <td>Petrol</td>\n",
       "      <td>Individual</td>\n",
       "      <td>Manual</td>\n",
       "      <td>First Owner</td>\n",
       "      <td>16.1 kmpl</td>\n",
       "      <td>1298 CC</td>\n",
       "      <td>88.2 bhp</td>\n",
       "      <td>11.5@ 4,500(kgm@ rpm)</td>\n",
       "      <td>5.00</td>\n",
       "    </tr>\n",
       "  </tbody>\n",
       "</table>\n",
       "</div>"
      ],
      "text/plain": [
       "                           name  year  selling_price  km_driven    fuel  \\\n",
       "0        Maruti Swift Dzire VDI  2014         450000     145500  Diesel   \n",
       "1  Skoda Rapid 1.5 TDI Ambition  2014         370000     120000  Diesel   \n",
       "2      Honda City 2017-2020 EXi  2006         158000     140000  Petrol   \n",
       "3     Hyundai i20 Sportz Diesel  2010         225000     127000  Diesel   \n",
       "4        Maruti Swift VXI BSIII  2007         130000     120000  Petrol   \n",
       "\n",
       "  seller_type transmission         owner     mileage   engine   max_power  \\\n",
       "0  Individual       Manual   First Owner   23.4 kmpl  1248 CC      74 bhp   \n",
       "1  Individual       Manual  Second Owner  21.14 kmpl  1498 CC  103.52 bhp   \n",
       "2  Individual       Manual   Third Owner   17.7 kmpl  1497 CC      78 bhp   \n",
       "3  Individual       Manual   First Owner   23.0 kmpl  1396 CC      90 bhp   \n",
       "4  Individual       Manual   First Owner   16.1 kmpl  1298 CC    88.2 bhp   \n",
       "\n",
       "                     torque  seats  \n",
       "0            190Nm@ 2000rpm   5.00  \n",
       "1       250Nm@ 1500-2500rpm   5.00  \n",
       "2     12.7@ 2,700(kgm@ rpm)   5.00  \n",
       "3  22.4 kgm at 1750-2750rpm   5.00  \n",
       "4     11.5@ 4,500(kgm@ rpm)   5.00  "
      ]
     },
     "execution_count": 31,
     "metadata": {},
     "output_type": "execute_result"
    }
   ],
   "source": [
    "ds_car = pd.read_csv('Car details v3.csv')\n",
    "print('Data shape : ', ds_car.shape)\n",
    "ds_car.head()"
   ]
  },
  {
   "cell_type": "markdown",
   "id": "2eef7957",
   "metadata": {},
   "source": [
    "**Observations:**\n",
    "\n",
    "- We can see there are total 8128 records and 13 features.\n",
    "\n",
    "- Features like mileage, engine, power, torque are object type. These needs to corrected first before we can can do further processing."
   ]
  },
  {
   "cell_type": "markdown",
   "id": "5d59b056",
   "metadata": {},
   "source": [
    "<a name = Section42></a>\n",
    "### **4.1 Data Information**\n",
    "\n",
    "- In this section we will see the **information about the types of features**."
   ]
  },
  {
   "cell_type": "code",
   "execution_count": 4,
   "id": "ed0a422d",
   "metadata": {},
   "outputs": [
    {
     "data": {
      "text/html": [
       "<div>\n",
       "<style scoped>\n",
       "    .dataframe tbody tr th:only-of-type {\n",
       "        vertical-align: middle;\n",
       "    }\n",
       "\n",
       "    .dataframe tbody tr th {\n",
       "        vertical-align: top;\n",
       "    }\n",
       "\n",
       "    .dataframe thead th {\n",
       "        text-align: right;\n",
       "    }\n",
       "</style>\n",
       "<table border=\"1\" class=\"dataframe\">\n",
       "  <thead>\n",
       "    <tr style=\"text-align: right;\">\n",
       "      <th></th>\n",
       "      <th>year</th>\n",
       "      <th>selling_price</th>\n",
       "      <th>km_driven</th>\n",
       "      <th>seats</th>\n",
       "    </tr>\n",
       "  </thead>\n",
       "  <tbody>\n",
       "    <tr>\n",
       "      <th>count</th>\n",
       "      <td>8128.00</td>\n",
       "      <td>8128.00</td>\n",
       "      <td>8128.00</td>\n",
       "      <td>7907.00</td>\n",
       "    </tr>\n",
       "    <tr>\n",
       "      <th>mean</th>\n",
       "      <td>2013.80</td>\n",
       "      <td>638271.81</td>\n",
       "      <td>69819.51</td>\n",
       "      <td>5.42</td>\n",
       "    </tr>\n",
       "    <tr>\n",
       "      <th>std</th>\n",
       "      <td>4.04</td>\n",
       "      <td>806253.40</td>\n",
       "      <td>56550.55</td>\n",
       "      <td>0.96</td>\n",
       "    </tr>\n",
       "    <tr>\n",
       "      <th>min</th>\n",
       "      <td>1983.00</td>\n",
       "      <td>29999.00</td>\n",
       "      <td>1.00</td>\n",
       "      <td>2.00</td>\n",
       "    </tr>\n",
       "    <tr>\n",
       "      <th>25%</th>\n",
       "      <td>2011.00</td>\n",
       "      <td>254999.00</td>\n",
       "      <td>35000.00</td>\n",
       "      <td>5.00</td>\n",
       "    </tr>\n",
       "    <tr>\n",
       "      <th>50%</th>\n",
       "      <td>2015.00</td>\n",
       "      <td>450000.00</td>\n",
       "      <td>60000.00</td>\n",
       "      <td>5.00</td>\n",
       "    </tr>\n",
       "    <tr>\n",
       "      <th>75%</th>\n",
       "      <td>2017.00</td>\n",
       "      <td>675000.00</td>\n",
       "      <td>98000.00</td>\n",
       "      <td>5.00</td>\n",
       "    </tr>\n",
       "    <tr>\n",
       "      <th>max</th>\n",
       "      <td>2020.00</td>\n",
       "      <td>10000000.00</td>\n",
       "      <td>2360457.00</td>\n",
       "      <td>14.00</td>\n",
       "    </tr>\n",
       "  </tbody>\n",
       "</table>\n",
       "</div>"
      ],
      "text/plain": [
       "         year  selling_price  km_driven   seats\n",
       "count 8128.00        8128.00    8128.00 7907.00\n",
       "mean  2013.80      638271.81   69819.51    5.42\n",
       "std      4.04      806253.40   56550.55    0.96\n",
       "min   1983.00       29999.00       1.00    2.00\n",
       "25%   2011.00      254999.00   35000.00    5.00\n",
       "50%   2015.00      450000.00   60000.00    5.00\n",
       "75%   2017.00      675000.00   98000.00    5.00\n",
       "max   2020.00    10000000.00 2360457.00   14.00"
      ]
     },
     "execution_count": 4,
     "metadata": {},
     "output_type": "execute_result"
    }
   ],
   "source": [
    "ds_car.describe()"
   ]
  },
  {
   "cell_type": "code",
   "execution_count": 4,
   "id": "32766ac9",
   "metadata": {},
   "outputs": [
    {
     "name": "stdout",
     "output_type": "stream",
     "text": [
      "<class 'pandas.core.frame.DataFrame'>\n",
      "RangeIndex: 8128 entries, 0 to 8127\n",
      "Data columns (total 13 columns):\n",
      " #   Column         Non-Null Count  Dtype  \n",
      "---  ------         --------------  -----  \n",
      " 0   name           8128 non-null   object \n",
      " 1   year           8128 non-null   int64  \n",
      " 2   selling_price  8128 non-null   int64  \n",
      " 3   km_driven      8128 non-null   int64  \n",
      " 4   fuel           8128 non-null   object \n",
      " 5   seller_type    8128 non-null   object \n",
      " 6   transmission   8128 non-null   object \n",
      " 7   owner          8128 non-null   object \n",
      " 8   mileage        7907 non-null   object \n",
      " 9   engine         7907 non-null   object \n",
      " 10  max_power      7913 non-null   object \n",
      " 11  torque         7906 non-null   object \n",
      " 12  seats          7907 non-null   float64\n",
      "dtypes: float64(1), int64(3), object(9)\n",
      "memory usage: 825.6+ KB\n"
     ]
    }
   ],
   "source": [
    "ds_car.info()"
   ]
  },
  {
   "cell_type": "markdown",
   "id": "0f721978",
   "metadata": {},
   "source": [
    "**Observations:**\n",
    "\n",
    "- As analysed before features like mileage, engine, power, torque needs to be converted to float or int to get useful information like min, max, mean, std.\n",
    "\n",
    "- **Year, Selling price** and **KM driven** are int type.\n",
    "- **Seat** is of type float. It should be int as the seat cannot be like 4.5 or 6.78. But it won't affect our analysis till it is X.00"
   ]
  },
  {
   "cell_type": "markdown",
   "id": "8606daa7",
   "metadata": {},
   "source": [
    "<a name = Section5></a>\n",
    "\n",
    "---\n",
    "# **5. Data Pre-Profiling**\n",
    "---"
   ]
  },
  {
   "cell_type": "markdown",
   "id": "ec35ab2d",
   "metadata": {},
   "source": [
    "<a name = Section51></a>\n",
    "### **5.1 Missing Value**\n",
    "\n",
    "- For **quick analysis** will use pandas methods to find out missing values."
   ]
  },
  {
   "cell_type": "code",
   "execution_count": 5,
   "id": "2daa0b06",
   "metadata": {},
   "outputs": [
    {
     "data": {
      "text/plain": [
       "name            0.00\n",
       "year            0.00\n",
       "selling_price   0.00\n",
       "km_driven       0.00\n",
       "fuel            0.00\n",
       "seller_type     0.00\n",
       "transmission    0.00\n",
       "owner           0.00\n",
       "mileage         2.72\n",
       "engine          2.72\n",
       "max_power       2.65\n",
       "torque          2.73\n",
       "seats           2.72\n",
       "dtype: float64"
      ]
     },
     "execution_count": 5,
     "metadata": {},
     "output_type": "execute_result"
    }
   ],
   "source": [
    "100*(ds_car.shape[0]-ds_car.count())/ds_car.shape[0]"
   ]
  },
  {
   "cell_type": "markdown",
   "id": "0eeb735f",
   "metadata": {},
   "source": [
    "**Observations:**\n",
    "\n",
    "- As we can see around 2.7% values are missing and they are objct type.\n",
    "- In order to convert it to continues variable we need to eliminate null values."
   ]
  },
  {
   "cell_type": "markdown",
   "id": "4ab11e31",
   "metadata": {},
   "source": [
    "<a name = Section52></a>\n",
    "### **5.2 Duplicate rows**\n",
    "\n",
    "- For **quick analysis** will use pandas methods to find out duplicates values."
   ]
  },
  {
   "cell_type": "code",
   "execution_count": 7,
   "id": "825407b8",
   "metadata": {},
   "outputs": [
    {
     "data": {
      "text/html": [
       "<div>\n",
       "<style scoped>\n",
       "    .dataframe tbody tr th:only-of-type {\n",
       "        vertical-align: middle;\n",
       "    }\n",
       "\n",
       "    .dataframe tbody tr th {\n",
       "        vertical-align: top;\n",
       "    }\n",
       "\n",
       "    .dataframe thead th {\n",
       "        text-align: right;\n",
       "    }\n",
       "</style>\n",
       "<table border=\"1\" class=\"dataframe\">\n",
       "  <thead>\n",
       "    <tr style=\"text-align: right;\">\n",
       "      <th></th>\n",
       "      <th>name</th>\n",
       "      <th>year</th>\n",
       "      <th>selling_price</th>\n",
       "      <th>km_driven</th>\n",
       "      <th>fuel</th>\n",
       "      <th>seller_type</th>\n",
       "      <th>transmission</th>\n",
       "      <th>owner</th>\n",
       "      <th>mileage</th>\n",
       "      <th>engine</th>\n",
       "      <th>max_power</th>\n",
       "      <th>torque</th>\n",
       "      <th>seats</th>\n",
       "    </tr>\n",
       "  </thead>\n",
       "  <tbody>\n",
       "    <tr>\n",
       "      <th>7987</th>\n",
       "      <td>Renault Captur 1.5 Diesel RXT</td>\n",
       "      <td>2018</td>\n",
       "      <td>1265000</td>\n",
       "      <td>12000</td>\n",
       "      <td>Diesel</td>\n",
       "      <td>Individual</td>\n",
       "      <td>Manual</td>\n",
       "      <td>First Owner</td>\n",
       "      <td>20.37 kmpl</td>\n",
       "      <td>1461 CC</td>\n",
       "      <td>108.45 bhp</td>\n",
       "      <td>240Nm@ 1750rpm</td>\n",
       "      <td>5.00</td>\n",
       "    </tr>\n",
       "    <tr>\n",
       "      <th>7988</th>\n",
       "      <td>Maruti Ciaz Alpha Diesel</td>\n",
       "      <td>2019</td>\n",
       "      <td>1025000</td>\n",
       "      <td>32000</td>\n",
       "      <td>Diesel</td>\n",
       "      <td>Individual</td>\n",
       "      <td>Manual</td>\n",
       "      <td>First Owner</td>\n",
       "      <td>28.09 kmpl</td>\n",
       "      <td>1248 CC</td>\n",
       "      <td>88.50 bhp</td>\n",
       "      <td>200Nm@ 1750rpm</td>\n",
       "      <td>5.00</td>\n",
       "    </tr>\n",
       "    <tr>\n",
       "      <th>8117</th>\n",
       "      <td>Maruti Swift Dzire VDI</td>\n",
       "      <td>2015</td>\n",
       "      <td>625000</td>\n",
       "      <td>50000</td>\n",
       "      <td>Diesel</td>\n",
       "      <td>Individual</td>\n",
       "      <td>Manual</td>\n",
       "      <td>First Owner</td>\n",
       "      <td>26.59 kmpl</td>\n",
       "      <td>1248 CC</td>\n",
       "      <td>74 bhp</td>\n",
       "      <td>190Nm@ 2000rpm</td>\n",
       "      <td>5.00</td>\n",
       "    </tr>\n",
       "    <tr>\n",
       "      <th>8126</th>\n",
       "      <td>Tata Indigo CR4</td>\n",
       "      <td>2013</td>\n",
       "      <td>290000</td>\n",
       "      <td>25000</td>\n",
       "      <td>Diesel</td>\n",
       "      <td>Individual</td>\n",
       "      <td>Manual</td>\n",
       "      <td>First Owner</td>\n",
       "      <td>23.57 kmpl</td>\n",
       "      <td>1396 CC</td>\n",
       "      <td>70 bhp</td>\n",
       "      <td>140Nm@ 1800-3000rpm</td>\n",
       "      <td>5.00</td>\n",
       "    </tr>\n",
       "    <tr>\n",
       "      <th>8127</th>\n",
       "      <td>Tata Indigo CR4</td>\n",
       "      <td>2013</td>\n",
       "      <td>290000</td>\n",
       "      <td>25000</td>\n",
       "      <td>Diesel</td>\n",
       "      <td>Individual</td>\n",
       "      <td>Manual</td>\n",
       "      <td>First Owner</td>\n",
       "      <td>23.57 kmpl</td>\n",
       "      <td>1396 CC</td>\n",
       "      <td>70 bhp</td>\n",
       "      <td>140Nm@ 1800-3000rpm</td>\n",
       "      <td>5.00</td>\n",
       "    </tr>\n",
       "  </tbody>\n",
       "</table>\n",
       "</div>"
      ],
      "text/plain": [
       "                               name  year  selling_price  km_driven    fuel  \\\n",
       "7987  Renault Captur 1.5 Diesel RXT  2018        1265000      12000  Diesel   \n",
       "7988       Maruti Ciaz Alpha Diesel  2019        1025000      32000  Diesel   \n",
       "8117         Maruti Swift Dzire VDI  2015         625000      50000  Diesel   \n",
       "8126                Tata Indigo CR4  2013         290000      25000  Diesel   \n",
       "8127                Tata Indigo CR4  2013         290000      25000  Diesel   \n",
       "\n",
       "     seller_type transmission        owner     mileage   engine   max_power  \\\n",
       "7987  Individual       Manual  First Owner  20.37 kmpl  1461 CC  108.45 bhp   \n",
       "7988  Individual       Manual  First Owner  28.09 kmpl  1248 CC   88.50 bhp   \n",
       "8117  Individual       Manual  First Owner  26.59 kmpl  1248 CC      74 bhp   \n",
       "8126  Individual       Manual  First Owner  23.57 kmpl  1396 CC      70 bhp   \n",
       "8127  Individual       Manual  First Owner  23.57 kmpl  1396 CC      70 bhp   \n",
       "\n",
       "                   torque  seats  \n",
       "7987       240Nm@ 1750rpm   5.00  \n",
       "7988       200Nm@ 1750rpm   5.00  \n",
       "8117       190Nm@ 2000rpm   5.00  \n",
       "8126  140Nm@ 1800-3000rpm   5.00  \n",
       "8127  140Nm@ 1800-3000rpm   5.00  "
      ]
     },
     "execution_count": 7,
     "metadata": {},
     "output_type": "execute_result"
    }
   ],
   "source": [
    "ds_car[ds_car.duplicated()].tail()"
   ]
  },
  {
   "cell_type": "code",
   "execution_count": 8,
   "id": "592608be",
   "metadata": {},
   "outputs": [
    {
     "data": {
      "text/html": [
       "<div>\n",
       "<style scoped>\n",
       "    .dataframe tbody tr th:only-of-type {\n",
       "        vertical-align: middle;\n",
       "    }\n",
       "\n",
       "    .dataframe tbody tr th {\n",
       "        vertical-align: top;\n",
       "    }\n",
       "\n",
       "    .dataframe thead th {\n",
       "        text-align: right;\n",
       "    }\n",
       "</style>\n",
       "<table border=\"1\" class=\"dataframe\">\n",
       "  <thead>\n",
       "    <tr style=\"text-align: right;\">\n",
       "      <th></th>\n",
       "      <th>name</th>\n",
       "      <th>year</th>\n",
       "      <th>selling_price</th>\n",
       "      <th>km_driven</th>\n",
       "      <th>fuel</th>\n",
       "      <th>seller_type</th>\n",
       "      <th>transmission</th>\n",
       "      <th>owner</th>\n",
       "      <th>mileage</th>\n",
       "      <th>engine</th>\n",
       "      <th>max_power</th>\n",
       "      <th>torque</th>\n",
       "      <th>seats</th>\n",
       "    </tr>\n",
       "  </thead>\n",
       "  <tbody>\n",
       "    <tr>\n",
       "      <th>102</th>\n",
       "      <td>Maruti Swift VXI</td>\n",
       "      <td>2019</td>\n",
       "      <td>615000</td>\n",
       "      <td>10000</td>\n",
       "      <td>Petrol</td>\n",
       "      <td>Individual</td>\n",
       "      <td>Manual</td>\n",
       "      <td>First Owner</td>\n",
       "      <td>21.21 kmpl</td>\n",
       "      <td>1197 CC</td>\n",
       "      <td>81.80 bhp</td>\n",
       "      <td>113Nm@ 4200rpm</td>\n",
       "      <td>5.00</td>\n",
       "    </tr>\n",
       "    <tr>\n",
       "      <th>162</th>\n",
       "      <td>Maruti Swift VXI</td>\n",
       "      <td>2012</td>\n",
       "      <td>340000</td>\n",
       "      <td>24300</td>\n",
       "      <td>Petrol</td>\n",
       "      <td>Dealer</td>\n",
       "      <td>Manual</td>\n",
       "      <td>First Owner</td>\n",
       "      <td>21.21 kmpl</td>\n",
       "      <td>1197 CC</td>\n",
       "      <td>81.80 bhp</td>\n",
       "      <td>113Nm@ 4200rpm</td>\n",
       "      <td>5.00</td>\n",
       "    </tr>\n",
       "    <tr>\n",
       "      <th>295</th>\n",
       "      <td>Maruti Swift VXI</td>\n",
       "      <td>2012</td>\n",
       "      <td>330000</td>\n",
       "      <td>50000</td>\n",
       "      <td>Petrol</td>\n",
       "      <td>Individual</td>\n",
       "      <td>Manual</td>\n",
       "      <td>Second Owner</td>\n",
       "      <td>18.6 kmpl</td>\n",
       "      <td>1197 CC</td>\n",
       "      <td>85.8 bhp</td>\n",
       "      <td>114Nm@ 4000rpm</td>\n",
       "      <td>5.00</td>\n",
       "    </tr>\n",
       "    <tr>\n",
       "      <th>296</th>\n",
       "      <td>Maruti Swift VXI</td>\n",
       "      <td>2012</td>\n",
       "      <td>330000</td>\n",
       "      <td>50000</td>\n",
       "      <td>Petrol</td>\n",
       "      <td>Individual</td>\n",
       "      <td>Manual</td>\n",
       "      <td>Second Owner</td>\n",
       "      <td>18.6 kmpl</td>\n",
       "      <td>1197 CC</td>\n",
       "      <td>85.8 bhp</td>\n",
       "      <td>114Nm@ 4000rpm</td>\n",
       "      <td>5.00</td>\n",
       "    </tr>\n",
       "    <tr>\n",
       "      <th>1326</th>\n",
       "      <td>Maruti Swift VXI</td>\n",
       "      <td>2019</td>\n",
       "      <td>585000</td>\n",
       "      <td>10000</td>\n",
       "      <td>Petrol</td>\n",
       "      <td>Individual</td>\n",
       "      <td>Manual</td>\n",
       "      <td>First Owner</td>\n",
       "      <td>21.21 kmpl</td>\n",
       "      <td>1197 CC</td>\n",
       "      <td>81.80 bhp</td>\n",
       "      <td>113Nm@ 4200rpm</td>\n",
       "      <td>5.00</td>\n",
       "    </tr>\n",
       "  </tbody>\n",
       "</table>\n",
       "</div>"
      ],
      "text/plain": [
       "                  name  year  selling_price  km_driven    fuel seller_type  \\\n",
       "102   Maruti Swift VXI  2019         615000      10000  Petrol  Individual   \n",
       "162   Maruti Swift VXI  2012         340000      24300  Petrol      Dealer   \n",
       "295   Maruti Swift VXI  2012         330000      50000  Petrol  Individual   \n",
       "296   Maruti Swift VXI  2012         330000      50000  Petrol  Individual   \n",
       "1326  Maruti Swift VXI  2019         585000      10000  Petrol  Individual   \n",
       "\n",
       "     transmission         owner     mileage   engine  max_power  \\\n",
       "102        Manual   First Owner  21.21 kmpl  1197 CC  81.80 bhp   \n",
       "162        Manual   First Owner  21.21 kmpl  1197 CC  81.80 bhp   \n",
       "295        Manual  Second Owner   18.6 kmpl  1197 CC   85.8 bhp   \n",
       "296        Manual  Second Owner   18.6 kmpl  1197 CC   85.8 bhp   \n",
       "1326       Manual   First Owner  21.21 kmpl  1197 CC  81.80 bhp   \n",
       "\n",
       "              torque  seats  \n",
       "102   113Nm@ 4200rpm   5.00  \n",
       "162   113Nm@ 4200rpm   5.00  \n",
       "295   114Nm@ 4000rpm   5.00  \n",
       "296   114Nm@ 4000rpm   5.00  \n",
       "1326  113Nm@ 4200rpm   5.00  "
      ]
     },
     "execution_count": 8,
     "metadata": {},
     "output_type": "execute_result"
    }
   ],
   "source": [
    "ds_car[ds_car['name'] == 'Maruti Swift VXI'].head()"
   ]
  },
  {
   "cell_type": "markdown",
   "id": "bbec8892",
   "metadata": {},
   "source": [
    "**Observations:**\n",
    "\n",
    "- Definitely, we have **duplicate** because we cannot have the same selling price and km driven.\n",
    "- Seeing two values as Maruti and Tata we have to **eliminate duplicate** values because it will affect our analysis.\n",
    "\n",
    "\n",
    "### Before checking for outliers we need to correct data and remove postfix from columns that are required."
   ]
  },
  {
   "cell_type": "markdown",
   "id": "ecc9194a",
   "metadata": {},
   "source": [
    "<a name = Section6></a>\n",
    "\n",
    "---\n",
    "# **6. Data Cleaning**\n",
    "---\n",
    "\n",
    "- In this section, we will perform the **cleaning** operations over the features using information from the previous section.\n",
    "\n",
    "- We will simply **drop** the **rows** that contain **missing** values.\n",
    "\n",
    "- We will also duplicated values becuase it will missguilde our analysis."
   ]
  },
  {
   "cell_type": "code",
   "execution_count": 32,
   "id": "d34887ef",
   "metadata": {},
   "outputs": [],
   "source": [
    "...\n",
    "#Removing missing value first in order to correct value which have postfix to value.\n",
    "...\n",
    "# Dropping rows containing missing values\n",
    "ds_car.dropna(inplace=True)\n",
    "# Dropping rows containing duplicates\n",
    "ds_car.drop_duplicates(inplace= True)"
   ]
  },
  {
   "cell_type": "code",
   "execution_count": 33,
   "id": "5d2202b0",
   "metadata": {},
   "outputs": [],
   "source": [
    "# One way to remoeve postfix from engine and convert it to int\n",
    "def milageToFloat(x):\n",
    "    return float(re.findall(r'\\d+\\.\\d+', x)[0])"
   ]
  },
  {
   "cell_type": "code",
   "execution_count": 34,
   "id": "02d192ba",
   "metadata": {},
   "outputs": [],
   "source": [
    "# One way to remoeve postfix from milage and convert it to float\n",
    "def engineToInt(x):\n",
    "    return int(re.findall(r'\\d+', x)[0])"
   ]
  },
  {
   "cell_type": "code",
   "execution_count": 35,
   "id": "b6abf8f5",
   "metadata": {},
   "outputs": [
    {
     "data": {
      "text/html": [
       "<div>\n",
       "<style scoped>\n",
       "    .dataframe tbody tr th:only-of-type {\n",
       "        vertical-align: middle;\n",
       "    }\n",
       "\n",
       "    .dataframe tbody tr th {\n",
       "        vertical-align: top;\n",
       "    }\n",
       "\n",
       "    .dataframe thead th {\n",
       "        text-align: right;\n",
       "    }\n",
       "</style>\n",
       "<table border=\"1\" class=\"dataframe\">\n",
       "  <thead>\n",
       "    <tr style=\"text-align: right;\">\n",
       "      <th></th>\n",
       "      <th>name</th>\n",
       "      <th>year</th>\n",
       "      <th>selling_price</th>\n",
       "      <th>km_driven</th>\n",
       "      <th>fuel</th>\n",
       "      <th>seller_type</th>\n",
       "      <th>transmission</th>\n",
       "      <th>owner</th>\n",
       "      <th>mileage</th>\n",
       "      <th>engine</th>\n",
       "      <th>max_power</th>\n",
       "      <th>torque</th>\n",
       "      <th>seats</th>\n",
       "      <th>mileage KMPL</th>\n",
       "    </tr>\n",
       "  </thead>\n",
       "  <tbody>\n",
       "    <tr>\n",
       "      <th>0</th>\n",
       "      <td>Maruti Swift Dzire VDI</td>\n",
       "      <td>2014</td>\n",
       "      <td>450000</td>\n",
       "      <td>145500</td>\n",
       "      <td>Diesel</td>\n",
       "      <td>Individual</td>\n",
       "      <td>Manual</td>\n",
       "      <td>First Owner</td>\n",
       "      <td>23.4 kmpl</td>\n",
       "      <td>1248 CC</td>\n",
       "      <td>74 bhp</td>\n",
       "      <td>190Nm@ 2000rpm</td>\n",
       "      <td>5.00</td>\n",
       "      <td>23.40</td>\n",
       "    </tr>\n",
       "    <tr>\n",
       "      <th>1</th>\n",
       "      <td>Skoda Rapid 1.5 TDI Ambition</td>\n",
       "      <td>2014</td>\n",
       "      <td>370000</td>\n",
       "      <td>120000</td>\n",
       "      <td>Diesel</td>\n",
       "      <td>Individual</td>\n",
       "      <td>Manual</td>\n",
       "      <td>Second Owner</td>\n",
       "      <td>21.14 kmpl</td>\n",
       "      <td>1498 CC</td>\n",
       "      <td>103.52 bhp</td>\n",
       "      <td>250Nm@ 1500-2500rpm</td>\n",
       "      <td>5.00</td>\n",
       "      <td>21.14</td>\n",
       "    </tr>\n",
       "  </tbody>\n",
       "</table>\n",
       "</div>"
      ],
      "text/plain": [
       "                           name  year  selling_price  km_driven    fuel  \\\n",
       "0        Maruti Swift Dzire VDI  2014         450000     145500  Diesel   \n",
       "1  Skoda Rapid 1.5 TDI Ambition  2014         370000     120000  Diesel   \n",
       "\n",
       "  seller_type transmission         owner     mileage   engine   max_power  \\\n",
       "0  Individual       Manual   First Owner   23.4 kmpl  1248 CC      74 bhp   \n",
       "1  Individual       Manual  Second Owner  21.14 kmpl  1498 CC  103.52 bhp   \n",
       "\n",
       "                torque  seats  mileage KMPL  \n",
       "0       190Nm@ 2000rpm   5.00         23.40  \n",
       "1  250Nm@ 1500-2500rpm   5.00         21.14  "
      ]
     },
     "execution_count": 35,
     "metadata": {},
     "output_type": "execute_result"
    }
   ],
   "source": [
    "ds_car['mileage KMPL'] = ds_car['mileage'].apply(milageToFloat)\n",
    "ds_car.head(2)"
   ]
  },
  {
   "cell_type": "code",
   "execution_count": 36,
   "id": "fe0af68c",
   "metadata": {},
   "outputs": [
    {
     "data": {
      "text/html": [
       "<div>\n",
       "<style scoped>\n",
       "    .dataframe tbody tr th:only-of-type {\n",
       "        vertical-align: middle;\n",
       "    }\n",
       "\n",
       "    .dataframe tbody tr th {\n",
       "        vertical-align: top;\n",
       "    }\n",
       "\n",
       "    .dataframe thead th {\n",
       "        text-align: right;\n",
       "    }\n",
       "</style>\n",
       "<table border=\"1\" class=\"dataframe\">\n",
       "  <thead>\n",
       "    <tr style=\"text-align: right;\">\n",
       "      <th></th>\n",
       "      <th>name</th>\n",
       "      <th>year</th>\n",
       "      <th>selling_price</th>\n",
       "      <th>km_driven</th>\n",
       "      <th>fuel</th>\n",
       "      <th>seller_type</th>\n",
       "      <th>transmission</th>\n",
       "      <th>owner</th>\n",
       "      <th>mileage</th>\n",
       "      <th>engine</th>\n",
       "      <th>max_power</th>\n",
       "      <th>torque</th>\n",
       "      <th>seats</th>\n",
       "      <th>mileage KMPL</th>\n",
       "      <th>engine CC</th>\n",
       "    </tr>\n",
       "  </thead>\n",
       "  <tbody>\n",
       "    <tr>\n",
       "      <th>0</th>\n",
       "      <td>Maruti Swift Dzire VDI</td>\n",
       "      <td>2014</td>\n",
       "      <td>450000</td>\n",
       "      <td>145500</td>\n",
       "      <td>Diesel</td>\n",
       "      <td>Individual</td>\n",
       "      <td>Manual</td>\n",
       "      <td>First Owner</td>\n",
       "      <td>23.4 kmpl</td>\n",
       "      <td>1248 CC</td>\n",
       "      <td>74 bhp</td>\n",
       "      <td>190Nm@ 2000rpm</td>\n",
       "      <td>5.00</td>\n",
       "      <td>23.40</td>\n",
       "      <td>1248</td>\n",
       "    </tr>\n",
       "    <tr>\n",
       "      <th>1</th>\n",
       "      <td>Skoda Rapid 1.5 TDI Ambition</td>\n",
       "      <td>2014</td>\n",
       "      <td>370000</td>\n",
       "      <td>120000</td>\n",
       "      <td>Diesel</td>\n",
       "      <td>Individual</td>\n",
       "      <td>Manual</td>\n",
       "      <td>Second Owner</td>\n",
       "      <td>21.14 kmpl</td>\n",
       "      <td>1498 CC</td>\n",
       "      <td>103.52 bhp</td>\n",
       "      <td>250Nm@ 1500-2500rpm</td>\n",
       "      <td>5.00</td>\n",
       "      <td>21.14</td>\n",
       "      <td>1498</td>\n",
       "    </tr>\n",
       "  </tbody>\n",
       "</table>\n",
       "</div>"
      ],
      "text/plain": [
       "                           name  year  selling_price  km_driven    fuel  \\\n",
       "0        Maruti Swift Dzire VDI  2014         450000     145500  Diesel   \n",
       "1  Skoda Rapid 1.5 TDI Ambition  2014         370000     120000  Diesel   \n",
       "\n",
       "  seller_type transmission         owner     mileage   engine   max_power  \\\n",
       "0  Individual       Manual   First Owner   23.4 kmpl  1248 CC      74 bhp   \n",
       "1  Individual       Manual  Second Owner  21.14 kmpl  1498 CC  103.52 bhp   \n",
       "\n",
       "                torque  seats  mileage KMPL  engine CC  \n",
       "0       190Nm@ 2000rpm   5.00         23.40       1248  \n",
       "1  250Nm@ 1500-2500rpm   5.00         21.14       1498  "
      ]
     },
     "execution_count": 36,
     "metadata": {},
     "output_type": "execute_result"
    }
   ],
   "source": [
    "ds_car['engine CC'] = ds_car['engine'].apply(engineToInt)\n",
    "ds_car.head(2)"
   ]
  },
  {
   "cell_type": "code",
   "execution_count": 37,
   "id": "31b4fc88",
   "metadata": {},
   "outputs": [
    {
     "data": {
      "text/html": [
       "<div>\n",
       "<style scoped>\n",
       "    .dataframe tbody tr th:only-of-type {\n",
       "        vertical-align: middle;\n",
       "    }\n",
       "\n",
       "    .dataframe tbody tr th {\n",
       "        vertical-align: top;\n",
       "    }\n",
       "\n",
       "    .dataframe thead th {\n",
       "        text-align: right;\n",
       "    }\n",
       "</style>\n",
       "<table border=\"1\" class=\"dataframe\">\n",
       "  <thead>\n",
       "    <tr style=\"text-align: right;\">\n",
       "      <th></th>\n",
       "      <th>name</th>\n",
       "      <th>year</th>\n",
       "      <th>selling_price</th>\n",
       "      <th>km_driven</th>\n",
       "      <th>fuel</th>\n",
       "      <th>seller_type</th>\n",
       "      <th>transmission</th>\n",
       "      <th>owner</th>\n",
       "      <th>mileage</th>\n",
       "      <th>engine</th>\n",
       "      <th>max_power</th>\n",
       "      <th>torque</th>\n",
       "      <th>seats</th>\n",
       "      <th>mileage KMPL</th>\n",
       "      <th>engine CC</th>\n",
       "      <th>power BHP</th>\n",
       "    </tr>\n",
       "  </thead>\n",
       "  <tbody>\n",
       "    <tr>\n",
       "      <th>0</th>\n",
       "      <td>Maruti Swift Dzire VDI</td>\n",
       "      <td>2014</td>\n",
       "      <td>450000</td>\n",
       "      <td>145500</td>\n",
       "      <td>Diesel</td>\n",
       "      <td>Individual</td>\n",
       "      <td>Manual</td>\n",
       "      <td>First Owner</td>\n",
       "      <td>23.4 kmpl</td>\n",
       "      <td>1248 CC</td>\n",
       "      <td>74 bhp</td>\n",
       "      <td>190Nm@ 2000rpm</td>\n",
       "      <td>5.00</td>\n",
       "      <td>23.40</td>\n",
       "      <td>1248</td>\n",
       "      <td>74.00</td>\n",
       "    </tr>\n",
       "    <tr>\n",
       "      <th>1</th>\n",
       "      <td>Skoda Rapid 1.5 TDI Ambition</td>\n",
       "      <td>2014</td>\n",
       "      <td>370000</td>\n",
       "      <td>120000</td>\n",
       "      <td>Diesel</td>\n",
       "      <td>Individual</td>\n",
       "      <td>Manual</td>\n",
       "      <td>Second Owner</td>\n",
       "      <td>21.14 kmpl</td>\n",
       "      <td>1498 CC</td>\n",
       "      <td>103.52 bhp</td>\n",
       "      <td>250Nm@ 1500-2500rpm</td>\n",
       "      <td>5.00</td>\n",
       "      <td>21.14</td>\n",
       "      <td>1498</td>\n",
       "      <td>103.52</td>\n",
       "    </tr>\n",
       "  </tbody>\n",
       "</table>\n",
       "</div>"
      ],
      "text/plain": [
       "                           name  year  selling_price  km_driven    fuel  \\\n",
       "0        Maruti Swift Dzire VDI  2014         450000     145500  Diesel   \n",
       "1  Skoda Rapid 1.5 TDI Ambition  2014         370000     120000  Diesel   \n",
       "\n",
       "  seller_type transmission         owner     mileage   engine   max_power  \\\n",
       "0  Individual       Manual   First Owner   23.4 kmpl  1248 CC      74 bhp   \n",
       "1  Individual       Manual  Second Owner  21.14 kmpl  1498 CC  103.52 bhp   \n",
       "\n",
       "                torque  seats  mileage KMPL  engine CC  power BHP  \n",
       "0       190Nm@ 2000rpm   5.00         23.40       1248      74.00  \n",
       "1  250Nm@ 1500-2500rpm   5.00         21.14       1498     103.52  "
      ]
     },
     "execution_count": 37,
     "metadata": {},
     "output_type": "execute_result"
    }
   ],
   "source": [
    "# As power contaion both Int and Float I am taking different approch to remove postfix.\n",
    "# After that will convert whole value as float because it contain value as int and float.\n",
    "\n",
    "ds_car['power BHP'] = (ds_car['max_power'].astype(str).str.replace('bhp','')).astype(float)\n",
    "ds_car.head(2)"
   ]
  },
  {
   "cell_type": "markdown",
   "id": "b9101f90",
   "metadata": {},
   "source": [
    "**Observations:**\n",
    "\n",
    "- We removed null **rows** and **duplicate** values from dataset.\n",
    "- We are successful to convert Mileage, Engine and Max Power as new columns\n",
    "- **Torque** feature have too many different values in each cell so I am deciding it to **drop column** and it have two value as **Nm** and **rpm** also some cell have **rpm** value as **range**.\n",
    "- Also dropping colums as **milage, engine and max power** as I have process these columns as new columns"
   ]
  },
  {
   "cell_type": "code",
   "execution_count": 38,
   "id": "14dc23ec",
   "metadata": {},
   "outputs": [
    {
     "data": {
      "text/html": [
       "<div>\n",
       "<style scoped>\n",
       "    .dataframe tbody tr th:only-of-type {\n",
       "        vertical-align: middle;\n",
       "    }\n",
       "\n",
       "    .dataframe tbody tr th {\n",
       "        vertical-align: top;\n",
       "    }\n",
       "\n",
       "    .dataframe thead th {\n",
       "        text-align: right;\n",
       "    }\n",
       "</style>\n",
       "<table border=\"1\" class=\"dataframe\">\n",
       "  <thead>\n",
       "    <tr style=\"text-align: right;\">\n",
       "      <th></th>\n",
       "      <th>name</th>\n",
       "      <th>year</th>\n",
       "      <th>selling_price</th>\n",
       "      <th>km_driven</th>\n",
       "      <th>fuel</th>\n",
       "      <th>seller_type</th>\n",
       "      <th>transmission</th>\n",
       "      <th>owner</th>\n",
       "      <th>seats</th>\n",
       "      <th>mileage KMPL</th>\n",
       "      <th>engine CC</th>\n",
       "      <th>power BHP</th>\n",
       "    </tr>\n",
       "  </thead>\n",
       "  <tbody>\n",
       "    <tr>\n",
       "      <th>0</th>\n",
       "      <td>Maruti Swift Dzire VDI</td>\n",
       "      <td>2014</td>\n",
       "      <td>450000</td>\n",
       "      <td>145500</td>\n",
       "      <td>Diesel</td>\n",
       "      <td>Individual</td>\n",
       "      <td>Manual</td>\n",
       "      <td>First Owner</td>\n",
       "      <td>5.00</td>\n",
       "      <td>23.40</td>\n",
       "      <td>1248</td>\n",
       "      <td>74.00</td>\n",
       "    </tr>\n",
       "    <tr>\n",
       "      <th>1</th>\n",
       "      <td>Skoda Rapid 1.5 TDI Ambition</td>\n",
       "      <td>2014</td>\n",
       "      <td>370000</td>\n",
       "      <td>120000</td>\n",
       "      <td>Diesel</td>\n",
       "      <td>Individual</td>\n",
       "      <td>Manual</td>\n",
       "      <td>Second Owner</td>\n",
       "      <td>5.00</td>\n",
       "      <td>21.14</td>\n",
       "      <td>1498</td>\n",
       "      <td>103.52</td>\n",
       "    </tr>\n",
       "    <tr>\n",
       "      <th>2</th>\n",
       "      <td>Honda City 2017-2020 EXi</td>\n",
       "      <td>2006</td>\n",
       "      <td>158000</td>\n",
       "      <td>140000</td>\n",
       "      <td>Petrol</td>\n",
       "      <td>Individual</td>\n",
       "      <td>Manual</td>\n",
       "      <td>Third Owner</td>\n",
       "      <td>5.00</td>\n",
       "      <td>17.70</td>\n",
       "      <td>1497</td>\n",
       "      <td>78.00</td>\n",
       "    </tr>\n",
       "    <tr>\n",
       "      <th>3</th>\n",
       "      <td>Hyundai i20 Sportz Diesel</td>\n",
       "      <td>2010</td>\n",
       "      <td>225000</td>\n",
       "      <td>127000</td>\n",
       "      <td>Diesel</td>\n",
       "      <td>Individual</td>\n",
       "      <td>Manual</td>\n",
       "      <td>First Owner</td>\n",
       "      <td>5.00</td>\n",
       "      <td>23.00</td>\n",
       "      <td>1396</td>\n",
       "      <td>90.00</td>\n",
       "    </tr>\n",
       "    <tr>\n",
       "      <th>4</th>\n",
       "      <td>Maruti Swift VXI BSIII</td>\n",
       "      <td>2007</td>\n",
       "      <td>130000</td>\n",
       "      <td>120000</td>\n",
       "      <td>Petrol</td>\n",
       "      <td>Individual</td>\n",
       "      <td>Manual</td>\n",
       "      <td>First Owner</td>\n",
       "      <td>5.00</td>\n",
       "      <td>16.10</td>\n",
       "      <td>1298</td>\n",
       "      <td>88.20</td>\n",
       "    </tr>\n",
       "  </tbody>\n",
       "</table>\n",
       "</div>"
      ],
      "text/plain": [
       "                           name  year  selling_price  km_driven    fuel  \\\n",
       "0        Maruti Swift Dzire VDI  2014         450000     145500  Diesel   \n",
       "1  Skoda Rapid 1.5 TDI Ambition  2014         370000     120000  Diesel   \n",
       "2      Honda City 2017-2020 EXi  2006         158000     140000  Petrol   \n",
       "3     Hyundai i20 Sportz Diesel  2010         225000     127000  Diesel   \n",
       "4        Maruti Swift VXI BSIII  2007         130000     120000  Petrol   \n",
       "\n",
       "  seller_type transmission         owner  seats  mileage KMPL  engine CC  \\\n",
       "0  Individual       Manual   First Owner   5.00         23.40       1248   \n",
       "1  Individual       Manual  Second Owner   5.00         21.14       1498   \n",
       "2  Individual       Manual   Third Owner   5.00         17.70       1497   \n",
       "3  Individual       Manual   First Owner   5.00         23.00       1396   \n",
       "4  Individual       Manual   First Owner   5.00         16.10       1298   \n",
       "\n",
       "   power BHP  \n",
       "0      74.00  \n",
       "1     103.52  \n",
       "2      78.00  \n",
       "3      90.00  \n",
       "4      88.20  "
      ]
     },
     "execution_count": 38,
     "metadata": {},
     "output_type": "execute_result"
    }
   ],
   "source": [
    "ds_car.drop(['mileage', 'engine', 'max_power', 'torque'], axis=1, inplace= True)\n",
    "ds_car.head()"
   ]
  },
  {
   "cell_type": "markdown",
   "id": "ef15ada9",
   "metadata": {},
   "source": [
    "**Observations:**\n",
    "\n",
    "- Now we have to remove the missing value and duplicate value.\n",
    "- I can have preprocessed data and anything left in terms of missing and duplicate values.\n",
    "- I have left to check with outliers. Now few features data is proper we can find outliers with more features."
   ]
  },
  {
   "cell_type": "markdown",
   "id": "ac850e44",
   "metadata": {},
   "source": [
    "<a name = Section53></a>\n",
    "### **5.3 Outliers**\n",
    "\n",
    "- For **quick analysis** will use pandas methods to find out outliers."
   ]
  },
  {
   "cell_type": "code",
   "execution_count": 18,
   "id": "04547cd9",
   "metadata": {},
   "outputs": [
    {
     "name": "stdout",
     "output_type": "stream",
     "text": [
      "<class 'pandas.core.frame.DataFrame'>\n",
      "Int64Index: 6717 entries, 0 to 8125\n",
      "Data columns (total 12 columns):\n",
      " #   Column         Non-Null Count  Dtype  \n",
      "---  ------         --------------  -----  \n",
      " 0   name           6717 non-null   object \n",
      " 1   year           6717 non-null   int64  \n",
      " 2   selling_price  6717 non-null   int64  \n",
      " 3   km_driven      6717 non-null   int64  \n",
      " 4   fuel           6717 non-null   object \n",
      " 5   seller_type    6717 non-null   object \n",
      " 6   transmission   6717 non-null   object \n",
      " 7   owner          6717 non-null   object \n",
      " 8   seats          6717 non-null   float64\n",
      " 9   mileage KMPL   6717 non-null   float64\n",
      " 10  engine CC      6717 non-null   int64  \n",
      " 11  power BHP      6717 non-null   float64\n",
      "dtypes: float64(3), int64(4), object(5)\n",
      "memory usage: 682.2+ KB\n"
     ]
    }
   ],
   "source": [
    "ds_car.info()"
   ]
  },
  {
   "cell_type": "code",
   "execution_count": 19,
   "id": "8cb24a76",
   "metadata": {},
   "outputs": [
    {
     "data": {
      "text/html": [
       "<div>\n",
       "<style scoped>\n",
       "    .dataframe tbody tr th:only-of-type {\n",
       "        vertical-align: middle;\n",
       "    }\n",
       "\n",
       "    .dataframe tbody tr th {\n",
       "        vertical-align: top;\n",
       "    }\n",
       "\n",
       "    .dataframe thead th {\n",
       "        text-align: right;\n",
       "    }\n",
       "</style>\n",
       "<table border=\"1\" class=\"dataframe\">\n",
       "  <thead>\n",
       "    <tr style=\"text-align: right;\">\n",
       "      <th></th>\n",
       "      <th>year</th>\n",
       "      <th>selling_price</th>\n",
       "      <th>km_driven</th>\n",
       "      <th>seats</th>\n",
       "      <th>mileage KMPL</th>\n",
       "      <th>engine CC</th>\n",
       "      <th>power BHP</th>\n",
       "    </tr>\n",
       "  </thead>\n",
       "  <tbody>\n",
       "    <tr>\n",
       "      <th>count</th>\n",
       "      <td>6717.00</td>\n",
       "      <td>6717.00</td>\n",
       "      <td>6717.00</td>\n",
       "      <td>6717.00</td>\n",
       "      <td>6717.00</td>\n",
       "      <td>6717.00</td>\n",
       "      <td>6717.00</td>\n",
       "    </tr>\n",
       "    <tr>\n",
       "      <th>mean</th>\n",
       "      <td>2013.61</td>\n",
       "      <td>526386.00</td>\n",
       "      <td>73398.34</td>\n",
       "      <td>5.43</td>\n",
       "      <td>19.47</td>\n",
       "      <td>1430.99</td>\n",
       "      <td>87.77</td>\n",
       "    </tr>\n",
       "    <tr>\n",
       "      <th>std</th>\n",
       "      <td>3.90</td>\n",
       "      <td>523550.45</td>\n",
       "      <td>58703.28</td>\n",
       "      <td>0.98</td>\n",
       "      <td>4.05</td>\n",
       "      <td>493.47</td>\n",
       "      <td>31.72</td>\n",
       "    </tr>\n",
       "    <tr>\n",
       "      <th>min</th>\n",
       "      <td>1994.00</td>\n",
       "      <td>29999.00</td>\n",
       "      <td>1.00</td>\n",
       "      <td>2.00</td>\n",
       "      <td>0.00</td>\n",
       "      <td>624.00</td>\n",
       "      <td>32.80</td>\n",
       "    </tr>\n",
       "    <tr>\n",
       "      <th>25%</th>\n",
       "      <td>2011.00</td>\n",
       "      <td>250000.00</td>\n",
       "      <td>38000.00</td>\n",
       "      <td>5.00</td>\n",
       "      <td>16.80</td>\n",
       "      <td>1197.00</td>\n",
       "      <td>67.10</td>\n",
       "    </tr>\n",
       "    <tr>\n",
       "      <th>50%</th>\n",
       "      <td>2014.00</td>\n",
       "      <td>420000.00</td>\n",
       "      <td>68203.00</td>\n",
       "      <td>5.00</td>\n",
       "      <td>19.44</td>\n",
       "      <td>1248.00</td>\n",
       "      <td>81.83</td>\n",
       "    </tr>\n",
       "    <tr>\n",
       "      <th>75%</th>\n",
       "      <td>2017.00</td>\n",
       "      <td>650000.00</td>\n",
       "      <td>100000.00</td>\n",
       "      <td>5.00</td>\n",
       "      <td>22.50</td>\n",
       "      <td>1498.00</td>\n",
       "      <td>100.00</td>\n",
       "    </tr>\n",
       "    <tr>\n",
       "      <th>max</th>\n",
       "      <td>2020.00</td>\n",
       "      <td>10000000.00</td>\n",
       "      <td>2360457.00</td>\n",
       "      <td>14.00</td>\n",
       "      <td>42.00</td>\n",
       "      <td>3604.00</td>\n",
       "      <td>400.00</td>\n",
       "    </tr>\n",
       "  </tbody>\n",
       "</table>\n",
       "</div>"
      ],
      "text/plain": [
       "         year  selling_price  km_driven   seats  mileage KMPL  engine CC  \\\n",
       "count 6717.00        6717.00    6717.00 6717.00       6717.00    6717.00   \n",
       "mean  2013.61      526386.00   73398.34    5.43         19.47    1430.99   \n",
       "std      3.90      523550.45   58703.28    0.98          4.05     493.47   \n",
       "min   1994.00       29999.00       1.00    2.00          0.00     624.00   \n",
       "25%   2011.00      250000.00   38000.00    5.00         16.80    1197.00   \n",
       "50%   2014.00      420000.00   68203.00    5.00         19.44    1248.00   \n",
       "75%   2017.00      650000.00  100000.00    5.00         22.50    1498.00   \n",
       "max   2020.00    10000000.00 2360457.00   14.00         42.00    3604.00   \n",
       "\n",
       "       power BHP  \n",
       "count    6717.00  \n",
       "mean       87.77  \n",
       "std        31.72  \n",
       "min        32.80  \n",
       "25%        67.10  \n",
       "50%        81.83  \n",
       "75%       100.00  \n",
       "max       400.00  "
      ]
     },
     "execution_count": 19,
     "metadata": {},
     "output_type": "execute_result"
    }
   ],
   "source": [
    "ds_car.describe()"
   ]
  },
  {
   "cell_type": "code",
   "execution_count": 39,
   "id": "48d25987",
   "metadata": {},
   "outputs": [],
   "source": [
    "IQR_M_P = ds_car.describe()['mileage KMPL']['75%'] + (1.5 * (ds_car.describe()['mileage KMPL']['75%'] - ds_car.describe()['mileage KMPL']['25%']))\n",
    "IQR_M_N = ds_car.describe()['mileage KMPL']['25%'] - (1.5 * (ds_car.describe()['mileage KMPL']['75%'] - ds_car.describe()['mileage KMPL']['25%']))\n",
    "\n"
   ]
  },
  {
   "cell_type": "code",
   "execution_count": 40,
   "id": "928cca02",
   "metadata": {},
   "outputs": [
    {
     "name": "stdout",
     "output_type": "stream",
     "text": [
      "Negative IQR range:  8.250000000000002\n"
     ]
    },
    {
     "data": {
      "text/plain": [
       "15"
      ]
     },
     "execution_count": 40,
     "metadata": {},
     "output_type": "execute_result"
    }
   ],
   "source": [
    "print('Negative IQR range: ', IQR_M_N)\n",
    "ds_car[ds_car['mileage KMPL'] < IQR_M_N].shape[0]"
   ]
  },
  {
   "cell_type": "code",
   "execution_count": 41,
   "id": "d9b85a32",
   "metadata": {},
   "outputs": [
    {
     "name": "stdout",
     "output_type": "stream",
     "text": [
      "Positive IQR range:  31.049999999999997\n"
     ]
    },
    {
     "data": {
      "text/plain": [
       "6"
      ]
     },
     "execution_count": 41,
     "metadata": {},
     "output_type": "execute_result"
    }
   ],
   "source": [
    "print('Positive IQR range: ', IQR_M_P)\n",
    "ds_car[ds_car['mileage KMPL'] > IQR_M_P].shape[0]"
   ]
  },
  {
   "cell_type": "markdown",
   "id": "1d4d055b",
   "metadata": {},
   "source": [
    "**Observations:**\n",
    "\n",
    "- As we can see minimum mileage as 0 and maximum as 42 which cannot be possible in real world.\n",
    "- Definetly we have outliers for mileage. \n",
    "- As mean and median are almost same instead of removing value I decided to replace value of outliers.\n",
    "- I can use mean value for both negative and positive outliers."
   ]
  },
  {
   "cell_type": "code",
   "execution_count": 42,
   "id": "f3d5d980",
   "metadata": {},
   "outputs": [],
   "source": [
    "IQR_E_P = ds_car.describe()['engine CC']['75%'] + (1.5 * (ds_car.describe()['engine CC']['75%'] - ds_car.describe()['engine CC']['25%']))\n",
    "IQR_E_N = ds_car.describe()['engine CC']['25%'] - (1.5 * (ds_car.describe()['engine CC']['75%'] - ds_car.describe()['engine CC']['25%']))\n",
    "\n"
   ]
  },
  {
   "cell_type": "code",
   "execution_count": 43,
   "id": "0adeffed",
   "metadata": {},
   "outputs": [
    {
     "name": "stdout",
     "output_type": "stream",
     "text": [
      "Negative IQR range:  745.5\n"
     ]
    },
    {
     "data": {
      "text/plain": [
       "25"
      ]
     },
     "execution_count": 43,
     "metadata": {},
     "output_type": "execute_result"
    }
   ],
   "source": [
    "print('Negative IQR range: ', IQR_E_N)\n",
    "ds_car[ds_car['engine CC'] < IQR_E_N].shape[0]"
   ]
  },
  {
   "cell_type": "code",
   "execution_count": 44,
   "id": "a735d044",
   "metadata": {},
   "outputs": [
    {
     "name": "stdout",
     "output_type": "stream",
     "text": [
      "Positive IQR range:  1949.5\n"
     ]
    },
    {
     "data": {
      "text/plain": [
       "1182"
      ]
     },
     "execution_count": 44,
     "metadata": {},
     "output_type": "execute_result"
    }
   ],
   "source": [
    "print('Positive IQR range: ', IQR_E_P)\n",
    "ds_car[ds_car['engine CC'] > IQR_E_P].shape[0]"
   ]
  },
  {
   "cell_type": "markdown",
   "id": "85d459c7",
   "metadata": {},
   "source": [
    "**Observations:**\n",
    "\n",
    "- As we can see minimum engine cc as 745 and maximum as 1949.5 .\n",
    "- As per research 800 cc is miminum so values below 745 can be replace by mean. \n",
    "- As we have car range from 2 seater to 14 seater so will include maximum range of CC."
   ]
  },
  {
   "cell_type": "code",
   "execution_count": 45,
   "id": "95d2eae0",
   "metadata": {},
   "outputs": [],
   "source": [
    "IQR_P_P = ds_car.describe()['power BHP']['75%'] + (1.5 * (ds_car.describe()['power BHP']['75%'] - ds_car.describe()['power BHP']['25%']))\n",
    "IQR_P_N = ds_car.describe()['power BHP']['25%'] - (1.5 * (ds_car.describe()['power BHP']['75%'] - ds_car.describe()['power BHP']['25%']))\n",
    "\n"
   ]
  },
  {
   "cell_type": "code",
   "execution_count": 46,
   "id": "3b94d724",
   "metadata": {},
   "outputs": [
    {
     "name": "stdout",
     "output_type": "stream",
     "text": [
      "Negative IQR range:  17.749999999999986\n"
     ]
    },
    {
     "data": {
      "text/plain": [
       "0"
      ]
     },
     "execution_count": 46,
     "metadata": {},
     "output_type": "execute_result"
    }
   ],
   "source": [
    "print('Negative IQR range: ', IQR_P_N)\n",
    "ds_car[ds_car['power BHP'] < IQR_P_N].shape[0]"
   ]
  },
  {
   "cell_type": "code",
   "execution_count": 47,
   "id": "be503438",
   "metadata": {},
   "outputs": [
    {
     "name": "stdout",
     "output_type": "stream",
     "text": [
      "Positive IQR range:  149.35000000000002\n"
     ]
    },
    {
     "data": {
      "text/plain": [
       "304"
      ]
     },
     "execution_count": 47,
     "metadata": {},
     "output_type": "execute_result"
    }
   ],
   "source": [
    "print('Positive IQR range: ', IQR_P_P)\n",
    "ds_car[ds_car['power BHP'] > IQR_P_P].shape[0]"
   ]
  },
  {
   "cell_type": "markdown",
   "id": "af64a7ea",
   "metadata": {},
   "source": [
    "**Observations:**\n",
    "\n",
    "- As we can there is no negative outiers.\n",
    "- As we have car range from 2 seater to 14 seater so will include maximum range of power as BHP.\n",
    "\n",
    "**Conclusion on Outliers:**\n",
    "- We will replace both end outliers with mean value of **mileage**.\n",
    "- We will replace negative outliers with mean value of **engine CC**.\n",
    "- We have decided to keep all values of **power BHP**.\n",
    "- We are not processign any data for **KM driven, Seats and Selling Price** "
   ]
  },
  {
   "cell_type": "markdown",
   "id": "2dcc0c8e",
   "metadata": {},
   "source": [
    "**Old describe value before correcting**"
   ]
  },
  {
   "cell_type": "code",
   "execution_count": 29,
   "id": "ac9fb3e4",
   "metadata": {},
   "outputs": [
    {
     "data": {
      "text/html": [
       "<div>\n",
       "<style scoped>\n",
       "    .dataframe tbody tr th:only-of-type {\n",
       "        vertical-align: middle;\n",
       "    }\n",
       "\n",
       "    .dataframe tbody tr th {\n",
       "        vertical-align: top;\n",
       "    }\n",
       "\n",
       "    .dataframe thead th {\n",
       "        text-align: right;\n",
       "    }\n",
       "</style>\n",
       "<table border=\"1\" class=\"dataframe\">\n",
       "  <thead>\n",
       "    <tr style=\"text-align: right;\">\n",
       "      <th></th>\n",
       "      <th>year</th>\n",
       "      <th>selling_price</th>\n",
       "      <th>km_driven</th>\n",
       "      <th>seats</th>\n",
       "      <th>mileage KMPL</th>\n",
       "      <th>engine CC</th>\n",
       "      <th>power BHP</th>\n",
       "    </tr>\n",
       "  </thead>\n",
       "  <tbody>\n",
       "    <tr>\n",
       "      <th>count</th>\n",
       "      <td>6717.00</td>\n",
       "      <td>6717.00</td>\n",
       "      <td>6717.00</td>\n",
       "      <td>6717.00</td>\n",
       "      <td>6717.00</td>\n",
       "      <td>6717.00</td>\n",
       "      <td>6717.00</td>\n",
       "    </tr>\n",
       "    <tr>\n",
       "      <th>mean</th>\n",
       "      <td>2013.61</td>\n",
       "      <td>526386.00</td>\n",
       "      <td>73398.34</td>\n",
       "      <td>5.43</td>\n",
       "      <td>19.47</td>\n",
       "      <td>1430.99</td>\n",
       "      <td>87.77</td>\n",
       "    </tr>\n",
       "    <tr>\n",
       "      <th>std</th>\n",
       "      <td>3.90</td>\n",
       "      <td>523550.45</td>\n",
       "      <td>58703.28</td>\n",
       "      <td>0.98</td>\n",
       "      <td>4.05</td>\n",
       "      <td>493.47</td>\n",
       "      <td>31.72</td>\n",
       "    </tr>\n",
       "    <tr>\n",
       "      <th>min</th>\n",
       "      <td>1994.00</td>\n",
       "      <td>29999.00</td>\n",
       "      <td>1.00</td>\n",
       "      <td>2.00</td>\n",
       "      <td>0.00</td>\n",
       "      <td>624.00</td>\n",
       "      <td>32.80</td>\n",
       "    </tr>\n",
       "    <tr>\n",
       "      <th>25%</th>\n",
       "      <td>2011.00</td>\n",
       "      <td>250000.00</td>\n",
       "      <td>38000.00</td>\n",
       "      <td>5.00</td>\n",
       "      <td>16.80</td>\n",
       "      <td>1197.00</td>\n",
       "      <td>67.10</td>\n",
       "    </tr>\n",
       "    <tr>\n",
       "      <th>50%</th>\n",
       "      <td>2014.00</td>\n",
       "      <td>420000.00</td>\n",
       "      <td>68203.00</td>\n",
       "      <td>5.00</td>\n",
       "      <td>19.44</td>\n",
       "      <td>1248.00</td>\n",
       "      <td>81.83</td>\n",
       "    </tr>\n",
       "    <tr>\n",
       "      <th>75%</th>\n",
       "      <td>2017.00</td>\n",
       "      <td>650000.00</td>\n",
       "      <td>100000.00</td>\n",
       "      <td>5.00</td>\n",
       "      <td>22.50</td>\n",
       "      <td>1498.00</td>\n",
       "      <td>100.00</td>\n",
       "    </tr>\n",
       "    <tr>\n",
       "      <th>max</th>\n",
       "      <td>2020.00</td>\n",
       "      <td>10000000.00</td>\n",
       "      <td>2360457.00</td>\n",
       "      <td>14.00</td>\n",
       "      <td>42.00</td>\n",
       "      <td>3604.00</td>\n",
       "      <td>400.00</td>\n",
       "    </tr>\n",
       "  </tbody>\n",
       "</table>\n",
       "</div>"
      ],
      "text/plain": [
       "         year  selling_price  km_driven   seats  mileage KMPL  engine CC  \\\n",
       "count 6717.00        6717.00    6717.00 6717.00       6717.00    6717.00   \n",
       "mean  2013.61      526386.00   73398.34    5.43         19.47    1430.99   \n",
       "std      3.90      523550.45   58703.28    0.98          4.05     493.47   \n",
       "min   1994.00       29999.00       1.00    2.00          0.00     624.00   \n",
       "25%   2011.00      250000.00   38000.00    5.00         16.80    1197.00   \n",
       "50%   2014.00      420000.00   68203.00    5.00         19.44    1248.00   \n",
       "75%   2017.00      650000.00  100000.00    5.00         22.50    1498.00   \n",
       "max   2020.00    10000000.00 2360457.00   14.00         42.00    3604.00   \n",
       "\n",
       "       power BHP  \n",
       "count    6717.00  \n",
       "mean       87.77  \n",
       "std        31.72  \n",
       "min        32.80  \n",
       "25%        67.10  \n",
       "50%        81.83  \n",
       "75%       100.00  \n",
       "max       400.00  "
      ]
     },
     "execution_count": 29,
     "metadata": {},
     "output_type": "execute_result"
    }
   ],
   "source": [
    "ds_car.describe()"
   ]
  },
  {
   "cell_type": "code",
   "execution_count": 48,
   "id": "b7c71b1e",
   "metadata": {},
   "outputs": [
    {
     "name": "stdout",
     "output_type": "stream",
     "text": [
      "Mileage mean:  19.466584784874193\n",
      "Engine mean:  1430.9858567813012\n"
     ]
    }
   ],
   "source": [
    "mileage_mean = ds_car.describe()['mileage KMPL']['mean']\n",
    "print('Mileage mean: ', mileage_mean)\n",
    "engine_cc_mean = ds_car.describe()['engine CC']['mean']\n",
    "print('Engine mean: ', engine_cc_mean)"
   ]
  },
  {
   "cell_type": "code",
   "execution_count": 49,
   "id": "43130ddf",
   "metadata": {},
   "outputs": [],
   "source": [
    "ds_car.loc[(ds_car['mileage KMPL'] < IQR_M_N) | (ds_car['mileage KMPL'] > IQR_M_P), 'mileage KMPL'] = mileage_mean"
   ]
  },
  {
   "cell_type": "code",
   "execution_count": 50,
   "id": "62999362",
   "metadata": {},
   "outputs": [],
   "source": [
    "ds_car.loc[(ds_car['engine CC'] < IQR_E_N), 'engine CC'] = engine_cc_mean"
   ]
  },
  {
   "cell_type": "markdown",
   "id": "c05675d4",
   "metadata": {},
   "source": [
    "**New describe value after correcting**"
   ]
  },
  {
   "cell_type": "code",
   "execution_count": 33,
   "id": "8ef43fa2",
   "metadata": {},
   "outputs": [
    {
     "data": {
      "text/html": [
       "<div>\n",
       "<style scoped>\n",
       "    .dataframe tbody tr th:only-of-type {\n",
       "        vertical-align: middle;\n",
       "    }\n",
       "\n",
       "    .dataframe tbody tr th {\n",
       "        vertical-align: top;\n",
       "    }\n",
       "\n",
       "    .dataframe thead th {\n",
       "        text-align: right;\n",
       "    }\n",
       "</style>\n",
       "<table border=\"1\" class=\"dataframe\">\n",
       "  <thead>\n",
       "    <tr style=\"text-align: right;\">\n",
       "      <th></th>\n",
       "      <th>year</th>\n",
       "      <th>selling_price</th>\n",
       "      <th>km_driven</th>\n",
       "      <th>seats</th>\n",
       "      <th>mileage KMPL</th>\n",
       "      <th>engine CC</th>\n",
       "      <th>power BHP</th>\n",
       "    </tr>\n",
       "  </thead>\n",
       "  <tbody>\n",
       "    <tr>\n",
       "      <th>count</th>\n",
       "      <td>6717.00</td>\n",
       "      <td>6717.00</td>\n",
       "      <td>6717.00</td>\n",
       "      <td>6717.00</td>\n",
       "      <td>6717.00</td>\n",
       "      <td>6717.00</td>\n",
       "      <td>6717.00</td>\n",
       "    </tr>\n",
       "    <tr>\n",
       "      <th>mean</th>\n",
       "      <td>2013.61</td>\n",
       "      <td>526386.00</td>\n",
       "      <td>73398.34</td>\n",
       "      <td>5.43</td>\n",
       "      <td>19.50</td>\n",
       "      <td>1433.99</td>\n",
       "      <td>87.77</td>\n",
       "    </tr>\n",
       "    <tr>\n",
       "      <th>std</th>\n",
       "      <td>3.90</td>\n",
       "      <td>523550.45</td>\n",
       "      <td>58703.28</td>\n",
       "      <td>0.98</td>\n",
       "      <td>3.92</td>\n",
       "      <td>491.00</td>\n",
       "      <td>31.72</td>\n",
       "    </tr>\n",
       "    <tr>\n",
       "      <th>min</th>\n",
       "      <td>1994.00</td>\n",
       "      <td>29999.00</td>\n",
       "      <td>1.00</td>\n",
       "      <td>2.00</td>\n",
       "      <td>9.00</td>\n",
       "      <td>793.00</td>\n",
       "      <td>32.80</td>\n",
       "    </tr>\n",
       "    <tr>\n",
       "      <th>25%</th>\n",
       "      <td>2011.00</td>\n",
       "      <td>250000.00</td>\n",
       "      <td>38000.00</td>\n",
       "      <td>5.00</td>\n",
       "      <td>16.80</td>\n",
       "      <td>1197.00</td>\n",
       "      <td>67.10</td>\n",
       "    </tr>\n",
       "    <tr>\n",
       "      <th>50%</th>\n",
       "      <td>2014.00</td>\n",
       "      <td>420000.00</td>\n",
       "      <td>68203.00</td>\n",
       "      <td>5.00</td>\n",
       "      <td>19.47</td>\n",
       "      <td>1248.00</td>\n",
       "      <td>81.83</td>\n",
       "    </tr>\n",
       "    <tr>\n",
       "      <th>75%</th>\n",
       "      <td>2017.00</td>\n",
       "      <td>650000.00</td>\n",
       "      <td>100000.00</td>\n",
       "      <td>5.00</td>\n",
       "      <td>22.50</td>\n",
       "      <td>1498.00</td>\n",
       "      <td>100.00</td>\n",
       "    </tr>\n",
       "    <tr>\n",
       "      <th>max</th>\n",
       "      <td>2020.00</td>\n",
       "      <td>10000000.00</td>\n",
       "      <td>2360457.00</td>\n",
       "      <td>14.00</td>\n",
       "      <td>30.46</td>\n",
       "      <td>3604.00</td>\n",
       "      <td>400.00</td>\n",
       "    </tr>\n",
       "  </tbody>\n",
       "</table>\n",
       "</div>"
      ],
      "text/plain": [
       "         year  selling_price  km_driven   seats  mileage KMPL  engine CC  \\\n",
       "count 6717.00        6717.00    6717.00 6717.00       6717.00    6717.00   \n",
       "mean  2013.61      526386.00   73398.34    5.43         19.50    1433.99   \n",
       "std      3.90      523550.45   58703.28    0.98          3.92     491.00   \n",
       "min   1994.00       29999.00       1.00    2.00          9.00     793.00   \n",
       "25%   2011.00      250000.00   38000.00    5.00         16.80    1197.00   \n",
       "50%   2014.00      420000.00   68203.00    5.00         19.47    1248.00   \n",
       "75%   2017.00      650000.00  100000.00    5.00         22.50    1498.00   \n",
       "max   2020.00    10000000.00 2360457.00   14.00         30.46    3604.00   \n",
       "\n",
       "       power BHP  \n",
       "count    6717.00  \n",
       "mean       87.77  \n",
       "std        31.72  \n",
       "min        32.80  \n",
       "25%        67.10  \n",
       "50%        81.83  \n",
       "75%       100.00  \n",
       "max       400.00  "
      ]
     },
     "execution_count": 33,
     "metadata": {},
     "output_type": "execute_result"
    }
   ],
   "source": [
    "ds_car.describe()"
   ]
  },
  {
   "cell_type": "markdown",
   "id": "743cb042",
   "metadata": {},
   "source": [
    "<a name = Section7></a>\n",
    "\n",
    "---\n",
    "# **7. Data Post-Profiling**\n",
    "---\n",
    "\n",
    "- In this section, we will observe the changes after performing data pre-processing, if present.\n",
    "- This time I will use pandas profile class to genetate report."
   ]
  },
  {
   "cell_type": "code",
   "execution_count": 25,
   "id": "615340f3",
   "metadata": {},
   "outputs": [
    {
     "data": {
      "application/vnd.jupyter.widget-view+json": {
       "model_id": "d1e6abd2e18c4944943792ba4187eb82",
       "version_major": 2,
       "version_minor": 0
      },
      "text/plain": [
       "Summarize dataset:   0%|          | 0/5 [00:00<?, ?it/s]"
      ]
     },
     "metadata": {},
     "output_type": "display_data"
    },
    {
     "data": {
      "application/vnd.jupyter.widget-view+json": {
       "model_id": "15549ce18dad40db9dcacac4dbf51ad4",
       "version_major": 2,
       "version_minor": 0
      },
      "text/plain": [
       "Generate report structure:   0%|          | 0/1 [00:00<?, ?it/s]"
      ]
     },
     "metadata": {},
     "output_type": "display_data"
    },
    {
     "data": {
      "application/vnd.jupyter.widget-view+json": {
       "model_id": "ba62c2c4a8c8452d813ee1f926a03405",
       "version_major": 2,
       "version_minor": 0
      },
      "text/plain": [
       "Render HTML:   0%|          | 0/1 [00:00<?, ?it/s]"
      ]
     },
     "metadata": {},
     "output_type": "display_data"
    },
    {
     "data": {
      "application/vnd.jupyter.widget-view+json": {
       "model_id": "5097d8c081584b148951a3f494f7e264",
       "version_major": 2,
       "version_minor": 0
      },
      "text/plain": [
       "Export report to file:   0%|          | 0/1 [00:00<?, ?it/s]"
      ]
     },
     "metadata": {},
     "output_type": "display_data"
    },
    {
     "name": "stdout",
     "output_type": "stream",
     "text": [
      "Accomplished!\n"
     ]
    }
   ],
   "source": [
    "profile = ProfileReport(df = ds_car)\n",
    "profile.to_file(output_file = 'Post Profiling Car Report.html')\n",
    "print('Accomplished!')"
   ]
  },
  {
   "cell_type": "markdown",
   "id": "ef9f05ac",
   "metadata": {},
   "source": [
    "**Observations**:\n",
    "\n",
    "- There are **no missing values** in the dataset.\n",
    "\n",
    "- There are **no duplicate values** in the dataset.\n",
    "\n",
    "- **Description** feature shows **high cardinality**."
   ]
  },
  {
   "cell_type": "markdown",
   "id": "0b789a55",
   "metadata": {},
   "source": [
    "<a name = Section8></a>\n",
    "\n",
    "---\n",
    "# **8. Exploratory Data Analysis**\n",
    "---"
   ]
  },
  {
   "cell_type": "markdown",
   "id": "a4d93879",
   "metadata": {},
   "source": [
    "**<h3>Note:** Adding a few new columns to get more insight. Like Brand and Sub Brand name from the name column</h3>"
   ]
  },
  {
   "cell_type": "code",
   "execution_count": 51,
   "id": "674f3a1c",
   "metadata": {},
   "outputs": [],
   "source": [
    "def brandName(x):\n",
    "    return str(x).split()[0]"
   ]
  },
  {
   "cell_type": "code",
   "execution_count": 52,
   "id": "f487c376",
   "metadata": {},
   "outputs": [],
   "source": [
    "ds_car['brand'] = ds_car['name'].apply(brandName)"
   ]
  },
  {
   "cell_type": "code",
   "execution_count": 53,
   "id": "55625118",
   "metadata": {},
   "outputs": [],
   "source": [
    "def subBrandName(x):\n",
    "    return str(x).split()[1]"
   ]
  },
  {
   "cell_type": "code",
   "execution_count": 54,
   "id": "94d43560",
   "metadata": {},
   "outputs": [],
   "source": [
    "ds_car['sub_brand'] = ds_car['name'].apply(subBrandName)"
   ]
  },
  {
   "cell_type": "code",
   "execution_count": 159,
   "id": "2ac4ee6b",
   "metadata": {},
   "outputs": [
    {
     "name": "stdout",
     "output_type": "stream",
     "text": [
      "<class 'pandas.core.frame.DataFrame'>\n",
      "Int64Index: 6717 entries, 0 to 8125\n",
      "Data columns (total 14 columns):\n",
      " #   Column         Non-Null Count  Dtype  \n",
      "---  ------         --------------  -----  \n",
      " 0   name           6717 non-null   object \n",
      " 1   year           6717 non-null   int64  \n",
      " 2   selling_price  6717 non-null   int64  \n",
      " 3   km_driven      6717 non-null   int64  \n",
      " 4   fuel           6717 non-null   object \n",
      " 5   seller_type    6717 non-null   object \n",
      " 6   transmission   6717 non-null   object \n",
      " 7   owner          6717 non-null   object \n",
      " 8   seats          6717 non-null   float64\n",
      " 9   mileage KMPL   6717 non-null   float64\n",
      " 10  engine CC      6717 non-null   float64\n",
      " 11  power BHP      6717 non-null   float64\n",
      " 12  brand          6717 non-null   object \n",
      " 13  sub_brand      6717 non-null   object \n",
      "dtypes: float64(4), int64(3), object(7)\n",
      "memory usage: 1.0+ MB\n"
     ]
    }
   ],
   "source": [
    "ds_car.info()"
   ]
  },
  {
   "cell_type": "code",
   "execution_count": 160,
   "id": "eed82b2c",
   "metadata": {},
   "outputs": [
    {
     "data": {
      "text/html": [
       "<div>\n",
       "<style scoped>\n",
       "    .dataframe tbody tr th:only-of-type {\n",
       "        vertical-align: middle;\n",
       "    }\n",
       "\n",
       "    .dataframe tbody tr th {\n",
       "        vertical-align: top;\n",
       "    }\n",
       "\n",
       "    .dataframe thead th {\n",
       "        text-align: right;\n",
       "    }\n",
       "</style>\n",
       "<table border=\"1\" class=\"dataframe\">\n",
       "  <thead>\n",
       "    <tr style=\"text-align: right;\">\n",
       "      <th></th>\n",
       "      <th>name</th>\n",
       "      <th>year</th>\n",
       "      <th>selling_price</th>\n",
       "      <th>km_driven</th>\n",
       "      <th>fuel</th>\n",
       "      <th>seller_type</th>\n",
       "      <th>transmission</th>\n",
       "      <th>owner</th>\n",
       "      <th>seats</th>\n",
       "      <th>mileage KMPL</th>\n",
       "      <th>engine CC</th>\n",
       "      <th>power BHP</th>\n",
       "      <th>brand</th>\n",
       "      <th>sub_brand</th>\n",
       "    </tr>\n",
       "  </thead>\n",
       "  <tbody>\n",
       "    <tr>\n",
       "      <th>0</th>\n",
       "      <td>Maruti Swift Dzire VDI</td>\n",
       "      <td>2014</td>\n",
       "      <td>450000</td>\n",
       "      <td>145500</td>\n",
       "      <td>Diesel</td>\n",
       "      <td>Individual</td>\n",
       "      <td>Manual</td>\n",
       "      <td>First Owner</td>\n",
       "      <td>5.00</td>\n",
       "      <td>23.40</td>\n",
       "      <td>1248.00</td>\n",
       "      <td>74.00</td>\n",
       "      <td>Maruti</td>\n",
       "      <td>Swift</td>\n",
       "    </tr>\n",
       "    <tr>\n",
       "      <th>1</th>\n",
       "      <td>Skoda Rapid 1.5 TDI Ambition</td>\n",
       "      <td>2014</td>\n",
       "      <td>370000</td>\n",
       "      <td>120000</td>\n",
       "      <td>Diesel</td>\n",
       "      <td>Individual</td>\n",
       "      <td>Manual</td>\n",
       "      <td>Second Owner</td>\n",
       "      <td>5.00</td>\n",
       "      <td>21.14</td>\n",
       "      <td>1498.00</td>\n",
       "      <td>103.52</td>\n",
       "      <td>Skoda</td>\n",
       "      <td>Rapid</td>\n",
       "    </tr>\n",
       "    <tr>\n",
       "      <th>2</th>\n",
       "      <td>Honda City 2017-2020 EXi</td>\n",
       "      <td>2006</td>\n",
       "      <td>158000</td>\n",
       "      <td>140000</td>\n",
       "      <td>Petrol</td>\n",
       "      <td>Individual</td>\n",
       "      <td>Manual</td>\n",
       "      <td>Third Owner</td>\n",
       "      <td>5.00</td>\n",
       "      <td>17.70</td>\n",
       "      <td>1497.00</td>\n",
       "      <td>78.00</td>\n",
       "      <td>Honda</td>\n",
       "      <td>City</td>\n",
       "    </tr>\n",
       "    <tr>\n",
       "      <th>3</th>\n",
       "      <td>Hyundai i20 Sportz Diesel</td>\n",
       "      <td>2010</td>\n",
       "      <td>225000</td>\n",
       "      <td>127000</td>\n",
       "      <td>Diesel</td>\n",
       "      <td>Individual</td>\n",
       "      <td>Manual</td>\n",
       "      <td>First Owner</td>\n",
       "      <td>5.00</td>\n",
       "      <td>23.00</td>\n",
       "      <td>1396.00</td>\n",
       "      <td>90.00</td>\n",
       "      <td>Hyundai</td>\n",
       "      <td>i20</td>\n",
       "    </tr>\n",
       "    <tr>\n",
       "      <th>4</th>\n",
       "      <td>Maruti Swift VXI BSIII</td>\n",
       "      <td>2007</td>\n",
       "      <td>130000</td>\n",
       "      <td>120000</td>\n",
       "      <td>Petrol</td>\n",
       "      <td>Individual</td>\n",
       "      <td>Manual</td>\n",
       "      <td>First Owner</td>\n",
       "      <td>5.00</td>\n",
       "      <td>16.10</td>\n",
       "      <td>1298.00</td>\n",
       "      <td>88.20</td>\n",
       "      <td>Maruti</td>\n",
       "      <td>Swift</td>\n",
       "    </tr>\n",
       "  </tbody>\n",
       "</table>\n",
       "</div>"
      ],
      "text/plain": [
       "                           name  year  selling_price  km_driven    fuel  \\\n",
       "0        Maruti Swift Dzire VDI  2014         450000     145500  Diesel   \n",
       "1  Skoda Rapid 1.5 TDI Ambition  2014         370000     120000  Diesel   \n",
       "2      Honda City 2017-2020 EXi  2006         158000     140000  Petrol   \n",
       "3     Hyundai i20 Sportz Diesel  2010         225000     127000  Diesel   \n",
       "4        Maruti Swift VXI BSIII  2007         130000     120000  Petrol   \n",
       "\n",
       "  seller_type transmission         owner  seats  mileage KMPL  engine CC  \\\n",
       "0  Individual       Manual   First Owner   5.00         23.40    1248.00   \n",
       "1  Individual       Manual  Second Owner   5.00         21.14    1498.00   \n",
       "2  Individual       Manual   Third Owner   5.00         17.70    1497.00   \n",
       "3  Individual       Manual   First Owner   5.00         23.00    1396.00   \n",
       "4  Individual       Manual   First Owner   5.00         16.10    1298.00   \n",
       "\n",
       "   power BHP    brand sub_brand  \n",
       "0      74.00   Maruti     Swift  \n",
       "1     103.52    Skoda     Rapid  \n",
       "2      78.00    Honda      City  \n",
       "3      90.00  Hyundai       i20  \n",
       "4      88.20   Maruti     Swift  "
      ]
     },
     "execution_count": 160,
     "metadata": {},
     "output_type": "execute_result"
    }
   ],
   "source": [
    "ds_car.head()"
   ]
  },
  {
   "cell_type": "markdown",
   "id": "d2cdf0d5",
   "metadata": {},
   "source": [
    "**<h3>Question:** What is the sale of car across each year?</h3>"
   ]
  },
  {
   "cell_type": "code",
   "execution_count": 26,
   "id": "1b30252d",
   "metadata": {},
   "outputs": [
    {
     "data": {
      "text/plain": [
       "<function matplotlib.pyplot.show(close=None, block=None)>"
      ]
     },
     "execution_count": 26,
     "metadata": {},
     "output_type": "execute_result"
    },
    {
     "data": {
      "image/png": "[encoded data removed]",
      "text/plain": [
       "<Figure size 1440x720 with 1 Axes>"
      ]
     },
     "metadata": {
      "needs_background": "light"
     },
     "output_type": "display_data"
    }
   ],
   "source": [
    "fig = plt.figure(figsize=(20, 10))\n",
    "ds_car['year'].value_counts().sort_index(ascending=False)[:18].plot.bar()\n",
    "\n",
    "plt.xlabel(xlabel='Year', fontsize=16)\n",
    "plt.ylabel(ylabel='No. of Car sale', fontsize=16)\n",
    "plt.title(label='Number of pre-owned car sale per year', fontsize=16)\n",
    "plt.xticks(fontsize=14)\n",
    "plt.yticks(fontsize=14)\n",
    "plt.show"
   ]
  },
  {
   "cell_type": "markdown",
   "id": "8f8b6c79",
   "metadata": {},
   "source": [
    "**Observations**:\n",
    "\n",
    "- In **2017** we had the highest number of sales of pre-owned cars.\n",
    "\n",
    "- There is an increase in sales from 2003 to 2017.\n",
    "\n",
    "- There is a dip in sales in the year **2020 and 2019**.\n",
    "- In 2020 we can conclude because of **pandemic**, hopefully, things will become better in the upcoming year."
   ]
  },
  {
   "cell_type": "markdown",
   "id": "041fdb3c",
   "metadata": {},
   "source": [
    "**<h3>Question:** Range of CC common in most of cars</h3>"
   ]
  },
  {
   "cell_type": "code",
   "execution_count": 140,
   "id": "2cebdfe9",
   "metadata": {},
   "outputs": [
    {
     "data": {
      "image/png": "[encoded data removed]",
      "text/plain": [
       "<Figure size 1080x504 with 1 Axes>"
      ]
     },
     "metadata": {
      "needs_background": "light"
     },
     "output_type": "display_data"
    }
   ],
   "source": [
    "# Initialize figure of size 15 X 7\n",
    "fig = plt.figure(figsize=(15, 7))\n",
    "\n",
    "# Plot density distribution of age\n",
    "sns.distplot(a=ds_car['engine CC'], kde=True)\n",
    "\n",
    "# Add some cosmetics\n",
    "plt.title(label='Engine capacity distribution', size=16)\n",
    "plt.xlabel(xlabel='Engine capacity in CC', size=14)\n",
    "plt.ylabel(ylabel='Frequecy', size=14)\n",
    "plt.xticks(size=12)\n",
    "plt.yticks(size=12)\n",
    "plt.grid(b=True)\n",
    "\n",
    "# Display the plot\n",
    "plt.show()"
   ]
  },
  {
   "cell_type": "markdown",
   "id": "272dd973",
   "metadata": {},
   "source": [
    "**Observations**:\n",
    "\n",
    "- Engine CC with range of **1000 to 1500** are more comman in cars.\n",
    "\n",
    "- There are few cars of **2000 and 2500** CC in market."
   ]
  },
  {
   "cell_type": "markdown",
   "id": "6475c6aa",
   "metadata": {},
   "source": [
    "**<h3>Question:** Which fuel type of car have more demand?</h3>"
   ]
  },
  {
   "cell_type": "code",
   "execution_count": 158,
   "id": "59088043",
   "metadata": {},
   "outputs": [],
   "source": [
    "udf = pd.Series(ds_car['fuel'].value_counts()[0:1].append(ds_car['fuel'].value_counts()[2:3]).append(ds_car['fuel'].value_counts()[1:2].append(ds_car['fuel'].value_counts()[-1:])) )"
   ]
  },
  {
   "cell_type": "code",
   "execution_count": 159,
   "id": "9e4b31e8",
   "metadata": {},
   "outputs": [
    {
     "data": {
      "image/png": "[encoded data removed]",
      "text/plain": [
       "<Figure size 864x864 with 1 Axes>"
      ]
     },
     "metadata": {},
     "output_type": "display_data"
    }
   ],
   "source": [
    "#fig = plt.figure(figsize=(20, 10))\n",
    "udf.plot(kind='pie',\n",
    "                                                                autopct='%3.1f%%',\n",
    "                                                                wedgeprops=dict(width=0.15), \n",
    "                                                                explode=np.ones(4)/25,\n",
    "                                                                figsize=(12, 12),\n",
    "                                                                fontsize=12, \n",
    "                                                                startangle=120,\n",
    "                                                                label='Type of car in demand for resale')\n",
    "plt.show()"
   ]
  },
  {
   "cell_type": "markdown",
   "id": "cee69127",
   "metadata": {},
   "source": [
    "**Observations**:\n",
    "\n",
    "- Definitely diesel cars have more demand.\n",
    "\n",
    "- There is not much difference between diesel and petrol type cars.\n",
    "\n",
    "- LPG and CNG are much less in demand."
   ]
  },
  {
   "cell_type": "markdown",
   "id": "5db5202a",
   "metadata": {},
   "source": [
    "**<h3>Question:** What kind of sellers are there in the market?</h3>"
   ]
  },
  {
   "cell_type": "code",
   "execution_count": 164,
   "id": "b7cf03b0",
   "metadata": {},
   "outputs": [
    {
     "data": {
      "image/png": "[encoded data removed]",
      "text/plain": [
       "<Figure size 720x720 with 1 Axes>"
      ]
     },
     "metadata": {},
     "output_type": "display_data"
    }
   ],
   "source": [
    "ds_car['seller_type'].value_counts().plot(kind='pie',\n",
    "                                                                autopct='%3.1f%%',\n",
    "                                                                wedgeprops=dict(width=0.15), \n",
    "                                                                explode=np.ones(3)/25,\n",
    "                                                                figsize=(10, 10),\n",
    "                                                                fontsize=12, \n",
    "                                                                startangle=120,\n",
    "                                                                label='Type of seller in market')\n",
    "plt.show()"
   ]
  },
  {
   "cell_type": "markdown",
   "id": "1a6b092f",
   "metadata": {},
   "source": [
    "**Observations**:\n",
    "\n",
    "- People prefer selling cars by themself.\n",
    "\n",
    "- Dealers are in market but very few of them are trusted delaer."
   ]
  },
  {
   "cell_type": "markdown",
   "id": "54b47fc4",
   "metadata": {},
   "source": [
    "**<h3>Question:** Which brand is more popular in market?</h3>"
   ]
  },
  {
   "cell_type": "code",
   "execution_count": 166,
   "id": "0725f585",
   "metadata": {},
   "outputs": [],
   "source": [
    "ds_brand = ds_car['brand'].value_counts()[:10]"
   ]
  },
  {
   "cell_type": "code",
   "execution_count": 167,
   "id": "b22122e7",
   "metadata": {},
   "outputs": [],
   "source": [
    "data = pd.Series(ds_car['brand'].value_counts()[10:].sum(), index =['Other'])"
   ]
  },
  {
   "cell_type": "code",
   "execution_count": 168,
   "id": "18a5b255",
   "metadata": {},
   "outputs": [],
   "source": [
    "ds_brand = ds_brand.append(data)"
   ]
  },
  {
   "cell_type": "code",
   "execution_count": 214,
   "id": "c0cca4d2",
   "metadata": {},
   "outputs": [
    {
     "data": {
      "image/png": "[encoded data removed]",
      "text/plain": [
       "<Figure size 1080x504 with 1 Axes>"
      ]
     },
     "metadata": {
      "needs_background": "light"
     },
     "output_type": "display_data"
    }
   ],
   "source": [
    "# Create a figure of 15 x 7 inches\n",
    "plt.figure(figsize=(15,7))\n",
    "\n",
    "# Plot \n",
    "plt.hlines(ds_brand.index,xmin=0,xmax=ds_brand,color='blue')\n",
    "plt.plot(ds_brand,ds_brand.index , \"D\")\n",
    "\n",
    "# Adding some cosmetics\n",
    "plt.xlabel(xlabel='No. of cars', fontsize=14)\n",
    "plt.ylabel(ylabel='Brand', fontsize=14)\n",
    "plt.xticks(fontsize=12)\n",
    "plt.yticks(fontsize=12)\n",
    "plt.title(label='Number of cars for different brands.', fontsize=16)\n",
    "plt.grid(b=True)\n",
    "\n",
    "# Display the plot\n",
    "plt.show()"
   ]
  },
  {
   "cell_type": "markdown",
   "id": "4f8263bd",
   "metadata": {},
   "source": [
    "**Observations**:\n",
    "\n",
    "- **Maruti, Hyundai, Mahindra and Tata** hold most of the cars in the market.\n",
    "\n",
    "- Out of which **Maruti** is almost double from second top **Hyundai**."
   ]
  },
  {
   "cell_type": "markdown",
   "id": "679f538a",
   "metadata": {},
   "source": [
    "**<h3>Question:** Top 15 brand have better average and selling price?</h3>"
   ]
  },
  {
   "cell_type": "code",
   "execution_count": 109,
   "id": "90fb2f50",
   "metadata": {},
   "outputs": [],
   "source": [
    "mileage = (ds_car.groupby('brand')['mileage KMPL'].mean().sort_values(ascending=False))/ds_car['mileage KMPL'].max()"
   ]
  },
  {
   "cell_type": "code",
   "execution_count": 110,
   "id": "40429c68",
   "metadata": {},
   "outputs": [],
   "source": [
    "sellingPrice = (ds_car.groupby('brand')['selling_price'].mean().sort_values(ascending=False))/ds_car['selling_price'].max()"
   ]
  },
  {
   "cell_type": "code",
   "execution_count": 114,
   "id": "7432fc52",
   "metadata": {},
   "outputs": [
    {
     "data": {
      "image/png": "[encoded data removed]",
      "text/plain": [
       "<Figure size 1440x864 with 1 Axes>"
      ]
     },
     "metadata": {
      "needs_background": "light"
     },
     "output_type": "display_data"
    }
   ],
   "source": [
    "pd.concat([mileage, sellingPrice], axis=1).plot.bar(figsize=(20,12))\n",
    "plt.title(label='Mileage and Selling price comparison', size=18)\n",
    "plt.xlabel(xlabel='Brand', size=16)\n",
    "plt.ylabel(ylabel='Percentage', size=16)\n",
    "plt.xticks(size=14)\n",
    "plt.yticks(size=14)\n",
    "plt.legend(prop={'size': 20})\n",
    "plt.show()"
   ]
  },
  {
   "cell_type": "markdown",
   "id": "1231ebbc",
   "metadata": {},
   "source": [
    "**Observations**:\n",
    "\n",
    "- **Lexus, BWM, and Volvo** have better selling price and mileage.\n",
    "- **Renault, Maruti, Datsun, Honda** have better mileage but not much selling price.\n",
    "- Mileage of car doen't affect much on selling price of car.\n",
    "- People and found of better mileage car in less cost."
   ]
  },
  {
   "cell_type": "markdown",
   "id": "dc4ab463",
   "metadata": {},
   "source": [
    "**<h3>Question:** Which fuel type of car have more better selling price?</h3>"
   ]
  },
  {
   "cell_type": "code",
   "execution_count": 57,
   "id": "25dc6c2a",
   "metadata": {},
   "outputs": [
    {
     "data": {
      "image/png": "[encoded data removed]",
      "text/plain": [
       "<Figure size 1080x504 with 1 Axes>"
      ]
     },
     "metadata": {
      "needs_background": "light"
     },
     "output_type": "display_data"
    }
   ],
   "source": [
    "fig = plt.figure(figsize=(15, 7))\n",
    "\n",
    "# Plot countplot of age concerning treatment\n",
    "sns.countplot(x='fuel', hue='transmission', data=ds_car)\n",
    "\n",
    "# Add some cosmetics\n",
    "plt.title(label='Number cars on type of transmission', size=18)\n",
    "plt.xlabel(xlabel='Fuel type', size=16)\n",
    "plt.ylabel(ylabel='Frequency', size=16)\n",
    "plt.xticks(size=14)\n",
    "plt.yticks(size=14)\n",
    "plt.grid(b=True)\n",
    "\n",
    "# Display the plot\n",
    "plt.show()"
   ]
  },
  {
   "cell_type": "markdown",
   "id": "a818aebd",
   "metadata": {},
   "source": [
    "**Observations**:\n",
    "\n",
    "- Automatic diesel have better resale value.\n",
    "\n",
    "- Resale of Manual varient is almost similar of all fuel type.\n",
    "\n",
    "- LPG and CNG are not much papular in Automatic."
   ]
  },
  {
   "cell_type": "markdown",
   "id": "3a841903",
   "metadata": {},
   "source": [
    "**<h3>Question:** Which type of car have better average?</h3>"
   ]
  },
  {
   "cell_type": "code",
   "execution_count": 83,
   "id": "235efc6e",
   "metadata": {},
   "outputs": [
    {
     "data": {
      "image/png": "[encoded data removed]",
      "text/plain": [
       "<Figure size 432x288 with 1 Axes>"
      ]
     },
     "metadata": {
      "needs_background": "light"
     },
     "output_type": "display_data"
    }
   ],
   "source": [
    "ds_car.groupby(['transmission'])['mileage KMPL'].mean().plot.bar()\n",
    "plt.ylabel('Mileage in KMPL', fontSize = 12)\n",
    "plt.xlabel('Type of car', fontSize = 12)\n",
    "plt.title('Mileage of car based on transmission type')\n",
    "plt.show()"
   ]
  },
  {
   "cell_type": "markdown",
   "id": "fec12dd6",
   "metadata": {},
   "source": [
    "**Observations**:\n",
    "\n",
    "- Manual cars have better average."
   ]
  },
  {
   "cell_type": "markdown",
   "id": "cf64f70d",
   "metadata": {},
   "source": [
    "**<h3>Question:** Does value of car descrease based on how many people have sold?</h3>"
   ]
  },
  {
   "cell_type": "code",
   "execution_count": 84,
   "id": "5ba6d421",
   "metadata": {},
   "outputs": [
    {
     "data": {
      "image/png": "[encoded data removed]",
      "text/plain": [
       "<Figure size 576x288 with 1 Axes>"
      ]
     },
     "metadata": {
      "needs_background": "light"
     },
     "output_type": "display_data"
    }
   ],
   "source": [
    "fig = plt.figure(figsize=(8, 4))\n",
    "ds_car.groupby(['owner'])['selling_price'].mean().plot.line()\n",
    "plt.ylabel('Average selling price of car', fontSize = 12)\n",
    "plt.xlabel('Type or Owner', fontSize = 12)\n",
    "plt.title('Average selling price of car')\n",
    "plt.show()"
   ]
  },
  {
   "cell_type": "markdown",
   "id": "cdbb193a",
   "metadata": {},
   "source": [
    "**Observations**:\n",
    "\n",
    "- There is huge gap between test drive car and resale after that.\n",
    "- Price decrease little but my very little margine after first owner."
   ]
  },
  {
   "cell_type": "markdown",
   "id": "248d284b",
   "metadata": {},
   "source": [
    "**<h3>Question:** Does KM driven have impact of car price?</h3>"
   ]
  },
  {
   "cell_type": "code",
   "execution_count": 102,
   "id": "7ee8b20a",
   "metadata": {},
   "outputs": [
    {
     "data": {
      "text/plain": [
       "<Figure size 864x576 with 0 Axes>"
      ]
     },
     "metadata": {},
     "output_type": "display_data"
    },
    {
     "data": {
      "image/png": "[encoded data removed]",
      "text/plain": [
       "<Figure size 432x288 with 1 Axes>"
      ]
     },
     "metadata": {
      "needs_background": "light"
     },
     "output_type": "display_data"
    }
   ],
   "source": [
    "# make data: correlated + noise\n",
    "\n",
    "\n",
    "t = ds_car['power BHP']\n",
    "s = ds_car['mileage KMPL']\n",
    "\n",
    "\n",
    "#plt.plot.scatter(x= t, y= s)\n",
    "fig = plt.figure(figsize=(12, 8))\n",
    "\n",
    "fig, ax = plt.subplots()\n",
    "\n",
    "ax.hexbin(x= t, y= s, gridsize=20)\n",
    "\n",
    "\"\"\"fig, ax = plt.subplots()\n",
    "ax.plot(t, s)\n",
    "\n",
    "ax.set(xlabel='time (s)', ylabel='voltage (mV)',\n",
    "       title='About as simple as it gets, folks')\n",
    "ax.grid()\"\"\"\n",
    "\n",
    "plt.show()"
   ]
  },
  {
   "cell_type": "markdown",
   "id": "6e589e9e",
   "metadata": {},
   "source": [
    "**<h3>Question:** Which fuel type have more demand over the year?</h3>"
   ]
  },
  {
   "cell_type": "code",
   "execution_count": 87,
   "id": "15a08eee",
   "metadata": {},
   "outputs": [
    {
     "data": {
      "image/png": "[encoded data removed]",
      "text/plain": [
       "<Figure size 1080x576 with 1 Axes>"
      ]
     },
     "metadata": {
      "needs_background": "light"
     },
     "output_type": "display_data"
    }
   ],
   "source": [
    "fig = plt.figure(figsize=(15, 8))\n",
    "ds_car[ds_car['fuel'] == 'Diesel']['year'].value_counts().sort_index(ascending=False).plot.line(label = \"Diesel\")\n",
    "ds_car[ds_car['fuel'] == 'Petrol']['year'].value_counts().sort_index(ascending=False).plot.line(label = \"Petrol\")\n",
    "ds_car[ds_car['fuel'] == 'LPG']['year'].value_counts().sort_index(ascending=False).plot.line(label = \"LPG\")\n",
    "ds_car[ds_car['fuel'] == 'CNG']['year'].value_counts().sort_index(ascending=False).plot.line(label = \"CNG\")\n",
    "\n",
    "plt.xticks(np.arange(1995, 2022, 2))\n",
    "plt.yticks(np.append(np.arange(0, 50, 10),np.arange(50, 451, 100)))\n",
    "plt.xlabel('Year', fontSize = 14)\n",
    "plt.ylabel('Number of Car', fontSize = 14)\n",
    "plt.title('Number of car sold each year based on fuel type')\n",
    "plt.legend(loc = 'center left')\n",
    "plt.show()"
   ]
  },
  {
   "cell_type": "markdown",
   "id": "3508e98e",
   "metadata": {},
   "source": [
    "**Observations**:\n",
    "\n",
    "- An average diesel cars have **high demands** over the years.\n",
    "- Petrol cars had a picked demand in the years **2016, 2017**.\n",
    "- All cars demand to decrease drastically in **2020**.\n",
    "- LPG cars started their little popularity in **2006**, but almost ended in 2015.\n",
    "- CNG demand as almost the same every year since **2008** that is very less as compared to diesel and petrol."
   ]
  },
  {
   "cell_type": "markdown",
   "id": "b6d118ec",
   "metadata": {},
   "source": [
    "**<h3>Question:** Which fuel type have more demand amomg owners?</h3>"
   ]
  },
  {
   "cell_type": "code",
   "execution_count": 88,
   "id": "7fdf6482",
   "metadata": {},
   "outputs": [
    {
     "data": {
      "text/plain": [
       "<Figure size 1080x576 with 0 Axes>"
      ]
     },
     "metadata": {},
     "output_type": "display_data"
    },
    {
     "data": {
      "image/png": "[encoded data removed]",
      "text/plain": [
       "<Figure size 1080x576 with 1 Axes>"
      ]
     },
     "metadata": {
      "needs_background": "light"
     },
     "output_type": "display_data"
    }
   ],
   "source": [
    "fig = plt.figure(figsize=(15, 8))\n",
    "\n",
    "visualdata = ds_car.groupby(['owner','fuel'])['km_driven'].mean().unstack('fuel').fillna(0)\n",
    "visualdata.plot(kind='bar', stacked=True, figsize = (15,8))\n",
    "plt.xlabel('Owner',fontSize = 14)\n",
    "plt.ylabel('Average KM driven')\n",
    "plt.title('Average KM driven in for each fuel type by different owner')\n",
    "plt.show()"
   ]
  },
  {
   "cell_type": "markdown",
   "id": "b5fba219",
   "metadata": {},
   "source": [
    "**Observations**:\n",
    "- Test drive are mostly done on petrol varient\n",
    "- Diesel car are used most out of all varient"
   ]
  },
  {
   "cell_type": "markdown",
   "id": "fe0bd3d3",
   "metadata": {},
   "source": [
    "**<h3>Question:** Which brand have most varienty of cars in market?</h3>"
   ]
  },
  {
   "cell_type": "code",
   "execution_count": 136,
   "id": "e83217ad",
   "metadata": {},
   "outputs": [],
   "source": [
    "ds_sub_top_brand = ds_car.groupby(by='brand')['sub_brand'].nunique().sort_values(ascending=False)[0:11]"
   ]
  },
  {
   "cell_type": "code",
   "execution_count": 138,
   "id": "c3c9d331",
   "metadata": {},
   "outputs": [
    {
     "data": {
      "image/png": "[encoded data removed]",
      "text/plain": [
       "<Figure size 1080x504 with 1 Axes>"
      ]
     },
     "metadata": {
      "needs_background": "light"
     },
     "output_type": "display_data"
    }
   ],
   "source": [
    "# Create a figure of 15 x 7 inches\n",
    "plt.figure(figsize=(15,7))\n",
    "\n",
    "# Plot \n",
    "plt.hlines(ds_sub_top_brand.index,xmin=0,xmax=ds_sub_top_brand,color='blue')\n",
    "plt.plot(ds_sub_top_brand,ds_sub_top_brand.index , \"D\")\n",
    "\n",
    "# Adding some cosmetics\n",
    "plt.xlabel(xlabel='No. of varient', fontsize=14)\n",
    "plt.ylabel(ylabel='Brand', fontsize=14)\n",
    "plt.xticks(fontsize=12)\n",
    "plt.yticks(fontsize=12)\n",
    "plt.title(label='Number of cars for different brands.', fontsize=16)\n",
    "plt.grid(b=True)\n",
    "\n",
    "# Display the plot\n",
    "plt.show()"
   ]
  },
  {
   "cell_type": "markdown",
   "id": "8246983a",
   "metadata": {},
   "source": [
    "**Observations**:\n",
    "- **Maruti, Tata, Mahindra, Hundai** have most number of varient in market. "
   ]
  },
  {
   "cell_type": "markdown",
   "id": "f440c455",
   "metadata": {},
   "source": [
    "<a name = Section9></a>\n",
    "\n",
    "---\n",
    "# **9. Summarization**\n",
    "---"
   ]
  },
  {
   "cell_type": "markdown",
   "id": "5a5b8239",
   "metadata": {},
   "source": [
    "<a name = Section91></a>\n",
    "### **9.1 Conclusion**\n",
    "\n",
    "- **Diesel** cars are more popular in the market.\n",
    "\n",
    "- **2011** to **2018** may people opted for pre-owned cars\n",
    "\n",
    "- **Maruti, Hyundai, Mahindra and Tata** are top-selling cars.\n",
    "\n",
    "- Most cars of range of **1000** to **1500** CC\n",
    "\n",
    "- **Automatic** transmission cards are getting popularity, instead of little advantage in mileage in **manual** cars."
   ]
  },
  {
   "cell_type": "markdown",
   "id": "8225d907",
   "metadata": {},
   "source": [
    "<a name = Section92></a>\n",
    "### **9.2 Actionable Insights**\n",
    "\n",
    "- Awareness programs should be conducted about **CNG** and **LPG** cars to make cars environment friendly.\n",
    "\n",
    "- As automatic cars are getting popular day by day we should also bring **CNG** and **LPG** variants soon.\n",
    "\n",
    "- Promote trusted dealers to come to business so that the best quality and trusted pre-owned cars are sold out.\n",
    "\n",
    "- **Ashok, Datsum, Renault and Lexus** have better average they should work more on advertisement of their brand.    \n",
    "\n",
    "- Because of Covid and WFH policies car sales is reduced, the government should reduce taxes and the company should reduce the cost of the car to gain market again.\n",
    "\n",
    "- Top-selling brands like **Maruti, Hyundai, Mahindra, Tata, Honda** should recommend and provide discounts on LPG and CNG cars.\n",
    "\n",
    "- Empower your customers to actively share their details, **make your customers part of the process**.\n",
    "\n",
    "- Encourage them to share their **data** with you through **conversations**, **surveys**, and other **research methods**.\n",
    "\n",
    "- Doing so not only help you get to know them better but also **builds trust**.\n",
    "\n",
    "- It would be important to **talk with the e-commerce team to understand the business, customers, strategic and tactical objectives**."
   ]
  }
 ],
 "metadata": {
  "kernelspec": {
   "display_name": "Python 3 (ipykernel)",
   "language": "python",
   "name": "python3"
  },
  "language_info": {
   "codemirror_mode": {
    "name": "ipython",
    "version": 3
   },
   "file_extension": ".py",
   "mimetype": "text/x-python",
   "name": "python",
   "nbconvert_exporter": "python",
   "pygments_lexer": "ipython3",
   "version": "3.9.7"
  }
 },
 "nbformat": 4,
 "nbformat_minor": 5
}
