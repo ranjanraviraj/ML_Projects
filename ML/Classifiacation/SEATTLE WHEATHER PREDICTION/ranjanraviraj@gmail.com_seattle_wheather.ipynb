{
 "cells": [
  {
   "cell_type": "markdown",
   "id": "4b47bab8",
   "metadata": {},
   "source": [
    "# <center><b>SEATTLE WHEATHER PREDICTION<b></center>"
   ]
  },
  {
   "cell_type": "markdown",
   "id": "c61c3185",
   "metadata": {},
   "source": [
    "---\n",
    "# **Table of Contents**\n",
    "---\n",
    "\n",
    "**1.** [**Introduction**](#Section1)<br>\n",
    "**2.** [**Problem Statement**](#Section2)<br>\n",
    "**3.** [**Installing & Importing Libraries**](#Section3)<br>\n",
    "  - **3.1** [**Installing Libraries**](#Section31)\n",
    "  - **3.2** [**Importing Libraries**](#Section33)\n",
    "\n",
    "**4.** [**Data Acquisition & Description**](#Section4)<br>\n",
    "  - **4.1** [**Data Information**](#Section42)\n",
    "\n",
    "**5.** [**Data Pre-Profiling**](#Section5)<br>\n",
    "  - **5.1** [**Missing value**](#Section51)\n",
    "  - **5.2** [**Duplicate rows**](#Section52)\n",
    "  - **5.3** [**Outliers**](#Section53)\n",
    "\n",
    "**6.** [**Data Cleaning**](#Section6)<br>\n",
    "**7.** [**Data Post-Profiling**](#Section7)<br>\n",
    "**8.** [**Exploratory Data Analysis**](#Section8)<br>\n",
    "**9.** [**Summarization**](#Section9)<br>\n",
    "  - **9.1** [**Conclusion**](#Section91)<br>\n",
    "  - **9.2** [**Actionable Insights**](#Section92)<br>"
   ]
  },
  {
   "cell_type": "markdown",
   "id": "5d6e3d53",
   "metadata": {},
   "source": [
    "---\n",
    "<a name = Section1></a>\n",
    "# **1. Introduction**\n",
    "---\n",
    "\n",
    "- **Weather prediction** of any city is one of the factors of its development.\n",
    "\n",
    "- It helps **people** and **organizations** can use to reduce weather-related ***losses*** and enhance societal benefits, including protection of life and property, public health and safety, and support of economic prosperity and quality of life. \n",
    "\n",
    "- Prediction of rainfall is **crucial** because extreme rainfall is **life-threatening**.\n",
    "\n",
    "<center><img width=40% src=\"https://s.hdnux.com/photos/01/16/13/72/20496055/5/rawImage.jpg\"></center>\n",
    "\n",
    "- The case study considers a report and prediction of **Seattle** city on rainfall."
   ]
  },
  {
   "cell_type": "markdown",
   "id": "7d50b9bf",
   "metadata": {},
   "source": [
    "---\n",
    "<a name = Section2></a>\n",
    "# **2. Problem Statement**\n",
    "---\n",
    "\n",
    "- The forecasting process is based on making predictions using a large number of variables and performing complex calculations on them.\n",
    "- This results in a massive load on the servers and also causes a slight delay in receiving the forecasts.\n",
    "- In a data science role I have been hired to analyse and create a model which can predict rainfall in Seattle city.\n",
    "- With help of this analysis people and organizations can be cautious and plan their next steps.\n",
    "- This would be a **leading step** to help each one to react to upcoming weather conditions."
   ]
  },
  {
   "cell_type": "markdown",
   "id": "60dee13d",
   "metadata": {},
   "source": [
    "---\n",
    "<a name = Section3></a>\n",
    "# **3. Importing Libraries**\n",
    "---"
   ]
  },
  {
   "cell_type": "code",
   "execution_count": 1,
   "id": "bc1191ad",
   "metadata": {},
   "outputs": [],
   "source": [
    "#-------------------------------------------------------------------------------------------------------------------------------\n",
    "import pandas as pd                                                 # Importing for panel data analysis\n",
    "pd.set_option('display.max_columns', None)                          # Unfolding hidden features if the cardinality is high\n",
    "pd.set_option('display.max_colwidth', None)                         # Unfolding the max feature width for better clearity\n",
    "pd.set_option('display.max_rows', None)                             # Unfolding hidden data points if the cardinality is high\n",
    "pd.set_option('mode.chained_assignment', None)                      # Removing restriction over chained assignments operations\n",
    "pd.set_option('display.float_format', lambda x: '%.2f' % x)         # To suppress scientific notation over exponential values\n",
    "%matplotlib inline\n",
    "#-------------------------------------------------------------------------------------------------------------------------------\n",
    "import numpy as np                                                  # Importing package numpys (For Numerical Python)\n",
    "#-------------------------------------------------------------------------------------------------------------------------------\n",
    "import matplotlib.pyplot as plt                                     # Importing pyplot interface of matplotlib\n",
    "import seaborn as sns                                                # For datetime operations\n",
    "#-------------------------------------------------------------------------------------------------------------------------------\n",
    "import warnings                                                     # Importing warning to disable runtime warnings\n",
    "warnings.filterwarnings(\"ignore\")                                   # Warnings will appear only once\n",
    "import re"
   ]
  },
  {
   "cell_type": "markdown",
   "id": "24c939f1",
   "metadata": {},
   "source": [
    "---\n",
    "<a name = Section4></a>\n",
    "# **4. Data Acquisition & Description**\n",
    "---\n",
    "\n",
    "\n",
    "- The dataset consists of information about the weather condition of Seattle city.\n",
    "\n",
    "| Records | Features | Dataset Size |\n",
    "| :--: | :--: | :--: |\n",
    "| 20440 | 6 | 958.2 KB | \n",
    "\n",
    "<br>\n",
    "\n",
    "| # | Feature Name | Feature Description |\n",
    "|:--:|:--|:--| \n",
    "|1| Id | Unique identity of each observation |\n",
    "|2| DATE | The date of the observation  |\n",
    "|3| PRCP | The amount of precipitation, in inches |\n",
    "|4| TMAX | The maximum temperature for that day, in degrees Fahrenheit |\n",
    "|5| TMIN | The minimum temperature for that day, in degrees Fahrenheit |\n",
    "|6| RAIN | TRUE if rain was observed on that day, FALSE if it was not |"
   ]
  },
  {
   "cell_type": "code",
   "execution_count": 2,
   "id": "fcba47cf",
   "metadata": {},
   "outputs": [
    {
     "name": "stdout",
     "output_type": "stream",
     "text": [
      "Data shape :  (20440, 6)\n"
     ]
    },
    {
     "data": {
      "text/html": [
       "<div>\n",
       "<style scoped>\n",
       "    .dataframe tbody tr th:only-of-type {\n",
       "        vertical-align: middle;\n",
       "    }\n",
       "\n",
       "    .dataframe tbody tr th {\n",
       "        vertical-align: top;\n",
       "    }\n",
       "\n",
       "    .dataframe thead th {\n",
       "        text-align: right;\n",
       "    }\n",
       "</style>\n",
       "<table border=\"1\" class=\"dataframe\">\n",
       "  <thead>\n",
       "    <tr style=\"text-align: right;\">\n",
       "      <th></th>\n",
       "      <th>Id</th>\n",
       "      <th>DATE</th>\n",
       "      <th>PRCP</th>\n",
       "      <th>TMAX</th>\n",
       "      <th>TMIN</th>\n",
       "      <th>RAIN</th>\n",
       "    </tr>\n",
       "  </thead>\n",
       "  <tbody>\n",
       "    <tr>\n",
       "      <th>0</th>\n",
       "      <td>0</td>\n",
       "      <td>1948-01-01</td>\n",
       "      <td>0.47</td>\n",
       "      <td>51</td>\n",
       "      <td>42</td>\n",
       "      <td>True</td>\n",
       "    </tr>\n",
       "    <tr>\n",
       "      <th>1</th>\n",
       "      <td>1</td>\n",
       "      <td>1948-01-02</td>\n",
       "      <td>0.59</td>\n",
       "      <td>45</td>\n",
       "      <td>36</td>\n",
       "      <td>True</td>\n",
       "    </tr>\n",
       "    <tr>\n",
       "      <th>2</th>\n",
       "      <td>2</td>\n",
       "      <td>1948-01-03</td>\n",
       "      <td>0.42</td>\n",
       "      <td>45</td>\n",
       "      <td>35</td>\n",
       "      <td>True</td>\n",
       "    </tr>\n",
       "    <tr>\n",
       "      <th>3</th>\n",
       "      <td>3</td>\n",
       "      <td>1948-01-04</td>\n",
       "      <td>0.31</td>\n",
       "      <td>45</td>\n",
       "      <td>34</td>\n",
       "      <td>True</td>\n",
       "    </tr>\n",
       "    <tr>\n",
       "      <th>4</th>\n",
       "      <td>4</td>\n",
       "      <td>1948-01-05</td>\n",
       "      <td>0.17</td>\n",
       "      <td>45</td>\n",
       "      <td>32</td>\n",
       "      <td>True</td>\n",
       "    </tr>\n",
       "  </tbody>\n",
       "</table>\n",
       "</div>"
      ],
      "text/plain": [
       "   Id        DATE  PRCP  TMAX  TMIN  RAIN\n",
       "0   0  1948-01-01  0.47    51    42  True\n",
       "1   1  1948-01-02  0.59    45    36  True\n",
       "2   2  1948-01-03  0.42    45    35  True\n",
       "3   3  1948-01-04  0.31    45    34  True\n",
       "4   4  1948-01-05  0.17    45    32  True"
      ]
     },
     "execution_count": 2,
     "metadata": {},
     "output_type": "execute_result"
    }
   ],
   "source": [
    "ds_weather = pd.read_csv('seattle_train.csv')\n",
    "print('Data shape : ', ds_weather.shape)\n",
    "ds_weather.head()"
   ]
  },
  {
   "cell_type": "code",
   "execution_count": 3,
   "id": "0f95d70b",
   "metadata": {},
   "outputs": [
    {
     "name": "stdout",
     "output_type": "stream",
     "text": [
      "<class 'pandas.core.frame.DataFrame'>\n",
      "RangeIndex: 20440 entries, 0 to 20439\n",
      "Data columns (total 6 columns):\n",
      " #   Column  Non-Null Count  Dtype  \n",
      "---  ------  --------------  -----  \n",
      " 0   Id      20440 non-null  int64  \n",
      " 1   DATE    20440 non-null  object \n",
      " 2   PRCP    20438 non-null  float64\n",
      " 3   TMAX    20440 non-null  int64  \n",
      " 4   TMIN    20440 non-null  int64  \n",
      " 5   RAIN    20438 non-null  object \n",
      "dtypes: float64(1), int64(3), object(2)\n",
      "memory usage: 958.2+ KB\n"
     ]
    }
   ],
   "source": [
    "ds_weather.info()"
   ]
  },
  {
   "cell_type": "code",
   "execution_count": 4,
   "id": "c53bc87f",
   "metadata": {},
   "outputs": [
    {
     "data": {
      "text/html": [
       "<div>\n",
       "<style scoped>\n",
       "    .dataframe tbody tr th:only-of-type {\n",
       "        vertical-align: middle;\n",
       "    }\n",
       "\n",
       "    .dataframe tbody tr th {\n",
       "        vertical-align: top;\n",
       "    }\n",
       "\n",
       "    .dataframe thead th {\n",
       "        text-align: right;\n",
       "    }\n",
       "</style>\n",
       "<table border=\"1\" class=\"dataframe\">\n",
       "  <thead>\n",
       "    <tr style=\"text-align: right;\">\n",
       "      <th></th>\n",
       "      <th>Id</th>\n",
       "      <th>PRCP</th>\n",
       "      <th>TMAX</th>\n",
       "      <th>TMIN</th>\n",
       "    </tr>\n",
       "  </thead>\n",
       "  <tbody>\n",
       "    <tr>\n",
       "      <th>count</th>\n",
       "      <td>20440.00</td>\n",
       "      <td>20438.00</td>\n",
       "      <td>20440.00</td>\n",
       "      <td>20440.00</td>\n",
       "    </tr>\n",
       "    <tr>\n",
       "      <th>mean</th>\n",
       "      <td>10219.50</td>\n",
       "      <td>0.10</td>\n",
       "      <td>59.30</td>\n",
       "      <td>44.19</td>\n",
       "    </tr>\n",
       "    <tr>\n",
       "      <th>std</th>\n",
       "      <td>5900.66</td>\n",
       "      <td>0.24</td>\n",
       "      <td>12.70</td>\n",
       "      <td>8.83</td>\n",
       "    </tr>\n",
       "    <tr>\n",
       "      <th>min</th>\n",
       "      <td>0.00</td>\n",
       "      <td>0.00</td>\n",
       "      <td>4.00</td>\n",
       "      <td>0.00</td>\n",
       "    </tr>\n",
       "    <tr>\n",
       "      <th>25%</th>\n",
       "      <td>5109.75</td>\n",
       "      <td>0.00</td>\n",
       "      <td>50.00</td>\n",
       "      <td>38.00</td>\n",
       "    </tr>\n",
       "    <tr>\n",
       "      <th>50%</th>\n",
       "      <td>10219.50</td>\n",
       "      <td>0.00</td>\n",
       "      <td>58.00</td>\n",
       "      <td>44.00</td>\n",
       "    </tr>\n",
       "    <tr>\n",
       "      <th>75%</th>\n",
       "      <td>15329.25</td>\n",
       "      <td>0.10</td>\n",
       "      <td>69.00</td>\n",
       "      <td>51.00</td>\n",
       "    </tr>\n",
       "    <tr>\n",
       "      <th>max</th>\n",
       "      <td>20439.00</td>\n",
       "      <td>5.02</td>\n",
       "      <td>100.00</td>\n",
       "      <td>69.00</td>\n",
       "    </tr>\n",
       "  </tbody>\n",
       "</table>\n",
       "</div>"
      ],
      "text/plain": [
       "            Id     PRCP     TMAX     TMIN\n",
       "count 20440.00 20438.00 20440.00 20440.00\n",
       "mean  10219.50     0.10    59.30    44.19\n",
       "std    5900.66     0.24    12.70     8.83\n",
       "min       0.00     0.00     4.00     0.00\n",
       "25%    5109.75     0.00    50.00    38.00\n",
       "50%   10219.50     0.00    58.00    44.00\n",
       "75%   15329.25     0.10    69.00    51.00\n",
       "max   20439.00     5.02   100.00    69.00"
      ]
     },
     "execution_count": 4,
     "metadata": {},
     "output_type": "execute_result"
    }
   ],
   "source": [
    "ds_weather.describe()"
   ]
  },
  {
   "cell_type": "code",
   "execution_count": 5,
   "id": "cb82eb26",
   "metadata": {},
   "outputs": [
    {
     "data": {
      "text/plain": [
       "False   0.58\n",
       "True    0.42\n",
       "Name: RAIN, dtype: float64"
      ]
     },
     "execution_count": 5,
     "metadata": {},
     "output_type": "execute_result"
    }
   ],
   "source": [
    "(ds_weather.RAIN.value_counts())/ds_weather.shape[0]"
   ]
  },
  {
   "cell_type": "markdown",
   "id": "8a597f02",
   "metadata": {},
   "source": [
    "**Observations:**\n",
    "\n",
    "- We can see there are a total of **20440** records and **6** features.\n",
    "\n",
    "- Feature **RAIN** will be used as the target variable where the model will predict there will be rain in Seattle city.\n",
    "- Max and min temperature are ***normally* distributed**. \n",
    "- Precipitation is ***left* skewed**.\n",
    "- Rain date is distributed as *58* and *42* percentage."
   ]
  },
  {
   "cell_type": "markdown",
   "id": "8564ce15",
   "metadata": {},
   "source": [
    "<a name = Section5></a>\n",
    "\n",
    "---\n",
    "# **5. Data Pre-Profiling**\n",
    "---"
   ]
  },
  {
   "cell_type": "code",
   "execution_count": 6,
   "id": "64b18d12",
   "metadata": {},
   "outputs": [
    {
     "data": {
      "text/plain": [
       "Id      0\n",
       "DATE    0\n",
       "PRCP    2\n",
       "TMAX    0\n",
       "TMIN    0\n",
       "RAIN    2\n",
       "dtype: int64"
      ]
     },
     "execution_count": 6,
     "metadata": {},
     "output_type": "execute_result"
    }
   ],
   "source": [
    "ds_weather.shape[0]-ds_weather.count()"
   ]
  },
  {
   "cell_type": "markdown",
   "id": "b7bb3196",
   "metadata": {},
   "source": [
    "**Observations:**\n",
    "\n",
    "- We have precipitation and rain as two missing values.\n",
    "- We will fill rain as the mode and precipitation as the mean."
   ]
  },
  {
   "cell_type": "code",
   "execution_count": 7,
   "id": "bf79249d",
   "metadata": {},
   "outputs": [
    {
     "data": {
      "text/plain": [
       "(0, 6)"
      ]
     },
     "execution_count": 7,
     "metadata": {},
     "output_type": "execute_result"
    }
   ],
   "source": [
    "ds_weather[ds_weather.duplicated()].shape"
   ]
  },
  {
   "cell_type": "markdown",
   "id": "e38daf6b",
   "metadata": {},
   "source": [
    "**Observations:**\n",
    "\n",
    "- We don't have any duplicate records."
   ]
  },
  {
   "cell_type": "code",
   "execution_count": 8,
   "id": "c3743154",
   "metadata": {},
   "outputs": [
    {
     "data": {
      "text/html": [
       "<div>\n",
       "<style scoped>\n",
       "    .dataframe tbody tr th:only-of-type {\n",
       "        vertical-align: middle;\n",
       "    }\n",
       "\n",
       "    .dataframe tbody tr th {\n",
       "        vertical-align: top;\n",
       "    }\n",
       "\n",
       "    .dataframe thead th {\n",
       "        text-align: right;\n",
       "    }\n",
       "</style>\n",
       "<table border=\"1\" class=\"dataframe\">\n",
       "  <thead>\n",
       "    <tr style=\"text-align: right;\">\n",
       "      <th></th>\n",
       "      <th>Id</th>\n",
       "      <th>DATE</th>\n",
       "      <th>PRCP</th>\n",
       "      <th>TMAX</th>\n",
       "      <th>TMIN</th>\n",
       "      <th>RAIN</th>\n",
       "    </tr>\n",
       "  </thead>\n",
       "  <tbody>\n",
       "    <tr>\n",
       "      <th>count</th>\n",
       "      <td>20440.00</td>\n",
       "      <td>20440</td>\n",
       "      <td>20438.00</td>\n",
       "      <td>20440.00</td>\n",
       "      <td>20440.00</td>\n",
       "      <td>20438</td>\n",
       "    </tr>\n",
       "    <tr>\n",
       "      <th>unique</th>\n",
       "      <td>NaN</td>\n",
       "      <td>20440</td>\n",
       "      <td>NaN</td>\n",
       "      <td>NaN</td>\n",
       "      <td>NaN</td>\n",
       "      <td>2</td>\n",
       "    </tr>\n",
       "    <tr>\n",
       "      <th>top</th>\n",
       "      <td>NaN</td>\n",
       "      <td>1948-01-01</td>\n",
       "      <td>NaN</td>\n",
       "      <td>NaN</td>\n",
       "      <td>NaN</td>\n",
       "      <td>False</td>\n",
       "    </tr>\n",
       "    <tr>\n",
       "      <th>freq</th>\n",
       "      <td>NaN</td>\n",
       "      <td>1</td>\n",
       "      <td>NaN</td>\n",
       "      <td>NaN</td>\n",
       "      <td>NaN</td>\n",
       "      <td>11771</td>\n",
       "    </tr>\n",
       "    <tr>\n",
       "      <th>mean</th>\n",
       "      <td>10219.50</td>\n",
       "      <td>NaN</td>\n",
       "      <td>0.10</td>\n",
       "      <td>59.30</td>\n",
       "      <td>44.19</td>\n",
       "      <td>NaN</td>\n",
       "    </tr>\n",
       "    <tr>\n",
       "      <th>std</th>\n",
       "      <td>5900.66</td>\n",
       "      <td>NaN</td>\n",
       "      <td>0.24</td>\n",
       "      <td>12.70</td>\n",
       "      <td>8.83</td>\n",
       "      <td>NaN</td>\n",
       "    </tr>\n",
       "    <tr>\n",
       "      <th>min</th>\n",
       "      <td>0.00</td>\n",
       "      <td>NaN</td>\n",
       "      <td>0.00</td>\n",
       "      <td>4.00</td>\n",
       "      <td>0.00</td>\n",
       "      <td>NaN</td>\n",
       "    </tr>\n",
       "    <tr>\n",
       "      <th>25%</th>\n",
       "      <td>5109.75</td>\n",
       "      <td>NaN</td>\n",
       "      <td>0.00</td>\n",
       "      <td>50.00</td>\n",
       "      <td>38.00</td>\n",
       "      <td>NaN</td>\n",
       "    </tr>\n",
       "    <tr>\n",
       "      <th>50%</th>\n",
       "      <td>10219.50</td>\n",
       "      <td>NaN</td>\n",
       "      <td>0.00</td>\n",
       "      <td>58.00</td>\n",
       "      <td>44.00</td>\n",
       "      <td>NaN</td>\n",
       "    </tr>\n",
       "    <tr>\n",
       "      <th>75%</th>\n",
       "      <td>15329.25</td>\n",
       "      <td>NaN</td>\n",
       "      <td>0.10</td>\n",
       "      <td>69.00</td>\n",
       "      <td>51.00</td>\n",
       "      <td>NaN</td>\n",
       "    </tr>\n",
       "    <tr>\n",
       "      <th>max</th>\n",
       "      <td>20439.00</td>\n",
       "      <td>NaN</td>\n",
       "      <td>5.02</td>\n",
       "      <td>100.00</td>\n",
       "      <td>69.00</td>\n",
       "      <td>NaN</td>\n",
       "    </tr>\n",
       "  </tbody>\n",
       "</table>\n",
       "</div>"
      ],
      "text/plain": [
       "             Id        DATE     PRCP     TMAX     TMIN   RAIN\n",
       "count  20440.00       20440 20438.00 20440.00 20440.00  20438\n",
       "unique      NaN       20440      NaN      NaN      NaN      2\n",
       "top         NaN  1948-01-01      NaN      NaN      NaN  False\n",
       "freq        NaN           1      NaN      NaN      NaN  11771\n",
       "mean   10219.50         NaN     0.10    59.30    44.19    NaN\n",
       "std     5900.66         NaN     0.24    12.70     8.83    NaN\n",
       "min        0.00         NaN     0.00     4.00     0.00    NaN\n",
       "25%     5109.75         NaN     0.00    50.00    38.00    NaN\n",
       "50%    10219.50         NaN     0.00    58.00    44.00    NaN\n",
       "75%    15329.25         NaN     0.10    69.00    51.00    NaN\n",
       "max    20439.00         NaN     5.02   100.00    69.00    NaN"
      ]
     },
     "execution_count": 8,
     "metadata": {},
     "output_type": "execute_result"
    }
   ],
   "source": [
    "ds_weather.describe(include='all')"
   ]
  },
  {
   "cell_type": "markdown",
   "id": "7d9fe2e1",
   "metadata": {},
   "source": [
    "**Observations:**\n",
    "\n",
    "- Date time is of type object, need to correct to data and time for better anylysis.\n",
    "- There are some outliers for precipitation data. \n",
    "- I am choosing not to correct it as data seems to be permissible region."
   ]
  },
  {
   "cell_type": "markdown",
   "id": "4f39d237",
   "metadata": {},
   "source": [
    "<a name = Section6></a>\n",
    "\n",
    "---\n",
    "# **6. Data Cleaning**\n",
    "---\n",
    "\n",
    "- In this section, we will perform the **cleaning** operations over the features using information from the previous section.\n",
    "\n",
    "- As the above analysis we are treating missing value and converting date feature datatype."
   ]
  },
  {
   "cell_type": "code",
   "execution_count": 9,
   "id": "e9096ad7",
   "metadata": {},
   "outputs": [
    {
     "name": "stdout",
     "output_type": "stream",
     "text": [
      "<class 'pandas.core.frame.DataFrame'>\n",
      "RangeIndex: 20440 entries, 0 to 20439\n",
      "Data columns (total 7 columns):\n",
      " #   Column  Non-Null Count  Dtype         \n",
      "---  ------  --------------  -----         \n",
      " 0   Id      20440 non-null  int64         \n",
      " 1   DATE    20440 non-null  object        \n",
      " 2   PRCP    20438 non-null  float64       \n",
      " 3   TMAX    20440 non-null  int64         \n",
      " 4   TMIN    20440 non-null  int64         \n",
      " 5   RAIN    20438 non-null  object        \n",
      " 6   DATE_C  20440 non-null  datetime64[ns]\n",
      "dtypes: datetime64[ns](1), float64(1), int64(3), object(2)\n",
      "memory usage: 1.1+ MB\n"
     ]
    }
   ],
   "source": [
    "ds_weather['DATE_C'] = pd.to_datetime(ds_weather['DATE'])\n",
    "ds_weather.info()"
   ]
  },
  {
   "cell_type": "code",
   "execution_count": 10,
   "id": "48f4f320",
   "metadata": {},
   "outputs": [
    {
     "data": {
      "text/html": [
       "<div>\n",
       "<style scoped>\n",
       "    .dataframe tbody tr th:only-of-type {\n",
       "        vertical-align: middle;\n",
       "    }\n",
       "\n",
       "    .dataframe tbody tr th {\n",
       "        vertical-align: top;\n",
       "    }\n",
       "\n",
       "    .dataframe thead th {\n",
       "        text-align: right;\n",
       "    }\n",
       "</style>\n",
       "<table border=\"1\" class=\"dataframe\">\n",
       "  <thead>\n",
       "    <tr style=\"text-align: right;\">\n",
       "      <th></th>\n",
       "      <th>Id</th>\n",
       "      <th>PRCP</th>\n",
       "      <th>TMAX</th>\n",
       "      <th>TMIN</th>\n",
       "      <th>YEAR</th>\n",
       "      <th>MONTH</th>\n",
       "      <th>DAY</th>\n",
       "    </tr>\n",
       "  </thead>\n",
       "  <tbody>\n",
       "    <tr>\n",
       "      <th>count</th>\n",
       "      <td>20440.00</td>\n",
       "      <td>20438.00</td>\n",
       "      <td>20440.00</td>\n",
       "      <td>20440.00</td>\n",
       "      <td>20440.00</td>\n",
       "      <td>20440.00</td>\n",
       "      <td>20440.00</td>\n",
       "    </tr>\n",
       "    <tr>\n",
       "      <th>mean</th>\n",
       "      <td>10219.50</td>\n",
       "      <td>0.10</td>\n",
       "      <td>59.30</td>\n",
       "      <td>44.19</td>\n",
       "      <td>1975.48</td>\n",
       "      <td>6.52</td>\n",
       "      <td>15.72</td>\n",
       "    </tr>\n",
       "    <tr>\n",
       "      <th>std</th>\n",
       "      <td>5900.66</td>\n",
       "      <td>0.24</td>\n",
       "      <td>12.70</td>\n",
       "      <td>8.83</td>\n",
       "      <td>16.15</td>\n",
       "      <td>3.45</td>\n",
       "      <td>8.80</td>\n",
       "    </tr>\n",
       "    <tr>\n",
       "      <th>min</th>\n",
       "      <td>0.00</td>\n",
       "      <td>0.00</td>\n",
       "      <td>4.00</td>\n",
       "      <td>0.00</td>\n",
       "      <td>1948.00</td>\n",
       "      <td>1.00</td>\n",
       "      <td>1.00</td>\n",
       "    </tr>\n",
       "    <tr>\n",
       "      <th>25%</th>\n",
       "      <td>5109.75</td>\n",
       "      <td>0.00</td>\n",
       "      <td>50.00</td>\n",
       "      <td>38.00</td>\n",
       "      <td>1961.00</td>\n",
       "      <td>4.00</td>\n",
       "      <td>8.00</td>\n",
       "    </tr>\n",
       "    <tr>\n",
       "      <th>50%</th>\n",
       "      <td>10219.50</td>\n",
       "      <td>0.00</td>\n",
       "      <td>58.00</td>\n",
       "      <td>44.00</td>\n",
       "      <td>1975.00</td>\n",
       "      <td>7.00</td>\n",
       "      <td>16.00</td>\n",
       "    </tr>\n",
       "    <tr>\n",
       "      <th>75%</th>\n",
       "      <td>15329.25</td>\n",
       "      <td>0.10</td>\n",
       "      <td>69.00</td>\n",
       "      <td>51.00</td>\n",
       "      <td>1989.00</td>\n",
       "      <td>10.00</td>\n",
       "      <td>23.00</td>\n",
       "    </tr>\n",
       "    <tr>\n",
       "      <th>max</th>\n",
       "      <td>20439.00</td>\n",
       "      <td>5.02</td>\n",
       "      <td>100.00</td>\n",
       "      <td>69.00</td>\n",
       "      <td>2003.00</td>\n",
       "      <td>12.00</td>\n",
       "      <td>31.00</td>\n",
       "    </tr>\n",
       "  </tbody>\n",
       "</table>\n",
       "</div>"
      ],
      "text/plain": [
       "            Id     PRCP     TMAX     TMIN     YEAR    MONTH      DAY\n",
       "count 20440.00 20438.00 20440.00 20440.00 20440.00 20440.00 20440.00\n",
       "mean  10219.50     0.10    59.30    44.19  1975.48     6.52    15.72\n",
       "std    5900.66     0.24    12.70     8.83    16.15     3.45     8.80\n",
       "min       0.00     0.00     4.00     0.00  1948.00     1.00     1.00\n",
       "25%    5109.75     0.00    50.00    38.00  1961.00     4.00     8.00\n",
       "50%   10219.50     0.00    58.00    44.00  1975.00     7.00    16.00\n",
       "75%   15329.25     0.10    69.00    51.00  1989.00    10.00    23.00\n",
       "max   20439.00     5.02   100.00    69.00  2003.00    12.00    31.00"
      ]
     },
     "execution_count": 10,
     "metadata": {},
     "output_type": "execute_result"
    }
   ],
   "source": [
    "ds_weather['YEAR'] = ds_weather['DATE_C'].dt.year\n",
    "ds_weather['MONTH'] = ds_weather['DATE_C'].dt.month\n",
    "ds_weather['DAY'] = ds_weather['DATE_C'].dt.day\n",
    "ds_weather.describe()"
   ]
  },
  {
   "cell_type": "markdown",
   "id": "834b8c9a",
   "metadata": {},
   "source": [
    "**Observations:**\n",
    "\n",
    "- We Converted datatype to date.\n",
    "- We also extracted year, month and day from the date as part of feature engineering."
   ]
  },
  {
   "cell_type": "code",
   "execution_count": 11,
   "id": "ce00e43b",
   "metadata": {},
   "outputs": [],
   "source": [
    "ds_weather['RAIN']=ds_weather['RAIN'].fillna(ds_weather['RAIN'].mode()[0])"
   ]
  },
  {
   "cell_type": "code",
   "execution_count": 12,
   "id": "78fc76d4",
   "metadata": {},
   "outputs": [],
   "source": [
    "ds_weather['PRCP']=ds_weather['PRCP'].fillna(ds_weather['PRCP'].mean())"
   ]
  },
  {
   "cell_type": "code",
   "execution_count": 13,
   "id": "54943d8d",
   "metadata": {},
   "outputs": [
    {
     "name": "stdout",
     "output_type": "stream",
     "text": [
      "<class 'pandas.core.frame.DataFrame'>\n",
      "RangeIndex: 20440 entries, 0 to 20439\n",
      "Data columns (total 10 columns):\n",
      " #   Column  Non-Null Count  Dtype         \n",
      "---  ------  --------------  -----         \n",
      " 0   Id      20440 non-null  int64         \n",
      " 1   DATE    20440 non-null  object        \n",
      " 2   PRCP    20440 non-null  float64       \n",
      " 3   TMAX    20440 non-null  int64         \n",
      " 4   TMIN    20440 non-null  int64         \n",
      " 5   RAIN    20440 non-null  bool          \n",
      " 6   DATE_C  20440 non-null  datetime64[ns]\n",
      " 7   YEAR    20440 non-null  int64         \n",
      " 8   MONTH   20440 non-null  int64         \n",
      " 9   DAY     20440 non-null  int64         \n",
      "dtypes: bool(1), datetime64[ns](1), float64(1), int64(6), object(1)\n",
      "memory usage: 1.4+ MB\n"
     ]
    }
   ],
   "source": [
    "ds_weather.info()"
   ]
  },
  {
   "cell_type": "markdown",
   "id": "01bff334",
   "metadata": {},
   "source": [
    "**Observations:**\n",
    "\n",
    "- All data are corrected.\n",
    "- We don't have any missing value. \n",
    "- All features have the proper data type required for further processing."
   ]
  },
  {
   "cell_type": "markdown",
   "id": "84dd6dd2",
   "metadata": {},
   "source": [
    "<a name = Section7></a>\n",
    "\n",
    "---\n",
    "# **7. Exploratory Data Analysis**\n",
    "---"
   ]
  },
  {
   "cell_type": "markdown",
   "id": "71038d1f",
   "metadata": {},
   "source": [
    "**<h3>Question:** How much time of year there is rainfall in Seattle city?</h3>"
   ]
  },
  {
   "cell_type": "code",
   "execution_count": 14,
   "id": "266539b9",
   "metadata": {},
   "outputs": [
    {
     "data": {
      "image/png": "[encoded data removed]",
      "text/plain": [
       "<Figure size 504x504 with 1 Axes>"
      ]
     },
     "metadata": {},
     "output_type": "display_data"
    }
   ],
   "source": [
    "ds_weather.RAIN.value_counts().plot(kind='pie',\n",
    "                                                                autopct='%3.1f%%',\n",
    "                                                                wedgeprops=dict(width=0.15), \n",
    "                                                                explode=np.ones(2)/15,\n",
    "                                                                figsize=(7, 7),\n",
    "                                                                fontsize=12, \n",
    "                                                                startangle=120,\n",
    "                                                                label='Will Rain')\n",
    "plt.show()"
   ]
  },
  {
   "cell_type": "markdown",
   "id": "710c2610",
   "metadata": {},
   "source": [
    "**Observations:**\n",
    "\n",
    "- Seattle city observes **42%** time rainfall in the entire year."
   ]
  },
  {
   "cell_type": "markdown",
   "id": "6ba7e304",
   "metadata": {},
   "source": [
    "**<h3>Question:** Precipitation distribution in inches.</h3>"
   ]
  },
  {
   "cell_type": "code",
   "execution_count": 15,
   "id": "25a26c9f",
   "metadata": {},
   "outputs": [
    {
     "data": {
      "image/png": "[encoded data removed]",
      "text/plain": [
       "<Figure size 1080x504 with 1 Axes>"
      ]
     },
     "metadata": {
      "needs_background": "light"
     },
     "output_type": "display_data"
    }
   ],
   "source": [
    "fig = plt.figure(figsize=(15, 7))\n",
    "\n",
    "data = ds_weather[ds_weather.RAIN == True]\n",
    "# Plot density distribution of age\n",
    "sns.distplot(a=data.PRCP, kde=True)\n",
    "\n",
    "# Add some cosmetics\n",
    "plt.title(label='Precipitation distribution in Seattle', size=16)\n",
    "plt.xlabel(xlabel='Precipitation', size=14)\n",
    "plt.ylabel(ylabel='Frequecy', size=14)\n",
    "plt.xticks(size=12)\n",
    "plt.yticks(size=12)\n",
    "plt.grid(b=True)\n",
    "plt.axvline(data.PRCP.mean(), color = 'b')\n",
    "plt.axvline(data.PRCP.median(), color = 'r')\n",
    "\n",
    "# Display the plot\n",
    "plt.show()"
   ]
  },
  {
   "cell_type": "markdown",
   "id": "afb6625d",
   "metadata": {},
   "source": [
    "**Observations:**\n",
    "\n",
    "- Mostly Seattle city observe **0.01 inches** to **0.33 inches** of rainfall.\n",
    "- Seattle city do observed maximum **5 inches** of rainfall."
   ]
  },
  {
   "cell_type": "markdown",
   "id": "b2efcd31",
   "metadata": {},
   "source": [
    "**<h3>Question:** Max temperature distribution in fahrenheit.</h3>"
   ]
  },
  {
   "cell_type": "code",
   "execution_count": 16,
   "id": "d86a595f",
   "metadata": {},
   "outputs": [
    {
     "data": {
      "image/png": "[encoded data removed]",
      "text/plain": [
       "<Figure size 1080x504 with 1 Axes>"
      ]
     },
     "metadata": {
      "needs_background": "light"
     },
     "output_type": "display_data"
    }
   ],
   "source": [
    "fig = plt.figure(figsize=(15, 7))\n",
    "\n",
    "# Plot density distribution of age\n",
    "sns.distplot(a=ds_weather.TMAX, kde=True)\n",
    "\n",
    "# Add some cosmetics\n",
    "plt.title(label='Max temperature distribution in Seattle', size=16)\n",
    "plt.xlabel(xlabel='Temperature (F)', size=14)\n",
    "plt.ylabel(ylabel='Frequecy', size=14)\n",
    "plt.xticks(size=12)\n",
    "plt.yticks(size=12)\n",
    "plt.grid(b=True)\n",
    "plt.axvline(ds_weather.TMAX.mean(), color = 'b')\n",
    "plt.axvline(ds_weather.TMAX.median(), color = 'r')\n",
    "\n",
    "# Display the plot\n",
    "plt.show()"
   ]
  },
  {
   "cell_type": "markdown",
   "id": "1a36cba7",
   "metadata": {},
   "source": [
    "**Observations:**\n",
    "\n",
    "- Temperature is a little **skewed** to **right**.\n",
    "- Difference between the **mean** and **median** is around **one degree**.\n",
    "- Minimum and maximum temperatures are **4** and **100 degrees** fahrenheit.\n",
    "- Most of the time **temperature** is between **45 to 70 degrees** fahrenheit."
   ]
  },
  {
   "cell_type": "markdown",
   "id": "c1732bb2",
   "metadata": {},
   "source": [
    "**<h3>Question:** Min temperature distribution in fahrenheit.</h3>"
   ]
  },
  {
   "cell_type": "code",
   "execution_count": 17,
   "id": "a92296c1",
   "metadata": {},
   "outputs": [
    {
     "data": {
      "image/png": "[encoded data removed]",
      "text/plain": [
       "<Figure size 1080x504 with 1 Axes>"
      ]
     },
     "metadata": {
      "needs_background": "light"
     },
     "output_type": "display_data"
    }
   ],
   "source": [
    "fig = plt.figure(figsize=(15, 7))\n",
    "\n",
    "# Plot density distribution of age\n",
    "sns.distplot(a=ds_weather.TMIN, kde=True)\n",
    "\n",
    "# Add some cosmetics\n",
    "plt.title(label='Min temperature distribution in Seattle', size=16)\n",
    "plt.xlabel(xlabel='Temperature (F)', size=14)\n",
    "plt.ylabel(ylabel='Frequecy', size=14)\n",
    "plt.xticks(size=12)\n",
    "plt.yticks(size=12)\n",
    "plt.grid(b=True)\n",
    "plt.axvline(ds_weather.TMIN.mean(), color = 'b')\n",
    "plt.axvline(ds_weather.TMIN.median(), color = 'r')\n",
    "\n",
    "# Display the plot\n",
    "plt.show()"
   ]
  },
  {
   "cell_type": "markdown",
   "id": "27203b71",
   "metadata": {},
   "source": [
    "**Observations:**\n",
    "\n",
    "- Temperature is a little **skewed** to **right**.\n",
    "- Difference between the **mean** and **median** is almost negligible.\n",
    "- Minimum and maximum temperatures are **0** and **69 degrees** fahrenheit.\n",
    "- Most of the time **temperature** is between **38** to **51** degrees fahrenheit."
   ]
  },
  {
   "cell_type": "markdown",
   "id": "78b679f9",
   "metadata": {},
   "source": [
    "**<h3>Question:** Average precipitation in each month of year.</h3>"
   ]
  },
  {
   "cell_type": "code",
   "execution_count": 18,
   "id": "606351d4",
   "metadata": {},
   "outputs": [
    {
     "data": {
      "image/png": "[encoded data removed]",
      "text/plain": [
       "<Figure size 1080x504 with 1 Axes>"
      ]
     },
     "metadata": {
      "needs_background": "light"
     },
     "output_type": "display_data"
    }
   ],
   "source": [
    "fig = plt.figure(figsize=(15, 7))\n",
    "(ds_weather.groupby('MONTH'))['PRCP'].mean().plot.line(marker='D')\n",
    "plt.title(label='Average precipitation in each month in Seattle', size=16)\n",
    "plt.xlabel(xlabel='Month', size=14)\n",
    "plt.ylabel(ylabel='Precipitation', size=14)\n",
    "plt.xticks(ticks = np.arange(1,13), size=12)\n",
    "plt.yticks(size=12)\n",
    "plt.grid(b=True)\n",
    "plt.show()"
   ]
  },
  {
   "cell_type": "markdown",
   "id": "a5f07e2e",
   "metadata": {},
   "source": [
    "**Observations:**\n",
    "\n",
    "- From **October** to **March** observe **maximum** rainfall.\n",
    "- **Maximum** rainfall is the month of **November**.\n",
    "- Seattle observes rainfall though out the year."
   ]
  },
  {
   "cell_type": "markdown",
   "id": "9527782d",
   "metadata": {},
   "source": [
    "**<h3>Question:** Average temperature in each month of year.</h3>"
   ]
  },
  {
   "cell_type": "code",
   "execution_count": 19,
   "id": "f597944b",
   "metadata": {},
   "outputs": [
    {
     "data": {
      "image/png": "[encoded data removed]",
      "text/plain": [
       "<Figure size 1080x504 with 1 Axes>"
      ]
     },
     "metadata": {
      "needs_background": "light"
     },
     "output_type": "display_data"
    }
   ],
   "source": [
    "fig = plt.figure(figsize=(15, 7))\n",
    "(ds_weather.groupby('MONTH'))['TMAX'].mean().plot.line(marker='D')\n",
    "plt.title(label='Max temperature for each month in Seattle', size=16)\n",
    "plt.xlabel(xlabel='Month', size=14)\n",
    "plt.ylabel(ylabel='Max Temperature (F)', size=14)\n",
    "plt.xticks(ticks = np.arange(1,13), size=12)\n",
    "plt.yticks(size=12)\n",
    "plt.grid(b=True)\n",
    "plt.show()"
   ]
  },
  {
   "cell_type": "markdown",
   "id": "a32b19d6",
   "metadata": {},
   "source": [
    "**Observations:**\n",
    "\n",
    "- **October** to **March** are **cold** month in a year.\n",
    "- **June, July, August and September** are **hottest** months of the year."
   ]
  },
  {
   "cell_type": "markdown",
   "id": "80110239",
   "metadata": {},
   "source": [
    "**<h3>Question:** How many times does it rain and doesn't rain in each month of the year?</h3>"
   ]
  },
  {
   "cell_type": "code",
   "execution_count": 20,
   "id": "2d047204",
   "metadata": {},
   "outputs": [
    {
     "data": {
      "image/png": "[encoded data removed]",
      "text/plain": [
       "<Figure size 1080x504 with 1 Axes>"
      ]
     },
     "metadata": {
      "needs_background": "light"
     },
     "output_type": "display_data"
    }
   ],
   "source": [
    "fig = plt.figure(figsize=(15, 7))\n",
    "sns.countplot(data=ds_weather, x='MONTH', hue='RAIN')\n",
    "plt.title(label='Raining or not Raining count each month in Seattle', size=16)\n",
    "plt.xlabel(xlabel='Month', size=14)\n",
    "plt.ylabel(ylabel='Count', size=14)\n",
    "plt.xticks(size=12)\n",
    "plt.yticks(size=12)\n",
    "plt.show()"
   ]
  },
  {
   "cell_type": "markdown",
   "id": "79e648d8",
   "metadata": {},
   "source": [
    "**Observations:**\n",
    "\n",
    "- **October** to **March** months are almost rainy.\n",
    "- Mid-months have a very small amount of rainfall.\n",
    "- Seattle observes rainfall though out the year."
   ]
  },
  {
   "cell_type": "markdown",
   "id": "fe3eac1c",
   "metadata": {},
   "source": [
    "**<h3>Question:** Total rainfall in each year.</h3>"
   ]
  },
  {
   "cell_type": "code",
   "execution_count": 21,
   "id": "fb66666b",
   "metadata": {},
   "outputs": [
    {
     "data": {
      "image/png": "[encoded data removed]",
      "text/plain": [
       "<Figure size 1440x936 with 1 Axes>"
      ]
     },
     "metadata": {
      "needs_background": "light"
     },
     "output_type": "display_data"
    }
   ],
   "source": [
    "fig = plt.figure(figsize=(20, 13))\n",
    "vals = ((ds_weather.groupby('YEAR'))['PRCP'].sum()).values\n",
    "colors = [\"green\" if i > 35 else \"blue\" for i in vals]\n",
    "(ds_weather.groupby('YEAR'))['PRCP'].sum().plot.bar(color=colors)\n",
    "plt.title(label='Total precipitation each year in Seattle', size=16)\n",
    "plt.xlabel(xlabel='Year', size=14)\n",
    "plt.ylabel(ylabel='Total times Precipitation', size=14)\n",
    "plt.xticks(size=12)\n",
    "plt.yticks(size=12)\n",
    "plt.show()"
   ]
  },
  {
   "cell_type": "markdown",
   "id": "c0323152",
   "metadata": {},
   "source": [
    "**Observations:**\n",
    "\n",
    "- Out of **56** recorded years, **18** count of the year recorded less than **35 times** rainfall.\n",
    "- **1950** and **1996** has been marked as the highest rainfall in recorded years.\n",
    "- **1952** is recorded less number of total rain."
   ]
  },
  {
   "cell_type": "markdown",
   "id": "87731889",
   "metadata": {},
   "source": [
    "**<h3>Question:** Times it rain and didn't rain in day.</h3>"
   ]
  },
  {
   "cell_type": "code",
   "execution_count": 22,
   "id": "3d1114c6",
   "metadata": {},
   "outputs": [
    {
     "data": {
      "image/png": "[encoded data removed]",
      "text/plain": [
       "<Figure size 1080x504 with 1 Axes>"
      ]
     },
     "metadata": {
      "needs_background": "light"
     },
     "output_type": "display_data"
    }
   ],
   "source": [
    "fig = plt.figure(figsize=(15, 7))\n",
    "sns.countplot(data=ds_weather, x='DAY', hue='RAIN')\n",
    "plt.title(label='Raining or not Raining count each day in Seattle', size=16)\n",
    "plt.xlabel(xlabel='Day', size=14)\n",
    "plt.ylabel(ylabel='Count', size=14)\n",
    "plt.xticks(size=12)\n",
    "plt.yticks(size=12)\n",
    "plt.show()"
   ]
  },
  {
   "cell_type": "markdown",
   "id": "87d4db6f",
   "metadata": {},
   "source": [
    "**Observations:**\n",
    "\n",
    "- Almost all days are distributed normally."
   ]
  },
  {
   "cell_type": "markdown",
   "id": "f25cf8d4",
   "metadata": {},
   "source": [
    "<a name = Section8></a>\n",
    "\n",
    "---\n",
    "# **8. Post Data Processing & Feature Selection**"
   ]
  },
  {
   "cell_type": "markdown",
   "id": "2618d541",
   "metadata": {},
   "source": [
    "### Converting Day, Year and Month from continues to categorical."
   ]
  },
  {
   "cell_type": "code",
   "execution_count": 23,
   "id": "846d8371",
   "metadata": {},
   "outputs": [],
   "source": [
    "ds_weather['DAY'] = ds_weather.DAY.astype('category')\n",
    "ds_weather['YEAR'] = ds_weather.YEAR.astype('category')\n",
    "ds_weather['MONTH'] = ds_weather.MONTH.astype('category')"
   ]
  },
  {
   "cell_type": "markdown",
   "id": "4de5c9fd",
   "metadata": {},
   "source": [
    "### Dropping Id as it is ID variable and Date and Date_C as the feature is extracted out of it."
   ]
  },
  {
   "cell_type": "code",
   "execution_count": 24,
   "id": "357f013e",
   "metadata": {},
   "outputs": [],
   "source": [
    "ds_weather.drop(['Id', 'DATE', 'DATE_C'], axis=1, inplace=True)"
   ]
  },
  {
   "cell_type": "markdown",
   "id": "6d180b99",
   "metadata": {},
   "source": [
    "### Split in X and Y"
   ]
  },
  {
   "cell_type": "code",
   "execution_count": 25,
   "id": "175f2562",
   "metadata": {},
   "outputs": [],
   "source": [
    "X = ds_weather.drop('RAIN', axis=1)\n",
    "y = ds_weather['RAIN']"
   ]
  },
  {
   "cell_type": "markdown",
   "id": "5318ee22",
   "metadata": {},
   "source": [
    "### Train Test Split"
   ]
  },
  {
   "cell_type": "code",
   "execution_count": 26,
   "id": "9e9a88b5",
   "metadata": {},
   "outputs": [
    {
     "name": "stdout",
     "output_type": "stream",
     "text": [
      "Training Data Shape: (14308, 6) (14308,)\n",
      "Testing Data Shape: (6132, 6) (6132,)\n"
     ]
    }
   ],
   "source": [
    "from sklearn.model_selection import train_test_split\n",
    "X_train, X_test, y_train, y_test = train_test_split(X, y, test_size = 0.3, random_state = 42, stratify=y)\n",
    "\n",
    "print('Training Data Shape:', X_train.shape, y_train.shape)\n",
    "print('Testing Data Shape:', X_test.shape, y_test.shape)"
   ]
  },
  {
   "cell_type": "markdown",
   "id": "6301b219",
   "metadata": {},
   "source": [
    "### CAT and CONT"
   ]
  },
  {
   "cell_type": "code",
   "execution_count": 28,
   "id": "21c610fb",
   "metadata": {},
   "outputs": [],
   "source": [
    "X_train_cat = X_train.select_dtypes(include=['category'])\n",
    "X_train_cont = X_train.select_dtypes(exclude=['category'])\n",
    "X_test_cat = X_test.select_dtypes(include=['category'])\n",
    "X_test_cont = X_test.select_dtypes(exclude=['category'])"
   ]
  },
  {
   "cell_type": "markdown",
   "id": "6ed925ef",
   "metadata": {},
   "source": [
    "### Scaler"
   ]
  },
  {
   "cell_type": "markdown",
   "id": "9241f5b2",
   "metadata": {},
   "source": [
    "#### Few features are skewed so it require scalling."
   ]
  },
  {
   "cell_type": "code",
   "execution_count": 30,
   "id": "f292ed59",
   "metadata": {},
   "outputs": [],
   "source": [
    "from sklearn.preprocessing import StandardScaler\n",
    "scaler = StandardScaler()\n",
    "scaler.fit(X_train_cont)\n",
    "X_train_s = pd.DataFrame(scaler.transform(X_train_cont), columns = X_train_cont.columns, index = X_train_cont.index)\n",
    "X_test_s = pd.DataFrame(scaler.transform(X_test_cont), columns = X_train_cont.columns, index = X_test_cont.index)"
   ]
  },
  {
   "cell_type": "markdown",
   "id": "98d45d92",
   "metadata": {},
   "source": [
    "#### Encoding is not required as categorical data have numbers."
   ]
  },
  {
   "cell_type": "code",
   "execution_count": 31,
   "id": "6ab25eab",
   "metadata": {},
   "outputs": [],
   "source": [
    "X_train_comb = pd.concat([X_train_cat,X_train_s], axis=1)\n",
    "X_test_comb = pd.concat([X_test_cat,X_test_s], axis=1)"
   ]
  },
  {
   "cell_type": "markdown",
   "id": "8094e330",
   "metadata": {},
   "source": [
    "<a name = Section9></a>\n",
    "\n",
    "---\n",
    "# **9. Model Development & Evaluation**"
   ]
  },
  {
   "cell_type": "markdown",
   "id": "e8888514",
   "metadata": {},
   "source": [
    "## 1. Bagging"
   ]
  },
  {
   "cell_type": "markdown",
   "id": "856aaeba",
   "metadata": {},
   "source": [
    "### 1A. RF Classifier"
   ]
  },
  {
   "cell_type": "code",
   "execution_count": 33,
   "id": "ea9d09bd",
   "metadata": {},
   "outputs": [
    {
     "name": "stdout",
     "output_type": "stream",
     "text": [
      "Train data accuracy\n",
      "                  precision    recall  f1-score   support\n",
      "\n",
      "It will not rain       1.00      1.00      1.00      8241\n",
      "    It will rain       1.00      1.00      1.00      6067\n",
      "\n",
      "        accuracy                           1.00     14308\n",
      "       macro avg       1.00      1.00      1.00     14308\n",
      "    weighted avg       1.00      1.00      1.00     14308\n",
      "\n",
      "\n",
      "\n",
      " Test data accuracy\n",
      "                  precision    recall  f1-score   support\n",
      "\n",
      "It will not rain       1.00      1.00      1.00      3532\n",
      "    It will rain       1.00      1.00      1.00      2600\n",
      "\n",
      "        accuracy                           1.00      6132\n",
      "       macro avg       1.00      1.00      1.00      6132\n",
      "    weighted avg       1.00      1.00      1.00      6132\n",
      "\n"
     ]
    }
   ],
   "source": [
    "from sklearn.ensemble import RandomForestClassifier\n",
    "from sklearn.metrics import classification_report\n",
    "\n",
    "regrRF = RandomForestClassifier(max_depth=5)\n",
    "regrRF.fit(X_train_comb, y_train)\n",
    "y_train_RF_P = regrRF.predict(X_train_comb)\n",
    "y_test_RF_P = regrRF.predict(X_test_comb)\n",
    "\n",
    "target_names = ['It will not rain', 'It will rain']\n",
    "print('Train data accuracy')\n",
    "print(classification_report(y_train, y_train_RF_P, target_names= target_names))\n",
    "print('\\n\\n Test data accuracy')\n",
    "print(classification_report(y_test, y_test_RF_P, target_names= target_names))"
   ]
  },
  {
   "cell_type": "code",
   "execution_count": 34,
   "id": "7bcb6924",
   "metadata": {},
   "outputs": [
    {
     "data": {
      "image/png": "[encoded data removed]",
      "text/plain": [
       "<Figure size 1080x504 with 4 Axes>"
      ]
     },
     "metadata": {
      "needs_background": "light"
     },
     "output_type": "display_data"
    }
   ],
   "source": [
    "from sklearn.metrics import plot_confusion_matrix \n",
    "\n",
    "fig, (ax1, ax2) = plt.subplots(nrows=1, ncols=2, sharex=False, figsize=(15, 7))\n",
    "plot_confusion_matrix(estimator=regrRF, X=X_train_comb, y_true=y_train, values_format='.5g', cmap='YlGnBu', ax=ax1)\n",
    "plot_confusion_matrix(estimator=regrRF, X=X_test_comb, y_true=y_test, values_format='.5g', cmap='YlGnBu', ax=ax2)\n",
    "ax1.set_title(label='Train Data', size=14)\n",
    "ax2.set_title(label='Test Data', size=14)\n",
    "ax1.grid(b=False)\n",
    "ax2.grid(b=False)\n",
    "plt.suptitle(t='Confusion Matrix', size=16)\n",
    "plt.show()"
   ]
  },
  {
   "cell_type": "markdown",
   "id": "b7f026b3",
   "metadata": {},
   "source": [
    "### 1B. Voting Classifier"
   ]
  },
  {
   "cell_type": "code",
   "execution_count": 37,
   "id": "4739f271",
   "metadata": {},
   "outputs": [
    {
     "name": "stdout",
     "output_type": "stream",
     "text": [
      "Train data accuracy\n",
      "                  precision    recall  f1-score   support\n",
      "\n",
      "It will not rain       0.97      1.00      0.99      8241\n",
      "    It will rain       1.00      0.96      0.98      6067\n",
      "\n",
      "        accuracy                           0.98     14308\n",
      "       macro avg       0.99      0.98      0.98     14308\n",
      "    weighted avg       0.98      0.98      0.98     14308\n",
      "\n",
      "\n",
      "\n",
      " Test data accuracy\n",
      "                  precision    recall  f1-score   support\n",
      "\n",
      "It will not rain       0.95      1.00      0.98      3532\n",
      "    It will rain       1.00      0.93      0.97      2600\n",
      "\n",
      "        accuracy                           0.97      6132\n",
      "       macro avg       0.98      0.97      0.97      6132\n",
      "    weighted avg       0.97      0.97      0.97      6132\n",
      "\n"
     ]
    }
   ],
   "source": [
    "from sklearn.ensemble import VotingClassifier\n",
    "from sklearn.linear_model import LogisticRegression\n",
    "from sklearn.naive_bayes import GaussianNB\n",
    "from sklearn.neighbors import KNeighborsClassifier\n",
    "\n",
    "clf1 = LogisticRegression()\n",
    "clf3 = GaussianNB()\n",
    "clf4 = KNeighborsClassifier(n_neighbors=3)\n",
    "\n",
    "regV = VotingClassifier(estimators=[('lr', clf1), ('knn', clf4), ('gnb', clf3)], voting='hard')\n",
    "regV.fit(X_train_comb, y_train)\n",
    "y_train_V_P = regV.predict(X_train_comb)\n",
    "y_test_V_P = regV.predict(X_test_comb)\n",
    "\n",
    "print('Train data accuracy')\n",
    "print(classification_report(y_train, y_train_V_P, target_names= target_names))\n",
    "print('\\n\\n Test data accuracy')\n",
    "print(classification_report(y_test, y_test_V_P, target_names= target_names))"
   ]
  },
  {
   "cell_type": "code",
   "execution_count": 38,
   "id": "078d6f12",
   "metadata": {},
   "outputs": [
    {
     "data": {
      "image/png": "[encoded data removed]",
      "text/plain": [
       "<Figure size 1080x504 with 4 Axes>"
      ]
     },
     "metadata": {
      "needs_background": "light"
     },
     "output_type": "display_data"
    }
   ],
   "source": [
    "from sklearn.metrics import plot_confusion_matrix \n",
    "\n",
    "fig, (ax1, ax2) = plt.subplots(nrows=1, ncols=2, sharex=False, figsize=(15, 7))\n",
    "plot_confusion_matrix(estimator=regV, X=X_train_comb, y_true=y_train, values_format='.5g', cmap='YlGnBu', ax=ax1)\n",
    "plot_confusion_matrix(estimator=regV, X=X_test_comb, y_true=y_test, values_format='.5g', cmap='YlGnBu', ax=ax2)\n",
    "ax1.set_title(label='Train Data', size=14)\n",
    "ax2.set_title(label='Test Data', size=14)\n",
    "ax1.grid(b=False)\n",
    "ax2.grid(b=False)\n",
    "plt.suptitle(t='Confusion Matrix', size=16)\n",
    "plt.show()"
   ]
  },
  {
   "cell_type": "markdown",
   "id": "b60a3dda",
   "metadata": {},
   "source": [
    "### 1C. Bagging Classifier"
   ]
  },
  {
   "cell_type": "code",
   "execution_count": 39,
   "id": "6cc4c3b4",
   "metadata": {},
   "outputs": [
    {
     "name": "stdout",
     "output_type": "stream",
     "text": [
      "\n",
      "\n",
      " LogisticRegression()\n",
      "\n",
      "Train data accuracy\n",
      "                  precision    recall  f1-score   support\n",
      "\n",
      "It will not rain       0.97      1.00      0.99      8241\n",
      "    It will rain       1.00      0.96      0.98      6067\n",
      "\n",
      "        accuracy                           0.98     14308\n",
      "       macro avg       0.99      0.98      0.98     14308\n",
      "    weighted avg       0.98      0.98      0.98     14308\n",
      "\n",
      "\n",
      "Test data accuracy\n",
      "                  precision    recall  f1-score   support\n",
      "\n",
      "It will not rain       0.95      1.00      0.98      3532\n",
      "    It will rain       1.00      0.93      0.97      2600\n",
      "\n",
      "        accuracy                           0.97      6132\n",
      "       macro avg       0.98      0.97      0.97      6132\n",
      "    weighted avg       0.97      0.97      0.97      6132\n",
      "\n",
      "\n",
      "\n",
      " KNeighborsClassifier(n_neighbors=3)\n",
      "\n",
      "Train data accuracy\n",
      "                  precision    recall  f1-score   support\n",
      "\n",
      "It will not rain       0.97      1.00      0.99      8241\n",
      "    It will rain       1.00      0.96      0.98      6067\n",
      "\n",
      "        accuracy                           0.98     14308\n",
      "       macro avg       0.99      0.98      0.98     14308\n",
      "    weighted avg       0.98      0.98      0.98     14308\n",
      "\n",
      "\n",
      "Test data accuracy\n",
      "                  precision    recall  f1-score   support\n",
      "\n",
      "It will not rain       0.95      1.00      0.98      3532\n",
      "    It will rain       1.00      0.93      0.97      2600\n",
      "\n",
      "        accuracy                           0.97      6132\n",
      "       macro avg       0.98      0.97      0.97      6132\n",
      "    weighted avg       0.97      0.97      0.97      6132\n",
      "\n",
      "\n",
      "\n",
      " GaussianNB()\n",
      "\n",
      "Train data accuracy\n",
      "                  precision    recall  f1-score   support\n",
      "\n",
      "It will not rain       0.97      1.00      0.99      8241\n",
      "    It will rain       1.00      0.96      0.98      6067\n",
      "\n",
      "        accuracy                           0.98     14308\n",
      "       macro avg       0.99      0.98      0.98     14308\n",
      "    weighted avg       0.98      0.98      0.98     14308\n",
      "\n",
      "\n",
      "Test data accuracy\n",
      "                  precision    recall  f1-score   support\n",
      "\n",
      "It will not rain       0.95      1.00      0.98      3532\n",
      "    It will rain       1.00      0.93      0.97      2600\n",
      "\n",
      "        accuracy                           0.97      6132\n",
      "       macro avg       0.98      0.97      0.97      6132\n",
      "    weighted avg       0.97      0.97      0.97      6132\n",
      "\n"
     ]
    }
   ],
   "source": [
    "from sklearn.ensemble import BaggingClassifier\n",
    "from sklearn.linear_model import LogisticRegression\n",
    "from sklearn.naive_bayes import GaussianNB\n",
    "from sklearn.neighbors import KNeighborsClassifier\n",
    "\n",
    "clf1 = LogisticRegression()\n",
    "clf3 = GaussianNB()\n",
    "clf4 = KNeighborsClassifier(n_neighbors=3)\n",
    "clfs = [clf1,  clf4, clf3]\n",
    "\n",
    "for clf in clfs:\n",
    "    regBC = BaggingClassifier(base_estimator=clf, n_estimators=10, random_state=0)\n",
    "    regBC.fit(X_train_comb, y_train)\n",
    "    y_train_BC_P = regV.predict(X_train_comb)\n",
    "    y_test_BC_P = regV.predict(X_test_comb)\n",
    "    print('\\n\\n',clf)\n",
    "    print('\\nTrain data accuracy')\n",
    "    print(classification_report(y_train, y_train_BC_P, target_names= target_names))\n",
    "    print('\\nTest data accuracy')\n",
    "    print(classification_report(y_test, y_test_BC_P, target_names= target_names))"
   ]
  },
  {
   "cell_type": "markdown",
   "id": "a6e7057b",
   "metadata": {},
   "source": [
    "## 2. AdaBoost Regressor"
   ]
  },
  {
   "cell_type": "code",
   "execution_count": 40,
   "id": "3be4f88a",
   "metadata": {},
   "outputs": [
    {
     "name": "stdout",
     "output_type": "stream",
     "text": [
      "\n",
      "\n",
      " LogisticRegression()\n",
      "\n",
      "Train data accuracy\n",
      "                  precision    recall  f1-score   support\n",
      "\n",
      "It will not rain       0.88      0.98      0.93      8241\n",
      "    It will rain       0.96      0.82      0.89      6067\n",
      "\n",
      "        accuracy                           0.91     14308\n",
      "       macro avg       0.92      0.90      0.91     14308\n",
      "    weighted avg       0.92      0.91      0.91     14308\n",
      "\n",
      "\n",
      "Test data accuracy\n",
      "                  precision    recall  f1-score   support\n",
      "\n",
      "It will not rain       0.88      0.98      0.92      3532\n",
      "    It will rain       0.96      0.82      0.88      2600\n",
      "\n",
      "        accuracy                           0.91      6132\n",
      "       macro avg       0.92      0.90      0.90      6132\n",
      "    weighted avg       0.91      0.91      0.91      6132\n",
      "\n",
      "\n",
      "\n",
      " RandomForestClassifier(max_depth=5)\n",
      "\n",
      "Train data accuracy\n",
      "                  precision    recall  f1-score   support\n",
      "\n",
      "It will not rain       1.00      1.00      1.00      8241\n",
      "    It will rain       1.00      1.00      1.00      6067\n",
      "\n",
      "        accuracy                           1.00     14308\n",
      "       macro avg       1.00      1.00      1.00     14308\n",
      "    weighted avg       1.00      1.00      1.00     14308\n",
      "\n",
      "\n",
      "Test data accuracy\n",
      "                  precision    recall  f1-score   support\n",
      "\n",
      "It will not rain       1.00      1.00      1.00      3532\n",
      "    It will rain       1.00      1.00      1.00      2600\n",
      "\n",
      "        accuracy                           1.00      6132\n",
      "       macro avg       1.00      1.00      1.00      6132\n",
      "    weighted avg       1.00      1.00      1.00      6132\n",
      "\n"
     ]
    }
   ],
   "source": [
    "from sklearn.ensemble import AdaBoostClassifier\n",
    "\n",
    "clf1 = LogisticRegression()\n",
    "clf3 = RandomForestClassifier(max_depth=5)\n",
    "clfs = [clf1, clf3]\n",
    "\n",
    "for clf in clfs:\n",
    "    regADB = AdaBoostClassifier(base_estimator=clf, n_estimators=100, random_state=10)\n",
    "    regADB.fit(X_train_comb, y_train)\n",
    "    y_train_ADB_P = regADB.predict(X_train_comb)\n",
    "    y_test_ADB_P = regADB.predict(X_test_comb)\n",
    "    print('\\n\\n',clf)\n",
    "    print('\\nTrain data accuracy')\n",
    "    print(classification_report(y_train, y_train_ADB_P, target_names= target_names))\n",
    "    print('\\nTest data accuracy')\n",
    "    print(classification_report(y_test, y_test_ADB_P, target_names= target_names))"
   ]
  },
  {
   "cell_type": "markdown",
   "id": "6e308c1d",
   "metadata": {},
   "source": [
    "## 3. Gradient Boosting Classifier "
   ]
  },
  {
   "cell_type": "code",
   "execution_count": 41,
   "id": "1a3f161d",
   "metadata": {},
   "outputs": [
    {
     "name": "stdout",
     "output_type": "stream",
     "text": [
      "Train data accuracy\n",
      "                  precision    recall  f1-score   support\n",
      "\n",
      "It will not rain       1.00      1.00      1.00      8241\n",
      "    It will rain       1.00      1.00      1.00      6067\n",
      "\n",
      "        accuracy                           1.00     14308\n",
      "       macro avg       1.00      1.00      1.00     14308\n",
      "    weighted avg       1.00      1.00      1.00     14308\n",
      "\n",
      "\n",
      "\n",
      " Test data accuracy\n",
      "                  precision    recall  f1-score   support\n",
      "\n",
      "It will not rain       1.00      1.00      1.00      3532\n",
      "    It will rain       1.00      1.00      1.00      2600\n",
      "\n",
      "        accuracy                           1.00      6132\n",
      "       macro avg       1.00      1.00      1.00      6132\n",
      "    weighted avg       1.00      1.00      1.00      6132\n",
      "\n"
     ]
    }
   ],
   "source": [
    "from sklearn.ensemble import GradientBoostingClassifier\n",
    "\n",
    "regrGBC = GradientBoostingClassifier(max_depth = 2)\n",
    "regrGBC.fit(X_train_comb, y_train)\n",
    "y_train_GBC_P = regrGBC.predict(X_train_comb)\n",
    "y_test_GBC_P = regrGBC.predict(X_test_comb)\n",
    "\n",
    "target_names = ['It will not rain', 'It will rain']\n",
    "print('Train data accuracy')\n",
    "print(classification_report(y_train, y_train_GBC_P, target_names= target_names))\n",
    "print('\\n\\n Test data accuracy')\n",
    "print(classification_report(y_test, y_test_GBC_P, target_names= target_names))"
   ]
  },
  {
   "cell_type": "markdown",
   "id": "a7e8e045",
   "metadata": {},
   "source": [
    "## 4. Stacking Classifier"
   ]
  },
  {
   "cell_type": "code",
   "execution_count": 42,
   "id": "13c98467",
   "metadata": {},
   "outputs": [
    {
     "name": "stdout",
     "output_type": "stream",
     "text": [
      "Train data accuracy\n",
      "                  precision    recall  f1-score   support\n",
      "\n",
      "It will not rain       1.00      1.00      1.00      8241\n",
      "    It will rain       1.00      1.00      1.00      6067\n",
      "\n",
      "        accuracy                           1.00     14308\n",
      "       macro avg       1.00      1.00      1.00     14308\n",
      "    weighted avg       1.00      1.00      1.00     14308\n",
      "\n",
      "\n",
      "\n",
      " Test data accuracy\n",
      "                  precision    recall  f1-score   support\n",
      "\n",
      "It will not rain       1.00      1.00      1.00      3532\n",
      "    It will rain       1.00      1.00      1.00      2600\n",
      "\n",
      "        accuracy                           1.00      6132\n",
      "       macro avg       1.00      1.00      1.00      6132\n",
      "    weighted avg       1.00      1.00      1.00      6132\n",
      "\n"
     ]
    }
   ],
   "source": [
    "from sklearn.ensemble import StackingClassifier\n",
    "\n",
    "clf1 = LogisticRegression()\n",
    "clf3 = GaussianNB()\n",
    "clf4 = KNeighborsClassifier(n_neighbors=3)\n",
    "\n",
    "regSC = StackingClassifier(estimators=[('lr', clf1), ('knn', clf4), ('gnb', clf3)], final_estimator = clf1)\n",
    "regSC.fit(X_train_comb, y_train)\n",
    "y_train_SC_P = regSC.predict(X_train_comb)\n",
    "y_test_SC_P = regSC.predict(X_test_comb)\n",
    "\n",
    "print('Train data accuracy')\n",
    "print(classification_report(y_train, y_train_SC_P, target_names= target_names))\n",
    "print('\\n\\n Test data accuracy')\n",
    "print(classification_report(y_test, y_test_SC_P, target_names= target_names))"
   ]
  },
  {
   "cell_type": "markdown",
   "id": "81d12a92",
   "metadata": {},
   "source": [
    "**Observations:**\n",
    "\n",
    "- I ran 6 algorithms on this dataset\n",
    "- Almost **all** ML algorithms have observed **same** kind of results.\n",
    "- I will choose **VotingClassifier** based on **accuracy** and **F1** score so that it doesn't **overfit** in test data."
   ]
  },
  {
   "cell_type": "code",
   "execution_count": 43,
   "id": "a546d3ff",
   "metadata": {},
   "outputs": [
    {
     "name": "stdout",
     "output_type": "stream",
     "text": [
      "Data shape :  (5110, 5)\n"
     ]
    },
    {
     "data": {
      "text/html": [
       "<div>\n",
       "<style scoped>\n",
       "    .dataframe tbody tr th:only-of-type {\n",
       "        vertical-align: middle;\n",
       "    }\n",
       "\n",
       "    .dataframe tbody tr th {\n",
       "        vertical-align: top;\n",
       "    }\n",
       "\n",
       "    .dataframe thead th {\n",
       "        text-align: right;\n",
       "    }\n",
       "</style>\n",
       "<table border=\"1\" class=\"dataframe\">\n",
       "  <thead>\n",
       "    <tr style=\"text-align: right;\">\n",
       "      <th></th>\n",
       "      <th>Id</th>\n",
       "      <th>DATE</th>\n",
       "      <th>PRCP</th>\n",
       "      <th>TMAX</th>\n",
       "      <th>TMIN</th>\n",
       "    </tr>\n",
       "  </thead>\n",
       "  <tbody>\n",
       "    <tr>\n",
       "      <th>0</th>\n",
       "      <td>20440</td>\n",
       "      <td>2003-12-18</td>\n",
       "      <td>0.00</td>\n",
       "      <td>54</td>\n",
       "      <td>37</td>\n",
       "    </tr>\n",
       "    <tr>\n",
       "      <th>1</th>\n",
       "      <td>20441</td>\n",
       "      <td>2003-12-19</td>\n",
       "      <td>0.14</td>\n",
       "      <td>51</td>\n",
       "      <td>38</td>\n",
       "    </tr>\n",
       "    <tr>\n",
       "      <th>2</th>\n",
       "      <td>20442</td>\n",
       "      <td>2003-12-20</td>\n",
       "      <td>0.13</td>\n",
       "      <td>48</td>\n",
       "      <td>44</td>\n",
       "    </tr>\n",
       "    <tr>\n",
       "      <th>3</th>\n",
       "      <td>20443</td>\n",
       "      <td>2003-12-21</td>\n",
       "      <td>0.01</td>\n",
       "      <td>51</td>\n",
       "      <td>38</td>\n",
       "    </tr>\n",
       "    <tr>\n",
       "      <th>4</th>\n",
       "      <td>20444</td>\n",
       "      <td>2003-12-22</td>\n",
       "      <td>0.00</td>\n",
       "      <td>53</td>\n",
       "      <td>35</td>\n",
       "    </tr>\n",
       "  </tbody>\n",
       "</table>\n",
       "</div>"
      ],
      "text/plain": [
       "      Id        DATE  PRCP  TMAX  TMIN\n",
       "0  20440  2003-12-18  0.00    54    37\n",
       "1  20441  2003-12-19  0.14    51    38\n",
       "2  20442  2003-12-20  0.13    48    44\n",
       "3  20443  2003-12-21  0.01    51    38\n",
       "4  20444  2003-12-22  0.00    53    35"
      ]
     },
     "execution_count": 43,
     "metadata": {},
     "output_type": "execute_result"
    }
   ],
   "source": [
    "ds_weather_test = pd.read_csv('seattle_test.csv')\n",
    "print('Data shape : ', ds_weather_test.shape)\n",
    "ds_weather_test.head()"
   ]
  },
  {
   "cell_type": "code",
   "execution_count": 44,
   "id": "0df33f46",
   "metadata": {},
   "outputs": [
    {
     "data": {
      "text/html": [
       "<div>\n",
       "<style scoped>\n",
       "    .dataframe tbody tr th:only-of-type {\n",
       "        vertical-align: middle;\n",
       "    }\n",
       "\n",
       "    .dataframe tbody tr th {\n",
       "        vertical-align: top;\n",
       "    }\n",
       "\n",
       "    .dataframe thead th {\n",
       "        text-align: right;\n",
       "    }\n",
       "</style>\n",
       "<table border=\"1\" class=\"dataframe\">\n",
       "  <thead>\n",
       "    <tr style=\"text-align: right;\">\n",
       "      <th></th>\n",
       "      <th>Id</th>\n",
       "      <th>DATE</th>\n",
       "      <th>PRCP</th>\n",
       "      <th>TMAX</th>\n",
       "      <th>TMIN</th>\n",
       "    </tr>\n",
       "  </thead>\n",
       "  <tbody>\n",
       "    <tr>\n",
       "      <th>0</th>\n",
       "      <td>20440</td>\n",
       "      <td>2003-12-18</td>\n",
       "      <td>0.00</td>\n",
       "      <td>54</td>\n",
       "      <td>37</td>\n",
       "    </tr>\n",
       "    <tr>\n",
       "      <th>1</th>\n",
       "      <td>20441</td>\n",
       "      <td>2003-12-19</td>\n",
       "      <td>0.14</td>\n",
       "      <td>51</td>\n",
       "      <td>38</td>\n",
       "    </tr>\n",
       "    <tr>\n",
       "      <th>2</th>\n",
       "      <td>20442</td>\n",
       "      <td>2003-12-20</td>\n",
       "      <td>0.13</td>\n",
       "      <td>48</td>\n",
       "      <td>44</td>\n",
       "    </tr>\n",
       "    <tr>\n",
       "      <th>3</th>\n",
       "      <td>20443</td>\n",
       "      <td>2003-12-21</td>\n",
       "      <td>0.01</td>\n",
       "      <td>51</td>\n",
       "      <td>38</td>\n",
       "    </tr>\n",
       "    <tr>\n",
       "      <th>4</th>\n",
       "      <td>20444</td>\n",
       "      <td>2003-12-22</td>\n",
       "      <td>0.00</td>\n",
       "      <td>53</td>\n",
       "      <td>35</td>\n",
       "    </tr>\n",
       "  </tbody>\n",
       "</table>\n",
       "</div>"
      ],
      "text/plain": [
       "      Id        DATE  PRCP  TMAX  TMIN\n",
       "0  20440  2003-12-18  0.00    54    37\n",
       "1  20441  2003-12-19  0.14    51    38\n",
       "2  20442  2003-12-20  0.13    48    44\n",
       "3  20443  2003-12-21  0.01    51    38\n",
       "4  20444  2003-12-22  0.00    53    35"
      ]
     },
     "execution_count": 44,
     "metadata": {},
     "output_type": "execute_result"
    }
   ],
   "source": [
    "ds_weather_test.head()"
   ]
  },
  {
   "cell_type": "code",
   "execution_count": 45,
   "id": "77b70010",
   "metadata": {},
   "outputs": [
    {
     "name": "stdout",
     "output_type": "stream",
     "text": [
      "<class 'pandas.core.frame.DataFrame'>\n",
      "RangeIndex: 5110 entries, 0 to 5109\n",
      "Data columns (total 5 columns):\n",
      " #   Column  Non-Null Count  Dtype  \n",
      "---  ------  --------------  -----  \n",
      " 0   Id      5110 non-null   int64  \n",
      " 1   DATE    5110 non-null   object \n",
      " 2   PRCP    5110 non-null   float64\n",
      " 3   TMAX    5110 non-null   int64  \n",
      " 4   TMIN    5110 non-null   int64  \n",
      "dtypes: float64(1), int64(3), object(1)\n",
      "memory usage: 199.7+ KB\n"
     ]
    }
   ],
   "source": [
    "ds_weather_test.info()"
   ]
  },
  {
   "cell_type": "markdown",
   "id": "0c8f9aed",
   "metadata": {},
   "source": [
    "**Observations:**\n",
    "\n",
    "- Test data doesn't have any missing value.\n",
    "- But we have to perform feature engineering, PCA, and conversion of continuous to the categorical variable before predicting.\n",
    "- We will predict **VotingClassifier** on unseen data."
   ]
  },
  {
   "cell_type": "code",
   "execution_count": 46,
   "id": "d463bf8d",
   "metadata": {},
   "outputs": [
    {
     "name": "stdout",
     "output_type": "stream",
     "text": [
      "<class 'pandas.core.frame.DataFrame'>\n",
      "RangeIndex: 5110 entries, 0 to 5109\n",
      "Data columns (total 9 columns):\n",
      " #   Column  Non-Null Count  Dtype         \n",
      "---  ------  --------------  -----         \n",
      " 0   Id      5110 non-null   int64         \n",
      " 1   DATE    5110 non-null   object        \n",
      " 2   PRCP    5110 non-null   float64       \n",
      " 3   TMAX    5110 non-null   int64         \n",
      " 4   TMIN    5110 non-null   int64         \n",
      " 5   DATE_C  5110 non-null   datetime64[ns]\n",
      " 6   YEAR    5110 non-null   category      \n",
      " 7   MONTH   5110 non-null   category      \n",
      " 8   DAY     5110 non-null   category      \n",
      "dtypes: category(3), datetime64[ns](1), float64(1), int64(3), object(1)\n",
      "memory usage: 257.0+ KB\n"
     ]
    }
   ],
   "source": [
    "ds_weather_test['DATE_C'] = pd.to_datetime(ds_weather_test['DATE'])\n",
    "ds_weather_test['YEAR'] = ds_weather_test['DATE_C'].dt.year.astype('category')\n",
    "ds_weather_test['MONTH'] = ds_weather_test['DATE_C'].dt.month.astype('category')\n",
    "ds_weather_test['DAY'] = ds_weather_test['DATE_C'].dt.day.astype('category')\n",
    "ds_weather_test.info()"
   ]
  },
  {
   "cell_type": "code",
   "execution_count": 47,
   "id": "bebad4c7",
   "metadata": {},
   "outputs": [],
   "source": [
    "X_new_test = ds_weather_test.drop(['Id', 'DATE', 'DATE_C'], axis = 1)"
   ]
  },
  {
   "cell_type": "code",
   "execution_count": 48,
   "id": "47410c3f",
   "metadata": {},
   "outputs": [],
   "source": [
    "X_new_test_cat = X_new_test.select_dtypes(include=['category'])\n",
    "X_new_test_cont = X_new_test.select_dtypes(exclude=['category'])"
   ]
  },
  {
   "cell_type": "code",
   "execution_count": 49,
   "id": "f05186f3",
   "metadata": {},
   "outputs": [
    {
     "data": {
      "text/html": [
       "<div>\n",
       "<style scoped>\n",
       "    .dataframe tbody tr th:only-of-type {\n",
       "        vertical-align: middle;\n",
       "    }\n",
       "\n",
       "    .dataframe tbody tr th {\n",
       "        vertical-align: top;\n",
       "    }\n",
       "\n",
       "    .dataframe thead th {\n",
       "        text-align: right;\n",
       "    }\n",
       "</style>\n",
       "<table border=\"1\" class=\"dataframe\">\n",
       "  <thead>\n",
       "    <tr style=\"text-align: right;\">\n",
       "      <th></th>\n",
       "      <th>YEAR</th>\n",
       "      <th>MONTH</th>\n",
       "      <th>DAY</th>\n",
       "      <th>PRCP</th>\n",
       "      <th>TMAX</th>\n",
       "      <th>TMIN</th>\n",
       "    </tr>\n",
       "  </thead>\n",
       "  <tbody>\n",
       "    <tr>\n",
       "      <th>0</th>\n",
       "      <td>2003</td>\n",
       "      <td>12</td>\n",
       "      <td>18</td>\n",
       "      <td>-0.45</td>\n",
       "      <td>-0.42</td>\n",
       "      <td>-0.81</td>\n",
       "    </tr>\n",
       "    <tr>\n",
       "      <th>1</th>\n",
       "      <td>2003</td>\n",
       "      <td>12</td>\n",
       "      <td>19</td>\n",
       "      <td>0.15</td>\n",
       "      <td>-0.65</td>\n",
       "      <td>-0.70</td>\n",
       "    </tr>\n",
       "    <tr>\n",
       "      <th>2</th>\n",
       "      <td>2003</td>\n",
       "      <td>12</td>\n",
       "      <td>20</td>\n",
       "      <td>0.11</td>\n",
       "      <td>-0.89</td>\n",
       "      <td>-0.02</td>\n",
       "    </tr>\n",
       "    <tr>\n",
       "      <th>3</th>\n",
       "      <td>2003</td>\n",
       "      <td>12</td>\n",
       "      <td>21</td>\n",
       "      <td>-0.40</td>\n",
       "      <td>-0.65</td>\n",
       "      <td>-0.70</td>\n",
       "    </tr>\n",
       "    <tr>\n",
       "      <th>4</th>\n",
       "      <td>2003</td>\n",
       "      <td>12</td>\n",
       "      <td>22</td>\n",
       "      <td>-0.45</td>\n",
       "      <td>-0.49</td>\n",
       "      <td>-1.04</td>\n",
       "    </tr>\n",
       "  </tbody>\n",
       "</table>\n",
       "</div>"
      ],
      "text/plain": [
       "   YEAR MONTH DAY  PRCP  TMAX  TMIN\n",
       "0  2003    12  18 -0.45 -0.42 -0.81\n",
       "1  2003    12  19  0.15 -0.65 -0.70\n",
       "2  2003    12  20  0.11 -0.89 -0.02\n",
       "3  2003    12  21 -0.40 -0.65 -0.70\n",
       "4  2003    12  22 -0.45 -0.49 -1.04"
      ]
     },
     "execution_count": 49,
     "metadata": {},
     "output_type": "execute_result"
    }
   ],
   "source": [
    "X_new_test_s = pd.DataFrame(scaler.transform(X_new_test_cont), columns = X_new_test_cont.columns, index = X_new_test_cont.index)\n",
    "X_new_test_comb = pd.concat([X_new_test_cat,X_new_test_s], axis=1)\n",
    "\n",
    "X_new_test_comb.head()"
   ]
  },
  {
   "cell_type": "code",
   "execution_count": 50,
   "id": "d6fe4c5d",
   "metadata": {},
   "outputs": [],
   "source": [
    "y_new_test = regV.predict(X_new_test_comb)"
   ]
  },
  {
   "cell_type": "code",
   "execution_count": 51,
   "id": "753dfcd7",
   "metadata": {},
   "outputs": [
    {
     "data": {
      "text/html": [
       "<div>\n",
       "<style scoped>\n",
       "    .dataframe tbody tr th:only-of-type {\n",
       "        vertical-align: middle;\n",
       "    }\n",
       "\n",
       "    .dataframe tbody tr th {\n",
       "        vertical-align: top;\n",
       "    }\n",
       "\n",
       "    .dataframe thead th {\n",
       "        text-align: right;\n",
       "    }\n",
       "</style>\n",
       "<table border=\"1\" class=\"dataframe\">\n",
       "  <thead>\n",
       "    <tr style=\"text-align: right;\">\n",
       "      <th></th>\n",
       "      <th>Id</th>\n",
       "      <th>DATE</th>\n",
       "      <th>PRCP</th>\n",
       "      <th>TMAX</th>\n",
       "      <th>TMIN</th>\n",
       "      <th>DATE_C</th>\n",
       "      <th>YEAR</th>\n",
       "      <th>MONTH</th>\n",
       "      <th>DAY</th>\n",
       "      <th>output_pre</th>\n",
       "    </tr>\n",
       "  </thead>\n",
       "  <tbody>\n",
       "    <tr>\n",
       "      <th>0</th>\n",
       "      <td>20440</td>\n",
       "      <td>2003-12-18</td>\n",
       "      <td>0.00</td>\n",
       "      <td>54</td>\n",
       "      <td>37</td>\n",
       "      <td>2003-12-18</td>\n",
       "      <td>2003</td>\n",
       "      <td>12</td>\n",
       "      <td>18</td>\n",
       "      <td>False</td>\n",
       "    </tr>\n",
       "    <tr>\n",
       "      <th>1</th>\n",
       "      <td>20441</td>\n",
       "      <td>2003-12-19</td>\n",
       "      <td>0.14</td>\n",
       "      <td>51</td>\n",
       "      <td>38</td>\n",
       "      <td>2003-12-19</td>\n",
       "      <td>2003</td>\n",
       "      <td>12</td>\n",
       "      <td>19</td>\n",
       "      <td>True</td>\n",
       "    </tr>\n",
       "    <tr>\n",
       "      <th>2</th>\n",
       "      <td>20442</td>\n",
       "      <td>2003-12-20</td>\n",
       "      <td>0.13</td>\n",
       "      <td>48</td>\n",
       "      <td>44</td>\n",
       "      <td>2003-12-20</td>\n",
       "      <td>2003</td>\n",
       "      <td>12</td>\n",
       "      <td>20</td>\n",
       "      <td>True</td>\n",
       "    </tr>\n",
       "    <tr>\n",
       "      <th>3</th>\n",
       "      <td>20443</td>\n",
       "      <td>2003-12-21</td>\n",
       "      <td>0.01</td>\n",
       "      <td>51</td>\n",
       "      <td>38</td>\n",
       "      <td>2003-12-21</td>\n",
       "      <td>2003</td>\n",
       "      <td>12</td>\n",
       "      <td>21</td>\n",
       "      <td>False</td>\n",
       "    </tr>\n",
       "    <tr>\n",
       "      <th>4</th>\n",
       "      <td>20444</td>\n",
       "      <td>2003-12-22</td>\n",
       "      <td>0.00</td>\n",
       "      <td>53</td>\n",
       "      <td>35</td>\n",
       "      <td>2003-12-22</td>\n",
       "      <td>2003</td>\n",
       "      <td>12</td>\n",
       "      <td>22</td>\n",
       "      <td>False</td>\n",
       "    </tr>\n",
       "  </tbody>\n",
       "</table>\n",
       "</div>"
      ],
      "text/plain": [
       "      Id        DATE  PRCP  TMAX  TMIN     DATE_C  YEAR MONTH DAY  output_pre\n",
       "0  20440  2003-12-18  0.00    54    37 2003-12-18  2003    12  18       False\n",
       "1  20441  2003-12-19  0.14    51    38 2003-12-19  2003    12  19        True\n",
       "2  20442  2003-12-20  0.13    48    44 2003-12-20  2003    12  20        True\n",
       "3  20443  2003-12-21  0.01    51    38 2003-12-21  2003    12  21       False\n",
       "4  20444  2003-12-22  0.00    53    35 2003-12-22  2003    12  22       False"
      ]
     },
     "execution_count": 51,
     "metadata": {},
     "output_type": "execute_result"
    }
   ],
   "source": [
    "y_new_test_array = np.array(y_new_test)\n",
    "ds_weather_test['output_pre'] = y_new_test_array.tolist()\n",
    "ds_weather_test.head()"
   ]
  },
  {
   "cell_type": "code",
   "execution_count": 52,
   "id": "82dca9ce",
   "metadata": {},
   "outputs": [],
   "source": [
    "ds_weather_test[{'Id','output_pre'}].to_csv('sample_submission.csv',index=False,header=False)"
   ]
  },
  {
   "cell_type": "markdown",
   "id": "7c6e448e",
   "metadata": {},
   "source": [
    "<a name = Section10></a>\n",
    "\n",
    "---\n",
    "# **10. Conclusion**\n",
    "---"
   ]
  },
  {
   "cell_type": "markdown",
   "id": "a77f5b76",
   "metadata": {},
   "source": [
    "- Seattle city observes rainfall throughout the year.\n",
    "- With this prediction city can plan its day.\n",
    "- Losses because of heavy rainfall can be minimised.\n",
    "- Development of a city can be decided based on prior knowledge of weather."
   ]
  }
 ],
 "metadata": {
  "kernelspec": {
   "display_name": "Python 3 (ipykernel)",
   "language": "python",
   "name": "python3"
  },
  "language_info": {
   "codemirror_mode": {
    "name": "ipython",
    "version": 3
   },
   "file_extension": ".py",
   "mimetype": "text/x-python",
   "name": "python",
   "nbconvert_exporter": "python",
   "pygments_lexer": "ipython3",
   "version": "3.9.7"
  }
 },
 "nbformat": 4,
 "nbformat_minor": 5
}
