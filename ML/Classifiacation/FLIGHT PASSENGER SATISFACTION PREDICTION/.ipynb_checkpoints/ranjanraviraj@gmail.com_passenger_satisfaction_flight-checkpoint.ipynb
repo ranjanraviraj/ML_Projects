{
 "cells": [
  {
   "cell_type": "markdown",
   "id": "310c49ad-9164-44df-956f-f1a0a03d3b2c",
   "metadata": {},
   "source": [
    "# <center><b>Prediction of Passenger Satisfaction in Flight<b></center>"
   ]
  },
  {
   "cell_type": "markdown",
   "id": "77d16768-9657-4ea5-81aa-e913e6ed7dff",
   "metadata": {},
   "source": [
    "---\n",
    "# **Table of Contents**\n",
    "---\n",
    "\n",
    "**1.** [**Introduction**](#Section1)<br>\n",
    "**2.** [**Problem Statement**](#Section2)<br>\n",
    "**3.** [**Installing & Importing Libraries**](#Section3)<br>\n",
    "\n",
    "**4.** [**Data Acquisition & Description**](#Section4)<br>\n",
    "\n",
    "**5.** [**Data Pre-Profiling**](#Section5)<br>\n",
    "\n",
    "**6.** [**Data Cleaning**](#Section6)<br>\n",
    "**7.** [**Exploratory Data Analysis**](#Section7)<br>\n",
    "**8.** [**Model Development & Evaluation**](#Section8)<br>\n",
    "  - **8.1** [**Train test split**](#Section81)<br>\n",
    "  - **8.2** [**Label Encoding**](#Section82)<br>\n",
    "  - **8.3** [**Model creation**](#Section83)<br>\n",
    "  - **8.3.1** [**Linear Regression**](#Section831)<br>\n",
    "  - **8.3.2** [**Decision Tree Regressor**](#Section832)<br>\n",
    "  - **8.3.3** [**GridSearchCV**](#Section833)<br>\n",
    "**9.** [**Summarization**](#Section9)<br>\n",
    "  - **9.1** [**Conclusion**](#Section91)<br>"
   ]
  },
  {
   "cell_type": "markdown",
   "id": "c77e55c6-a99f-4b11-adfc-f988c6643b48",
   "metadata": {},
   "source": [
    "---\n",
    "<a name = Section1></a>\n",
    "# **1. Introduction**\n",
    "---\n",
    "\n",
    "- In today’s world flights have become one of the essential means of transport.\n",
    "\n",
    "- With an increase in competition between airline companies customer satisfaction is an important factor between Airline Company   \n",
    "\n",
    "- Airline companies ask various questions like Ease of Online booking, Departure/Arrival time convenience, Seat comfort, and many other services provided by Airline companies.\n",
    "\n",
    "- Based on various parameters manually company can decide customer is satisfied or not.\n",
    "\n",
    "<center><img width=40% src=\"https://dailytimes.com.pk/assets/uploads/2021/07/01/TAAp.jpg\"></center>\n",
    "\n",
    "- The case study considers a report collected from various parameters of the customer and rating to measure customer satisfaction."
   ]
  },
  {
   "cell_type": "markdown",
   "id": "1a322907-2cc3-47be-981c-ecee759c580a",
   "metadata": {},
   "source": [
    "---\n",
    "<a name = Section2></a>\n",
    "# **2. Problem Statement**\n",
    "---\n",
    "\n",
    "- Due to **fierce** competition in the airline industry, the airline company needs to focus on the passenger’s experience and satisfaction.\n",
    "- **Customer feedback**, in particular, is critical since it is an outcome measurement for business performance.\n",
    "- So, they need to analyze the data of the passenger's travel history.\n",
    "- In a **data science** role I have been hired to analyse and create a model which measures customer satisfaction.\n",
    "- This would be a **leading step** to helping the airline industry and customers get better service due to competition."
   ]
  },
  {
   "cell_type": "code",
   "execution_count": 1,
   "id": "644fc7ab-dc92-41ca-b89b-b8aeb0b6dd33",
   "metadata": {},
   "outputs": [],
   "source": [
    "#-------------------------------------------------------------------------------------------------------------------------------\n",
    "import pandas as pd                                                 # Importing for panel data analysis\n",
    "pd.set_option('display.max_columns', None)                          # Unfolding hidden features if the cardinality is high\n",
    "pd.set_option('display.max_colwidth', None)                         # Unfolding the max feature width for better clearity\n",
    "pd.set_option('display.max_rows', None)                             # Unfolding hidden data points if the cardinality is high\n",
    "pd.set_option('mode.chained_assignment', None)                      # Removing restriction over chained assignments operations\n",
    "pd.set_option('display.float_format', lambda x: '%.2f' % x)         # To suppress scientific notation over exponential values\n",
    "%matplotlib inline\n",
    "#-------------------------------------------------------------------------------------------------------------------------------\n",
    "import numpy as np                                                  # Importing package numpys (For Numerical Python)\n",
    "#-------------------------------------------------------------------------------------------------------------------------------\n",
    "import matplotlib.pyplot as plt                                     # Importing pyplot interface of matplotlib\n",
    "import seaborn as sns                                                # For datetime operations\n",
    "#-------------------------------------------------------------------------------------------------------------------------------\n",
    "import warnings                                                     # Importing warning to disable runtime warnings\n",
    "warnings.filterwarnings(\"ignore\")                                   # Warnings will appear only once\n",
    "import re"
   ]
  },
  {
   "cell_type": "markdown",
   "id": "6bf5440c-2536-49de-9ab8-35f705a2fe6d",
   "metadata": {},
   "source": [
    "---\n",
    "<a name = Section4></a>\n",
    "# **4. Data Acquisition & Description**\n",
    "---\n",
    "\n",
    "\n",
    "- The dataset consists of information of passenger boarding and deboarding information and the services provided during the travel in flight.\n",
    "\n",
    "- The column satisfaction is also present in the dataset which is a measure of the overall satisfaction.\n",
    "\n",
    "| Records | Features | Dataset Size |\n",
    "| :--: | :--: | :--: |\n",
    "| 83123 | 24 | 15.3 MB | \n",
    "\n",
    "<br>\n",
    "\n",
    "| # | Feature Name | Feature Description |\n",
    "|:--:|:--|:--| \n",
    "|1| Id | Unique id of each dataset |\n",
    "|2| Gender | Sex of passanger  |\n",
    "|3| Customer Type |\tIf the customer is loyal or disloyal |\n",
    "|4| Age |\tAge of the customer |\n",
    "|5| Type of Travel|\tIf the travel is for a business or a personal purpose |\n",
    "|6| Class |\tClass of the aircraft in which the customer is travelling|\n",
    "|7| Flight Distance |\tDistance covered by the flight |\n",
    "|8| Rating |\tVarious rating collected from passengers|\n",
    "|9| satisfaction |\tIf the passenger is satisfied or not |"
   ]
  },
  {
   "cell_type": "code",
   "execution_count": 2,
   "id": "709a8575-7ee9-4777-bd09-fe914a613fd4",
   "metadata": {},
   "outputs": [
    {
     "name": "stdout",
     "output_type": "stream",
     "text": [
      "Data shape :  (83123, 24)\n"
     ]
    },
    {
     "data": {
      "text/html": [
       "<div>\n",
       "<style scoped>\n",
       "    .dataframe tbody tr th:only-of-type {\n",
       "        vertical-align: middle;\n",
       "    }\n",
       "\n",
       "    .dataframe tbody tr th {\n",
       "        vertical-align: top;\n",
       "    }\n",
       "\n",
       "    .dataframe thead th {\n",
       "        text-align: right;\n",
       "    }\n",
       "</style>\n",
       "<table border=\"1\" class=\"dataframe\">\n",
       "  <thead>\n",
       "    <tr style=\"text-align: right;\">\n",
       "      <th></th>\n",
       "      <th>id</th>\n",
       "      <th>Gender</th>\n",
       "      <th>Customer Type</th>\n",
       "      <th>Age</th>\n",
       "      <th>Type of Travel</th>\n",
       "      <th>Class</th>\n",
       "      <th>Flight Distance</th>\n",
       "      <th>Inflight wifi service</th>\n",
       "      <th>Departure/Arrival time convenient</th>\n",
       "      <th>Ease of Online booking</th>\n",
       "      <th>Gate location</th>\n",
       "      <th>Food and drink</th>\n",
       "      <th>Online boarding</th>\n",
       "      <th>Seat comfort</th>\n",
       "      <th>Inflight entertainment</th>\n",
       "      <th>On-board service</th>\n",
       "      <th>Leg room service</th>\n",
       "      <th>Baggage handling</th>\n",
       "      <th>Checkin service</th>\n",
       "      <th>Inflight service</th>\n",
       "      <th>Cleanliness</th>\n",
       "      <th>Departure Delay in Minutes</th>\n",
       "      <th>Arrival Delay in Minutes</th>\n",
       "      <th>satisfaction</th>\n",
       "    </tr>\n",
       "  </thead>\n",
       "  <tbody>\n",
       "    <tr>\n",
       "      <th>0</th>\n",
       "      <td>51032</td>\n",
       "      <td>Female</td>\n",
       "      <td>Loyal Customer</td>\n",
       "      <td>30</td>\n",
       "      <td>Personal Travel</td>\n",
       "      <td>Eco</td>\n",
       "      <td>193</td>\n",
       "      <td>3</td>\n",
       "      <td>4</td>\n",
       "      <td>0</td>\n",
       "      <td>3</td>\n",
       "      <td>5</td>\n",
       "      <td>0</td>\n",
       "      <td>5</td>\n",
       "      <td>5</td>\n",
       "      <td>4</td>\n",
       "      <td>5</td>\n",
       "      <td>3</td>\n",
       "      <td>4</td>\n",
       "      <td>4</td>\n",
       "      <td>5</td>\n",
       "      <td>0</td>\n",
       "      <td>0.00</td>\n",
       "      <td>neutral or dissatisfied</td>\n",
       "    </tr>\n",
       "    <tr>\n",
       "      <th>1</th>\n",
       "      <td>54504</td>\n",
       "      <td>Female</td>\n",
       "      <td>Loyal Customer</td>\n",
       "      <td>51</td>\n",
       "      <td>Business travel</td>\n",
       "      <td>Eco</td>\n",
       "      <td>925</td>\n",
       "      <td>2</td>\n",
       "      <td>1</td>\n",
       "      <td>1</td>\n",
       "      <td>1</td>\n",
       "      <td>5</td>\n",
       "      <td>3</td>\n",
       "      <td>2</td>\n",
       "      <td>2</td>\n",
       "      <td>2</td>\n",
       "      <td>2</td>\n",
       "      <td>2</td>\n",
       "      <td>3</td>\n",
       "      <td>2</td>\n",
       "      <td>3</td>\n",
       "      <td>47</td>\n",
       "      <td>29.00</td>\n",
       "      <td>neutral or dissatisfied</td>\n",
       "    </tr>\n",
       "    <tr>\n",
       "      <th>2</th>\n",
       "      <td>13387</td>\n",
       "      <td>Male</td>\n",
       "      <td>disloyal Customer</td>\n",
       "      <td>27</td>\n",
       "      <td>Business travel</td>\n",
       "      <td>Eco</td>\n",
       "      <td>505</td>\n",
       "      <td>0</td>\n",
       "      <td>0</td>\n",
       "      <td>0</td>\n",
       "      <td>4</td>\n",
       "      <td>1</td>\n",
       "      <td>0</td>\n",
       "      <td>1</td>\n",
       "      <td>1</td>\n",
       "      <td>5</td>\n",
       "      <td>5</td>\n",
       "      <td>2</td>\n",
       "      <td>3</td>\n",
       "      <td>2</td>\n",
       "      <td>1</td>\n",
       "      <td>0</td>\n",
       "      <td>0.00</td>\n",
       "      <td>satisfied</td>\n",
       "    </tr>\n",
       "    <tr>\n",
       "      <th>3</th>\n",
       "      <td>17388</td>\n",
       "      <td>Female</td>\n",
       "      <td>Loyal Customer</td>\n",
       "      <td>52</td>\n",
       "      <td>Business travel</td>\n",
       "      <td>Business</td>\n",
       "      <td>2953</td>\n",
       "      <td>2</td>\n",
       "      <td>2</td>\n",
       "      <td>2</td>\n",
       "      <td>2</td>\n",
       "      <td>3</td>\n",
       "      <td>4</td>\n",
       "      <td>5</td>\n",
       "      <td>5</td>\n",
       "      <td>5</td>\n",
       "      <td>5</td>\n",
       "      <td>5</td>\n",
       "      <td>4</td>\n",
       "      <td>5</td>\n",
       "      <td>5</td>\n",
       "      <td>10</td>\n",
       "      <td>2.00</td>\n",
       "      <td>satisfied</td>\n",
       "    </tr>\n",
       "    <tr>\n",
       "      <th>4</th>\n",
       "      <td>91598</td>\n",
       "      <td>Female</td>\n",
       "      <td>disloyal Customer</td>\n",
       "      <td>15</td>\n",
       "      <td>Business travel</td>\n",
       "      <td>Eco</td>\n",
       "      <td>1352</td>\n",
       "      <td>4</td>\n",
       "      <td>4</td>\n",
       "      <td>4</td>\n",
       "      <td>2</td>\n",
       "      <td>2</td>\n",
       "      <td>4</td>\n",
       "      <td>2</td>\n",
       "      <td>2</td>\n",
       "      <td>4</td>\n",
       "      <td>3</td>\n",
       "      <td>5</td>\n",
       "      <td>3</td>\n",
       "      <td>5</td>\n",
       "      <td>2</td>\n",
       "      <td>0</td>\n",
       "      <td>0.00</td>\n",
       "      <td>satisfied</td>\n",
       "    </tr>\n",
       "  </tbody>\n",
       "</table>\n",
       "</div>"
      ],
      "text/plain": [
       "      id  Gender      Customer Type  Age   Type of Travel     Class  \\\n",
       "0  51032  Female     Loyal Customer   30  Personal Travel       Eco   \n",
       "1  54504  Female     Loyal Customer   51  Business travel       Eco   \n",
       "2  13387    Male  disloyal Customer   27  Business travel       Eco   \n",
       "3  17388  Female     Loyal Customer   52  Business travel  Business   \n",
       "4  91598  Female  disloyal Customer   15  Business travel       Eco   \n",
       "\n",
       "   Flight Distance  Inflight wifi service  Departure/Arrival time convenient  \\\n",
       "0              193                      3                                  4   \n",
       "1              925                      2                                  1   \n",
       "2              505                      0                                  0   \n",
       "3             2953                      2                                  2   \n",
       "4             1352                      4                                  4   \n",
       "\n",
       "   Ease of Online booking  Gate location  Food and drink  Online boarding  \\\n",
       "0                       0              3               5                0   \n",
       "1                       1              1               5                3   \n",
       "2                       0              4               1                0   \n",
       "3                       2              2               3                4   \n",
       "4                       4              2               2                4   \n",
       "\n",
       "   Seat comfort  Inflight entertainment  On-board service  Leg room service  \\\n",
       "0             5                       5                 4                 5   \n",
       "1             2                       2                 2                 2   \n",
       "2             1                       1                 5                 5   \n",
       "3             5                       5                 5                 5   \n",
       "4             2                       2                 4                 3   \n",
       "\n",
       "   Baggage handling  Checkin service  Inflight service  Cleanliness  \\\n",
       "0                 3                4                 4            5   \n",
       "1                 2                3                 2            3   \n",
       "2                 2                3                 2            1   \n",
       "3                 5                4                 5            5   \n",
       "4                 5                3                 5            2   \n",
       "\n",
       "   Departure Delay in Minutes  Arrival Delay in Minutes  \\\n",
       "0                           0                      0.00   \n",
       "1                          47                     29.00   \n",
       "2                           0                      0.00   \n",
       "3                          10                      2.00   \n",
       "4                           0                      0.00   \n",
       "\n",
       "              satisfaction  \n",
       "0  neutral or dissatisfied  \n",
       "1  neutral or dissatisfied  \n",
       "2                satisfied  \n",
       "3                satisfied  \n",
       "4                satisfied  "
      ]
     },
     "execution_count": 2,
     "metadata": {},
     "output_type": "execute_result"
    }
   ],
   "source": [
    "ds_cust = pd.read_csv('cust_train.csv')\n",
    "print('Data shape : ', ds_cust.shape)\n",
    "ds_cust.head()"
   ]
  },
  {
   "cell_type": "code",
   "execution_count": 3,
   "id": "c6350ccb-83e9-454e-a227-31c70c2d584a",
   "metadata": {},
   "outputs": [
    {
     "name": "stdout",
     "output_type": "stream",
     "text": [
      "<class 'pandas.core.frame.DataFrame'>\n",
      "RangeIndex: 83123 entries, 0 to 83122\n",
      "Data columns (total 24 columns):\n",
      " #   Column                             Non-Null Count  Dtype  \n",
      "---  ------                             --------------  -----  \n",
      " 0   id                                 83123 non-null  int64  \n",
      " 1   Gender                             83123 non-null  object \n",
      " 2   Customer Type                      83123 non-null  object \n",
      " 3   Age                                83123 non-null  int64  \n",
      " 4   Type of Travel                     83123 non-null  object \n",
      " 5   Class                              83123 non-null  object \n",
      " 6   Flight Distance                    83123 non-null  int64  \n",
      " 7   Inflight wifi service              83123 non-null  int64  \n",
      " 8   Departure/Arrival time convenient  83123 non-null  int64  \n",
      " 9   Ease of Online booking             83123 non-null  int64  \n",
      " 10  Gate location                      83123 non-null  int64  \n",
      " 11  Food and drink                     83123 non-null  int64  \n",
      " 12  Online boarding                    83123 non-null  int64  \n",
      " 13  Seat comfort                       83123 non-null  int64  \n",
      " 14  Inflight entertainment             83123 non-null  int64  \n",
      " 15  On-board service                   83123 non-null  int64  \n",
      " 16  Leg room service                   83123 non-null  int64  \n",
      " 17  Baggage handling                   83123 non-null  int64  \n",
      " 18  Checkin service                    83123 non-null  int64  \n",
      " 19  Inflight service                   83123 non-null  int64  \n",
      " 20  Cleanliness                        83123 non-null  int64  \n",
      " 21  Departure Delay in Minutes         83123 non-null  int64  \n",
      " 22  Arrival Delay in Minutes           82872 non-null  float64\n",
      " 23  satisfaction                       83123 non-null  object \n",
      "dtypes: float64(1), int64(18), object(5)\n",
      "memory usage: 15.2+ MB\n"
     ]
    }
   ],
   "source": [
    "ds_cust.info()"
   ]
  },
  {
   "cell_type": "code",
   "execution_count": 4,
   "id": "3d627d90-e80e-45a3-aed7-d358351b628e",
   "metadata": {},
   "outputs": [
    {
     "data": {
      "text/html": [
       "<div>\n",
       "<style scoped>\n",
       "    .dataframe tbody tr th:only-of-type {\n",
       "        vertical-align: middle;\n",
       "    }\n",
       "\n",
       "    .dataframe tbody tr th {\n",
       "        vertical-align: top;\n",
       "    }\n",
       "\n",
       "    .dataframe thead th {\n",
       "        text-align: right;\n",
       "    }\n",
       "</style>\n",
       "<table border=\"1\" class=\"dataframe\">\n",
       "  <thead>\n",
       "    <tr style=\"text-align: right;\">\n",
       "      <th></th>\n",
       "      <th>id</th>\n",
       "      <th>Age</th>\n",
       "      <th>Flight Distance</th>\n",
       "      <th>Inflight wifi service</th>\n",
       "      <th>Departure/Arrival time convenient</th>\n",
       "      <th>Ease of Online booking</th>\n",
       "      <th>Gate location</th>\n",
       "      <th>Food and drink</th>\n",
       "      <th>Online boarding</th>\n",
       "      <th>Seat comfort</th>\n",
       "      <th>Inflight entertainment</th>\n",
       "      <th>On-board service</th>\n",
       "      <th>Leg room service</th>\n",
       "      <th>Baggage handling</th>\n",
       "      <th>Checkin service</th>\n",
       "      <th>Inflight service</th>\n",
       "      <th>Cleanliness</th>\n",
       "      <th>Departure Delay in Minutes</th>\n",
       "      <th>Arrival Delay in Minutes</th>\n",
       "    </tr>\n",
       "  </thead>\n",
       "  <tbody>\n",
       "    <tr>\n",
       "      <th>count</th>\n",
       "      <td>83123.00</td>\n",
       "      <td>83123.00</td>\n",
       "      <td>83123.00</td>\n",
       "      <td>83123.00</td>\n",
       "      <td>83123.00</td>\n",
       "      <td>83123.00</td>\n",
       "      <td>83123.00</td>\n",
       "      <td>83123.00</td>\n",
       "      <td>83123.00</td>\n",
       "      <td>83123.00</td>\n",
       "      <td>83123.00</td>\n",
       "      <td>83123.00</td>\n",
       "      <td>83123.00</td>\n",
       "      <td>83123.00</td>\n",
       "      <td>83123.00</td>\n",
       "      <td>83123.00</td>\n",
       "      <td>83123.00</td>\n",
       "      <td>83123.00</td>\n",
       "      <td>82872.00</td>\n",
       "    </tr>\n",
       "    <tr>\n",
       "      <th>mean</th>\n",
       "      <td>64971.54</td>\n",
       "      <td>39.35</td>\n",
       "      <td>1190.69</td>\n",
       "      <td>2.73</td>\n",
       "      <td>3.06</td>\n",
       "      <td>2.76</td>\n",
       "      <td>2.98</td>\n",
       "      <td>3.21</td>\n",
       "      <td>3.25</td>\n",
       "      <td>3.44</td>\n",
       "      <td>3.36</td>\n",
       "      <td>3.38</td>\n",
       "      <td>3.35</td>\n",
       "      <td>3.63</td>\n",
       "      <td>3.31</td>\n",
       "      <td>3.64</td>\n",
       "      <td>3.29</td>\n",
       "      <td>14.71</td>\n",
       "      <td>15.06</td>\n",
       "    </tr>\n",
       "    <tr>\n",
       "      <th>std</th>\n",
       "      <td>37465.89</td>\n",
       "      <td>15.10</td>\n",
       "      <td>998.64</td>\n",
       "      <td>1.33</td>\n",
       "      <td>1.53</td>\n",
       "      <td>1.40</td>\n",
       "      <td>1.28</td>\n",
       "      <td>1.33</td>\n",
       "      <td>1.35</td>\n",
       "      <td>1.32</td>\n",
       "      <td>1.33</td>\n",
       "      <td>1.29</td>\n",
       "      <td>1.31</td>\n",
       "      <td>1.18</td>\n",
       "      <td>1.26</td>\n",
       "      <td>1.17</td>\n",
       "      <td>1.31</td>\n",
       "      <td>38.11</td>\n",
       "      <td>38.48</td>\n",
       "    </tr>\n",
       "    <tr>\n",
       "      <th>min</th>\n",
       "      <td>1.00</td>\n",
       "      <td>7.00</td>\n",
       "      <td>31.00</td>\n",
       "      <td>0.00</td>\n",
       "      <td>0.00</td>\n",
       "      <td>0.00</td>\n",
       "      <td>0.00</td>\n",
       "      <td>0.00</td>\n",
       "      <td>0.00</td>\n",
       "      <td>0.00</td>\n",
       "      <td>0.00</td>\n",
       "      <td>0.00</td>\n",
       "      <td>0.00</td>\n",
       "      <td>1.00</td>\n",
       "      <td>0.00</td>\n",
       "      <td>0.00</td>\n",
       "      <td>0.00</td>\n",
       "      <td>0.00</td>\n",
       "      <td>0.00</td>\n",
       "    </tr>\n",
       "    <tr>\n",
       "      <th>25%</th>\n",
       "      <td>32552.50</td>\n",
       "      <td>27.00</td>\n",
       "      <td>413.00</td>\n",
       "      <td>2.00</td>\n",
       "      <td>2.00</td>\n",
       "      <td>2.00</td>\n",
       "      <td>2.00</td>\n",
       "      <td>2.00</td>\n",
       "      <td>2.00</td>\n",
       "      <td>2.00</td>\n",
       "      <td>2.00</td>\n",
       "      <td>2.00</td>\n",
       "      <td>2.00</td>\n",
       "      <td>3.00</td>\n",
       "      <td>3.00</td>\n",
       "      <td>3.00</td>\n",
       "      <td>2.00</td>\n",
       "      <td>0.00</td>\n",
       "      <td>0.00</td>\n",
       "    </tr>\n",
       "    <tr>\n",
       "      <th>50%</th>\n",
       "      <td>64864.00</td>\n",
       "      <td>40.00</td>\n",
       "      <td>844.00</td>\n",
       "      <td>3.00</td>\n",
       "      <td>3.00</td>\n",
       "      <td>3.00</td>\n",
       "      <td>3.00</td>\n",
       "      <td>3.00</td>\n",
       "      <td>3.00</td>\n",
       "      <td>4.00</td>\n",
       "      <td>4.00</td>\n",
       "      <td>4.00</td>\n",
       "      <td>4.00</td>\n",
       "      <td>4.00</td>\n",
       "      <td>3.00</td>\n",
       "      <td>4.00</td>\n",
       "      <td>3.00</td>\n",
       "      <td>0.00</td>\n",
       "      <td>0.00</td>\n",
       "    </tr>\n",
       "    <tr>\n",
       "      <th>75%</th>\n",
       "      <td>97430.50</td>\n",
       "      <td>51.00</td>\n",
       "      <td>1744.00</td>\n",
       "      <td>4.00</td>\n",
       "      <td>4.00</td>\n",
       "      <td>4.00</td>\n",
       "      <td>4.00</td>\n",
       "      <td>4.00</td>\n",
       "      <td>4.00</td>\n",
       "      <td>5.00</td>\n",
       "      <td>4.00</td>\n",
       "      <td>4.00</td>\n",
       "      <td>4.00</td>\n",
       "      <td>5.00</td>\n",
       "      <td>4.00</td>\n",
       "      <td>5.00</td>\n",
       "      <td>4.00</td>\n",
       "      <td>12.00</td>\n",
       "      <td>13.00</td>\n",
       "    </tr>\n",
       "    <tr>\n",
       "      <th>max</th>\n",
       "      <td>129880.00</td>\n",
       "      <td>85.00</td>\n",
       "      <td>4983.00</td>\n",
       "      <td>5.00</td>\n",
       "      <td>5.00</td>\n",
       "      <td>5.00</td>\n",
       "      <td>5.00</td>\n",
       "      <td>5.00</td>\n",
       "      <td>5.00</td>\n",
       "      <td>5.00</td>\n",
       "      <td>5.00</td>\n",
       "      <td>5.00</td>\n",
       "      <td>5.00</td>\n",
       "      <td>5.00</td>\n",
       "      <td>5.00</td>\n",
       "      <td>5.00</td>\n",
       "      <td>5.00</td>\n",
       "      <td>1592.00</td>\n",
       "      <td>1584.00</td>\n",
       "    </tr>\n",
       "  </tbody>\n",
       "</table>\n",
       "</div>"
      ],
      "text/plain": [
       "             id      Age  Flight Distance  Inflight wifi service  \\\n",
       "count  83123.00 83123.00         83123.00               83123.00   \n",
       "mean   64971.54    39.35          1190.69                   2.73   \n",
       "std    37465.89    15.10           998.64                   1.33   \n",
       "min        1.00     7.00            31.00                   0.00   \n",
       "25%    32552.50    27.00           413.00                   2.00   \n",
       "50%    64864.00    40.00           844.00                   3.00   \n",
       "75%    97430.50    51.00          1744.00                   4.00   \n",
       "max   129880.00    85.00          4983.00                   5.00   \n",
       "\n",
       "       Departure/Arrival time convenient  Ease of Online booking  \\\n",
       "count                           83123.00                83123.00   \n",
       "mean                                3.06                    2.76   \n",
       "std                                 1.53                    1.40   \n",
       "min                                 0.00                    0.00   \n",
       "25%                                 2.00                    2.00   \n",
       "50%                                 3.00                    3.00   \n",
       "75%                                 4.00                    4.00   \n",
       "max                                 5.00                    5.00   \n",
       "\n",
       "       Gate location  Food and drink  Online boarding  Seat comfort  \\\n",
       "count       83123.00        83123.00         83123.00      83123.00   \n",
       "mean            2.98            3.21             3.25          3.44   \n",
       "std             1.28            1.33             1.35          1.32   \n",
       "min             0.00            0.00             0.00          0.00   \n",
       "25%             2.00            2.00             2.00          2.00   \n",
       "50%             3.00            3.00             3.00          4.00   \n",
       "75%             4.00            4.00             4.00          5.00   \n",
       "max             5.00            5.00             5.00          5.00   \n",
       "\n",
       "       Inflight entertainment  On-board service  Leg room service  \\\n",
       "count                83123.00          83123.00          83123.00   \n",
       "mean                     3.36              3.38              3.35   \n",
       "std                      1.33              1.29              1.31   \n",
       "min                      0.00              0.00              0.00   \n",
       "25%                      2.00              2.00              2.00   \n",
       "50%                      4.00              4.00              4.00   \n",
       "75%                      4.00              4.00              4.00   \n",
       "max                      5.00              5.00              5.00   \n",
       "\n",
       "       Baggage handling  Checkin service  Inflight service  Cleanliness  \\\n",
       "count          83123.00         83123.00          83123.00     83123.00   \n",
       "mean               3.63             3.31              3.64         3.29   \n",
       "std                1.18             1.26              1.17         1.31   \n",
       "min                1.00             0.00              0.00         0.00   \n",
       "25%                3.00             3.00              3.00         2.00   \n",
       "50%                4.00             3.00              4.00         3.00   \n",
       "75%                5.00             4.00              5.00         4.00   \n",
       "max                5.00             5.00              5.00         5.00   \n",
       "\n",
       "       Departure Delay in Minutes  Arrival Delay in Minutes  \n",
       "count                    83123.00                  82872.00  \n",
       "mean                        14.71                     15.06  \n",
       "std                         38.11                     38.48  \n",
       "min                          0.00                      0.00  \n",
       "25%                          0.00                      0.00  \n",
       "50%                          0.00                      0.00  \n",
       "75%                         12.00                     13.00  \n",
       "max                       1592.00                   1584.00  "
      ]
     },
     "execution_count": 4,
     "metadata": {},
     "output_type": "execute_result"
    }
   ],
   "source": [
    "ds_cust.describe()"
   ]
  },
  {
   "cell_type": "markdown",
   "id": "c558ea8e-7bb6-43e7-83aa-9650a28e8ed9",
   "metadata": {},
   "source": [
    "**Observations:**\n",
    "\n",
    "- We can see there are total **83123** records and **24** features.\n",
    "\n",
    "- Feature **Satisfaction** will be used as the target variable whic provide passanger satisfaction.\n",
    "- **Arrival Delay** have missing value in the given dataset.\n",
    "- All feedback are collected in numbers between 0 to 5."
   ]
  },
  {
   "cell_type": "markdown",
   "id": "a7a450f8-1f45-468e-9e71-fa45fe0014b9",
   "metadata": {},
   "source": [
    "<a name = Section5></a>\n",
    "\n",
    "---\n",
    "# **5. Data Pre-Profiling**\n",
    "---"
   ]
  },
  {
   "cell_type": "code",
   "execution_count": 5,
   "id": "6a5b2910-c0d7-463a-b41a-3de29db0b19e",
   "metadata": {},
   "outputs": [
    {
     "data": {
      "text/plain": [
       "(0, 24)"
      ]
     },
     "execution_count": 5,
     "metadata": {},
     "output_type": "execute_result"
    }
   ],
   "source": [
    "ds_cust[ds_cust.duplicated()].shape"
   ]
  },
  {
   "cell_type": "markdown",
   "id": "72efa2fe-3160-425f-8f00-4548a2ab945d",
   "metadata": {},
   "source": [
    "#### There are no duplicates value"
   ]
  },
  {
   "cell_type": "code",
   "execution_count": 6,
   "id": "5b2242f4-6d66-4acc-9422-0126b14326a4",
   "metadata": {},
   "outputs": [
    {
     "data": {
      "text/plain": [
       "id                                     0\n",
       "Gender                                 0\n",
       "Customer Type                          0\n",
       "Age                                    0\n",
       "Type of Travel                         0\n",
       "Class                                  0\n",
       "Flight Distance                        0\n",
       "Inflight wifi service                  0\n",
       "Departure/Arrival time convenient      0\n",
       "Ease of Online booking                 0\n",
       "Gate location                          0\n",
       "Food and drink                         0\n",
       "Online boarding                        0\n",
       "Seat comfort                           0\n",
       "Inflight entertainment                 0\n",
       "On-board service                       0\n",
       "Leg room service                       0\n",
       "Baggage handling                       0\n",
       "Checkin service                        0\n",
       "Inflight service                       0\n",
       "Cleanliness                            0\n",
       "Departure Delay in Minutes             0\n",
       "Arrival Delay in Minutes             251\n",
       "satisfaction                           0\n",
       "dtype: int64"
      ]
     },
     "execution_count": 6,
     "metadata": {},
     "output_type": "execute_result"
    }
   ],
   "source": [
    "ds_cust.shape[0]-ds_cust.count()"
   ]
  },
  {
   "cell_type": "markdown",
   "id": "d87ed268-ff6b-45b8-a7fe-c1a45f7ca703",
   "metadata": {},
   "source": [
    "#### We have 251 records missing in one feature. We will remove these records as mean and median are very far from each other."
   ]
  },
  {
   "cell_type": "code",
   "execution_count": 7,
   "id": "3924dd0b-7f31-470b-803a-fe921895e721",
   "metadata": {},
   "outputs": [
    {
     "data": {
      "text/plain": [
       "Female    42117\n",
       "Male      41006\n",
       "Name: Gender, dtype: int64"
      ]
     },
     "execution_count": 7,
     "metadata": {},
     "output_type": "execute_result"
    }
   ],
   "source": [
    "ds_cust['Gender'].value_counts()"
   ]
  },
  {
   "cell_type": "code",
   "execution_count": 8,
   "id": "08cec5c8-35a0-46c1-a0ff-e6800517137b",
   "metadata": {},
   "outputs": [
    {
     "data": {
      "text/plain": [
       "Loyal Customer       67915\n",
       "disloyal Customer    15208\n",
       "Name: Customer Type, dtype: int64"
      ]
     },
     "execution_count": 8,
     "metadata": {},
     "output_type": "execute_result"
    }
   ],
   "source": [
    "ds_cust['Customer Type'].value_counts()"
   ]
  },
  {
   "cell_type": "code",
   "execution_count": 9,
   "id": "580df104-3934-4d9e-8202-b39a9c797190",
   "metadata": {},
   "outputs": [
    {
     "data": {
      "text/plain": [
       "Business travel    57310\n",
       "Personal Travel    25813\n",
       "Name: Type of Travel, dtype: int64"
      ]
     },
     "execution_count": 9,
     "metadata": {},
     "output_type": "execute_result"
    }
   ],
   "source": [
    "ds_cust['Type of Travel'].value_counts()"
   ]
  },
  {
   "cell_type": "code",
   "execution_count": 10,
   "id": "417fb85f-ac10-4cb6-af1a-3b7f065420c6",
   "metadata": {},
   "outputs": [
    {
     "data": {
      "text/plain": [
       "Business    39691\n",
       "Eco         37457\n",
       "Eco Plus     5975\n",
       "Name: Class, dtype: int64"
      ]
     },
     "execution_count": 10,
     "metadata": {},
     "output_type": "execute_result"
    }
   ],
   "source": [
    "ds_cust['Class'].value_counts()"
   ]
  },
  {
   "cell_type": "code",
   "execution_count": 11,
   "id": "3ea56049-7d38-4194-a8af-81cf0158155d",
   "metadata": {},
   "outputs": [
    {
     "data": {
      "text/plain": [
       "neutral or dissatisfied    47004\n",
       "satisfied                  36119\n",
       "Name: satisfaction, dtype: int64"
      ]
     },
     "execution_count": 11,
     "metadata": {},
     "output_type": "execute_result"
    }
   ],
   "source": [
    "ds_cust['satisfaction'].value_counts()"
   ]
  },
  {
   "cell_type": "markdown",
   "id": "03ba10b8-384d-4682-8888-f2c3c293b50e",
   "metadata": {},
   "source": [
    "**Observations:**\n",
    "\n",
    "- There is no garbage value or inconsistent data in all categorical data.\n",
    "\n",
    "- Feature **Class** has some biased data as **Eco Plus**."
   ]
  },
  {
   "cell_type": "markdown",
   "id": "952af449-ab74-43e9-ba4e-c61c4ab29a9c",
   "metadata": {},
   "source": [
    "**Observations:**\n",
    "\n",
    "- By seeing data on flight distance there are outliers.\n",
    "\n",
    "- But with some research **2.7 KM** is the **minimum** flight distance in this world.\n",
    "\n",
    "- So the distance of **31, 56** can be treated as actual data."
   ]
  },
  {
   "cell_type": "markdown",
   "id": "7a32840e-8b3c-4cc6-a58a-f4028ea59810",
   "metadata": {},
   "source": [
    "<a name = Section6></a>\n",
    "\n",
    "---\n",
    "# **6. Data Cleaning**\n",
    "---\n",
    "\n",
    "- In this section, we will perform the **cleaning** operations over the features using information from the previous section.\n",
    "\n",
    "- In the above analysis we are fixing the missing value with the mean."
   ]
  },
  {
   "cell_type": "code",
   "execution_count": 12,
   "id": "cffdb464-4e01-4c0d-856d-3132a8a475f2",
   "metadata": {},
   "outputs": [],
   "source": [
    "mean = ds_cust['Arrival Delay in Minutes'].median()\n",
    "ds_cust['Arrival Delay in Minutes'].fillna(mean, inplace = True)"
   ]
  },
  {
   "cell_type": "code",
   "execution_count": 13,
   "id": "cbf25e18-16a5-4d69-aaaa-315602eb910d",
   "metadata": {},
   "outputs": [
    {
     "name": "stdout",
     "output_type": "stream",
     "text": [
      "<class 'pandas.core.frame.DataFrame'>\n",
      "RangeIndex: 83123 entries, 0 to 83122\n",
      "Data columns (total 24 columns):\n",
      " #   Column                             Non-Null Count  Dtype  \n",
      "---  ------                             --------------  -----  \n",
      " 0   id                                 83123 non-null  int64  \n",
      " 1   Gender                             83123 non-null  object \n",
      " 2   Customer Type                      83123 non-null  object \n",
      " 3   Age                                83123 non-null  int64  \n",
      " 4   Type of Travel                     83123 non-null  object \n",
      " 5   Class                              83123 non-null  object \n",
      " 6   Flight Distance                    83123 non-null  int64  \n",
      " 7   Inflight wifi service              83123 non-null  int64  \n",
      " 8   Departure/Arrival time convenient  83123 non-null  int64  \n",
      " 9   Ease of Online booking             83123 non-null  int64  \n",
      " 10  Gate location                      83123 non-null  int64  \n",
      " 11  Food and drink                     83123 non-null  int64  \n",
      " 12  Online boarding                    83123 non-null  int64  \n",
      " 13  Seat comfort                       83123 non-null  int64  \n",
      " 14  Inflight entertainment             83123 non-null  int64  \n",
      " 15  On-board service                   83123 non-null  int64  \n",
      " 16  Leg room service                   83123 non-null  int64  \n",
      " 17  Baggage handling                   83123 non-null  int64  \n",
      " 18  Checkin service                    83123 non-null  int64  \n",
      " 19  Inflight service                   83123 non-null  int64  \n",
      " 20  Cleanliness                        83123 non-null  int64  \n",
      " 21  Departure Delay in Minutes         83123 non-null  int64  \n",
      " 22  Arrival Delay in Minutes           83123 non-null  float64\n",
      " 23  satisfaction                       83123 non-null  object \n",
      "dtypes: float64(1), int64(18), object(5)\n",
      "memory usage: 15.2+ MB\n"
     ]
    }
   ],
   "source": [
    "ds_cust.info()"
   ]
  },
  {
   "cell_type": "markdown",
   "id": "e6c28f58-0418-450b-9940-649f584f1231",
   "metadata": {},
   "source": [
    "**Observations:**\n",
    "\n",
    "- Treated missing value, after checking mean value all looks fine."
   ]
  },
  {
   "cell_type": "markdown",
   "id": "f2c2ca9d-f6bc-441d-943f-1b8bcef0e204",
   "metadata": {},
   "source": [
    "<a name = Section7></a>\n",
    "\n",
    "---\n",
    "# **7. Exploratory Data Analysis**\n",
    "---"
   ]
  },
  {
   "cell_type": "markdown",
   "id": "93c64e01-cae7-4306-9a23-481b388c6c72",
   "metadata": {},
   "source": [
    "**<h3>Question:** What is the gender ratio in feedback form?</h3>"
   ]
  },
  {
   "cell_type": "code",
   "execution_count": 14,
   "id": "bb56a9c1-bab0-49a9-9e7a-9328f0cbea48",
   "metadata": {},
   "outputs": [
    {
     "data": {
      "image/png": "[encoded data removed]",
      "text/plain": [
       "<Figure size 504x504 with 1 Axes>"
      ]
     },
     "metadata": {},
     "output_type": "display_data"
    }
   ],
   "source": [
    "ds_cust.Gender.value_counts().plot(kind='pie',\n",
    "                                                                autopct='%3.1f%%',\n",
    "                                                                wedgeprops=dict(width=0.15), \n",
    "                                                                explode=np.ones(2)/15,\n",
    "                                                                figsize=(7, 7),\n",
    "                                                                fontsize=12, \n",
    "                                                                startangle=45,\n",
    "                                                                label='Gender')\n",
    "plt.show()"
   ]
  },
  {
   "cell_type": "markdown",
   "id": "3d76aaf2-7410-4cac-b958-b0f34d450165",
   "metadata": {},
   "source": [
    "**Observations:**\n",
    "\n",
    "- **Female** have given little more feedback than **male**.\n",
    "- **Percentage** difference is very less."
   ]
  },
  {
   "cell_type": "markdown",
   "id": "c58953df-971a-4032-984c-e60e152826e3",
   "metadata": {},
   "source": [
    "**<h3>Question:** What is the ratio of type of customer?</h3>"
   ]
  },
  {
   "cell_type": "code",
   "execution_count": 15,
   "id": "9e4bfe61-ee34-48ca-b437-ceb2c87851f9",
   "metadata": {},
   "outputs": [
    {
     "data": {
      "image/png": "[encoded data removed]",
      "text/plain": [
       "<Figure size 504x504 with 1 Axes>"
      ]
     },
     "metadata": {},
     "output_type": "display_data"
    }
   ],
   "source": [
    "ds_cust['Customer Type'].value_counts().plot(kind='pie',\n",
    "                                                                autopct='%3.1f%%',\n",
    "                                                                wedgeprops=dict(width=0.15), \n",
    "                                                                explode=np.ones(2)/15,\n",
    "                                                                figsize=(7, 7),\n",
    "                                                                fontsize=12, \n",
    "                                                                startangle=45,\n",
    "                                            label='')\n",
    "plt.title('Customer Type',fontsize=20)\n",
    "plt.show()"
   ]
  },
  {
   "cell_type": "markdown",
   "id": "ed637287-5329-41e9-8077-27f9cf577dac",
   "metadata": {},
   "source": [
    "**Observations:**\n",
    "\n",
    "- Most customers are **loyal** customers.\n",
    "- **Percentage** of disloyal customers is just **18.3%**."
   ]
  },
  {
   "cell_type": "markdown",
   "id": "ca2fe976-f2ec-4be6-9a89-975e95d257f7",
   "metadata": {},
   "source": [
    "**<h3>Question:** What is the Age distribution among passanger?</h3>"
   ]
  },
  {
   "cell_type": "code",
   "execution_count": 16,
   "id": "846e4057-3d97-4b9e-a541-8a3e5d19a14b",
   "metadata": {},
   "outputs": [
    {
     "data": {
      "image/png": "[encoded data removed]",
      "text/plain": [
       "<Figure size 1080x504 with 1 Axes>"
      ]
     },
     "metadata": {
      "needs_background": "light"
     },
     "output_type": "display_data"
    }
   ],
   "source": [
    "fig = plt.figure(figsize=(15, 7))\n",
    "\n",
    "# Plot density distribution of age\n",
    "sns.distplot(a=ds_cust.Age, kde=True)\n",
    "\n",
    "# Add some cosmetics\n",
    "plt.title(label='Age distribution of passangers', size=16)\n",
    "plt.xlabel(xlabel='Age', size=14)\n",
    "plt.ylabel(ylabel='Frequecy', size=14)\n",
    "plt.xticks(size=12)\n",
    "plt.yticks(size=12)\n",
    "plt.grid(b=True)\n",
    "plt.axvline(ds_cust.Age.mean(), color = 'b')\n",
    "plt.axvline(ds_cust.Age.median(), color = 'r')\n",
    "\n",
    "# Display the plot\n",
    "plt.show()"
   ]
  },
  {
   "cell_type": "markdown",
   "id": "0442be4e-5adb-491b-af95-97b203322341",
   "metadata": {},
   "source": [
    "**Observations:**\n",
    "\n",
    "- Most customers’ ages are between **25** to **60**.\n",
    "- There is a small dip in age between **30** to **35**.\n",
    "- We can say data is normally distributed.\n",
    "- **Mean** and **Median** are near to each other."
   ]
  },
  {
   "cell_type": "markdown",
   "id": "1c9cdddb-4d2c-4fa1-b9bc-ff2494c6cf42",
   "metadata": {},
   "source": [
    "**<h3>Question:** What is the ratio of the type of travel among passengers?</h3>"
   ]
  },
  {
   "cell_type": "code",
   "execution_count": 17,
   "id": "9a87ac4c-1596-49f4-9112-9cd010c00e02",
   "metadata": {},
   "outputs": [
    {
     "data": {
      "image/png": "[encoded data removed]",
      "text/plain": [
       "<Figure size 504x504 with 1 Axes>"
      ]
     },
     "metadata": {},
     "output_type": "display_data"
    }
   ],
   "source": [
    "ds_cust['Type of Travel'].value_counts().plot(kind='pie',\n",
    "                                                                autopct='%3.1f%%',\n",
    "                                                                wedgeprops=dict(width=0.15), \n",
    "                                                                explode=np.ones(2)/15,\n",
    "                                                                figsize=(7, 7),\n",
    "                                                                fontsize=12, \n",
    "                                                                startangle=45,\n",
    "                                            label='')\n",
    "plt.title('Type of Travel',fontsize=20)\n",
    "plt.show()"
   ]
  },
  {
   "cell_type": "markdown",
   "id": "46397f8b-b4e6-433b-bce0-485e4b54d1b5",
   "metadata": {},
   "source": [
    "**Observations:**\n",
    "\n",
    "- **69%** passengers travel for *bussiness*.\n",
    "- **31%** passengers travel for personal reasons."
   ]
  },
  {
   "cell_type": "code",
   "execution_count": 19,
   "id": "0c1b95bd-cd5d-4c78-aa6a-fc873255983c",
   "metadata": {},
   "outputs": [
    {
     "data": {
      "image/png": "[encoded data removed]",
      "text/plain": [
       "<Figure size 504x504 with 1 Axes>"
      ]
     },
     "metadata": {},
     "output_type": "display_data"
    }
   ],
   "source": [
    "ds_cust.Class.value_counts().plot(kind='pie',\n",
    "                                                                autopct='%3.1f%%',\n",
    "                                                                wedgeprops=dict(width=0.15), \n",
    "                                                                explode=np.ones(3)/15,\n",
    "                                                                figsize=(7, 7),\n",
    "                                                                fontsize=12, \n",
    "                                                                startangle=45,\n",
    "                                            label='')\n",
    "plt.title('Seating Class',fontsize=20)\n",
    "plt.show()"
   ]
  },
  {
   "cell_type": "code",
   "execution_count": 21,
   "id": "3a915e54-bdf1-43c8-a43e-8e6390455297",
   "metadata": {},
   "outputs": [
    {
     "data": {
      "image/png": "[encoded data removed]",
      "text/plain": [
       "<Figure size 1080x504 with 1 Axes>"
      ]
     },
     "metadata": {
      "needs_background": "light"
     },
     "output_type": "display_data"
    }
   ],
   "source": [
    "fig = plt.figure(figsize=(15, 7))\n",
    "\n",
    "# Plot density distribution of age\n",
    "sns.distplot(a=ds_cust['Flight Distance'], kde=True)\n",
    "\n",
    "# Add some cosmetics\n",
    "plt.title(label='Flight Distance distribution', size=16)\n",
    "plt.xlabel(xlabel='Flight Distance', size=14)\n",
    "plt.ylabel(ylabel='Frequecy', size=14)\n",
    "plt.xticks(size=12)\n",
    "plt.yticks(size=12)\n",
    "plt.grid(b=True)\n",
    "plt.axvline(ds_cust['Flight Distance'].mean(), color = 'b')\n",
    "plt.axvline(ds_cust['Flight Distance'].median(), color = 'r')\n",
    "\n",
    "# Display the plot\n",
    "plt.show()"
   ]
  },
  {
   "cell_type": "code",
   "execution_count": 22,
   "id": "2f5f3774-9d78-40e0-886a-dd409d4fb39f",
   "metadata": {},
   "outputs": [
    {
     "data": {
      "text/html": [
       "<div>\n",
       "<style scoped>\n",
       "    .dataframe tbody tr th:only-of-type {\n",
       "        vertical-align: middle;\n",
       "    }\n",
       "\n",
       "    .dataframe tbody tr th {\n",
       "        vertical-align: top;\n",
       "    }\n",
       "\n",
       "    .dataframe thead th {\n",
       "        text-align: right;\n",
       "    }\n",
       "</style>\n",
       "<table border=\"1\" class=\"dataframe\">\n",
       "  <thead>\n",
       "    <tr style=\"text-align: right;\">\n",
       "      <th></th>\n",
       "      <th>id</th>\n",
       "      <th>Gender</th>\n",
       "      <th>Customer Type</th>\n",
       "      <th>Age</th>\n",
       "      <th>Type of Travel</th>\n",
       "      <th>Class</th>\n",
       "      <th>Flight Distance</th>\n",
       "      <th>Inflight wifi service</th>\n",
       "      <th>Departure/Arrival time convenient</th>\n",
       "      <th>Ease of Online booking</th>\n",
       "      <th>Gate location</th>\n",
       "      <th>Food and drink</th>\n",
       "      <th>Online boarding</th>\n",
       "      <th>Seat comfort</th>\n",
       "      <th>Inflight entertainment</th>\n",
       "      <th>On-board service</th>\n",
       "      <th>Leg room service</th>\n",
       "      <th>Baggage handling</th>\n",
       "      <th>Checkin service</th>\n",
       "      <th>Inflight service</th>\n",
       "      <th>Cleanliness</th>\n",
       "      <th>Departure Delay in Minutes</th>\n",
       "      <th>Arrival Delay in Minutes</th>\n",
       "      <th>satisfaction</th>\n",
       "    </tr>\n",
       "  </thead>\n",
       "  <tbody>\n",
       "    <tr>\n",
       "      <th>0</th>\n",
       "      <td>51032</td>\n",
       "      <td>Female</td>\n",
       "      <td>Loyal Customer</td>\n",
       "      <td>30</td>\n",
       "      <td>Personal Travel</td>\n",
       "      <td>Eco</td>\n",
       "      <td>193</td>\n",
       "      <td>3</td>\n",
       "      <td>4</td>\n",
       "      <td>0</td>\n",
       "      <td>3</td>\n",
       "      <td>5</td>\n",
       "      <td>0</td>\n",
       "      <td>5</td>\n",
       "      <td>5</td>\n",
       "      <td>4</td>\n",
       "      <td>5</td>\n",
       "      <td>3</td>\n",
       "      <td>4</td>\n",
       "      <td>4</td>\n",
       "      <td>5</td>\n",
       "      <td>0</td>\n",
       "      <td>0.00</td>\n",
       "      <td>neutral or dissatisfied</td>\n",
       "    </tr>\n",
       "    <tr>\n",
       "      <th>1</th>\n",
       "      <td>54504</td>\n",
       "      <td>Female</td>\n",
       "      <td>Loyal Customer</td>\n",
       "      <td>51</td>\n",
       "      <td>Business travel</td>\n",
       "      <td>Eco</td>\n",
       "      <td>925</td>\n",
       "      <td>2</td>\n",
       "      <td>1</td>\n",
       "      <td>1</td>\n",
       "      <td>1</td>\n",
       "      <td>5</td>\n",
       "      <td>3</td>\n",
       "      <td>2</td>\n",
       "      <td>2</td>\n",
       "      <td>2</td>\n",
       "      <td>2</td>\n",
       "      <td>2</td>\n",
       "      <td>3</td>\n",
       "      <td>2</td>\n",
       "      <td>3</td>\n",
       "      <td>47</td>\n",
       "      <td>29.00</td>\n",
       "      <td>neutral or dissatisfied</td>\n",
       "    </tr>\n",
       "    <tr>\n",
       "      <th>2</th>\n",
       "      <td>13387</td>\n",
       "      <td>Male</td>\n",
       "      <td>disloyal Customer</td>\n",
       "      <td>27</td>\n",
       "      <td>Business travel</td>\n",
       "      <td>Eco</td>\n",
       "      <td>505</td>\n",
       "      <td>0</td>\n",
       "      <td>0</td>\n",
       "      <td>0</td>\n",
       "      <td>4</td>\n",
       "      <td>1</td>\n",
       "      <td>0</td>\n",
       "      <td>1</td>\n",
       "      <td>1</td>\n",
       "      <td>5</td>\n",
       "      <td>5</td>\n",
       "      <td>2</td>\n",
       "      <td>3</td>\n",
       "      <td>2</td>\n",
       "      <td>1</td>\n",
       "      <td>0</td>\n",
       "      <td>0.00</td>\n",
       "      <td>satisfied</td>\n",
       "    </tr>\n",
       "    <tr>\n",
       "      <th>3</th>\n",
       "      <td>17388</td>\n",
       "      <td>Female</td>\n",
       "      <td>Loyal Customer</td>\n",
       "      <td>52</td>\n",
       "      <td>Business travel</td>\n",
       "      <td>Business</td>\n",
       "      <td>2953</td>\n",
       "      <td>2</td>\n",
       "      <td>2</td>\n",
       "      <td>2</td>\n",
       "      <td>2</td>\n",
       "      <td>3</td>\n",
       "      <td>4</td>\n",
       "      <td>5</td>\n",
       "      <td>5</td>\n",
       "      <td>5</td>\n",
       "      <td>5</td>\n",
       "      <td>5</td>\n",
       "      <td>4</td>\n",
       "      <td>5</td>\n",
       "      <td>5</td>\n",
       "      <td>10</td>\n",
       "      <td>2.00</td>\n",
       "      <td>satisfied</td>\n",
       "    </tr>\n",
       "    <tr>\n",
       "      <th>4</th>\n",
       "      <td>91598</td>\n",
       "      <td>Female</td>\n",
       "      <td>disloyal Customer</td>\n",
       "      <td>15</td>\n",
       "      <td>Business travel</td>\n",
       "      <td>Eco</td>\n",
       "      <td>1352</td>\n",
       "      <td>4</td>\n",
       "      <td>4</td>\n",
       "      <td>4</td>\n",
       "      <td>2</td>\n",
       "      <td>2</td>\n",
       "      <td>4</td>\n",
       "      <td>2</td>\n",
       "      <td>2</td>\n",
       "      <td>4</td>\n",
       "      <td>3</td>\n",
       "      <td>5</td>\n",
       "      <td>3</td>\n",
       "      <td>5</td>\n",
       "      <td>2</td>\n",
       "      <td>0</td>\n",
       "      <td>0.00</td>\n",
       "      <td>satisfied</td>\n",
       "    </tr>\n",
       "  </tbody>\n",
       "</table>\n",
       "</div>"
      ],
      "text/plain": [
       "      id  Gender      Customer Type  Age   Type of Travel     Class  \\\n",
       "0  51032  Female     Loyal Customer   30  Personal Travel       Eco   \n",
       "1  54504  Female     Loyal Customer   51  Business travel       Eco   \n",
       "2  13387    Male  disloyal Customer   27  Business travel       Eco   \n",
       "3  17388  Female     Loyal Customer   52  Business travel  Business   \n",
       "4  91598  Female  disloyal Customer   15  Business travel       Eco   \n",
       "\n",
       "   Flight Distance  Inflight wifi service  Departure/Arrival time convenient  \\\n",
       "0              193                      3                                  4   \n",
       "1              925                      2                                  1   \n",
       "2              505                      0                                  0   \n",
       "3             2953                      2                                  2   \n",
       "4             1352                      4                                  4   \n",
       "\n",
       "   Ease of Online booking  Gate location  Food and drink  Online boarding  \\\n",
       "0                       0              3               5                0   \n",
       "1                       1              1               5                3   \n",
       "2                       0              4               1                0   \n",
       "3                       2              2               3                4   \n",
       "4                       4              2               2                4   \n",
       "\n",
       "   Seat comfort  Inflight entertainment  On-board service  Leg room service  \\\n",
       "0             5                       5                 4                 5   \n",
       "1             2                       2                 2                 2   \n",
       "2             1                       1                 5                 5   \n",
       "3             5                       5                 5                 5   \n",
       "4             2                       2                 4                 3   \n",
       "\n",
       "   Baggage handling  Checkin service  Inflight service  Cleanliness  \\\n",
       "0                 3                4                 4            5   \n",
       "1                 2                3                 2            3   \n",
       "2                 2                3                 2            1   \n",
       "3                 5                4                 5            5   \n",
       "4                 5                3                 5            2   \n",
       "\n",
       "   Departure Delay in Minutes  Arrival Delay in Minutes  \\\n",
       "0                           0                      0.00   \n",
       "1                          47                     29.00   \n",
       "2                           0                      0.00   \n",
       "3                          10                      2.00   \n",
       "4                           0                      0.00   \n",
       "\n",
       "              satisfaction  \n",
       "0  neutral or dissatisfied  \n",
       "1  neutral or dissatisfied  \n",
       "2                satisfied  \n",
       "3                satisfied  \n",
       "4                satisfied  "
      ]
     },
     "execution_count": 22,
     "metadata": {},
     "output_type": "execute_result"
    }
   ],
   "source": [
    "ds_cust.head()"
   ]
  },
  {
   "cell_type": "code",
   "execution_count": null,
   "id": "1dd81d5a-eb75-44d1-abb7-d9fd45e76e99",
   "metadata": {},
   "outputs": [],
   "source": [
    "from sklearn.preprocessing import StandardScaler                    # Importing to scale the features\n",
    "from sklearn.model_selection import train_test_split                # Importing to split the data into train and test data\n",
    "from sklearn.neighbors import KNeighborsClassifier                  # To instantiate a KNN Classifier\n",
    "from sklearn.linear_model import LogisticRegression                 # To instantiate a Logistic Regression Classifier\n",
    "from sklearn.ensemble import RandomForestClassifier                 # To instantiate a Random Forest Classifier\n",
    "from sklearn.naive_bayes import GaussianNB                          # To instantiate a Naive Bayes Classifier\n",
    "from sklearn.metrics import accuracy_score                          # To calculate the accuracy of classifiers\n",
    "from sklearn.model_selection import KFold                           # To create k folds for cross validation\n",
    "from sklearn.model_selection import cross_validate                  # To calculate cross validation scores\n",
    "from sklearn.model_selection import GridSearchCV                    # To tune the models\n",
    "\n"
   ]
  }
 ],
 "metadata": {
  "kernelspec": {
   "display_name": "Python 3 (ipykernel)",
   "language": "python",
   "name": "python3"
  },
  "language_info": {
   "codemirror_mode": {
    "name": "ipython",
    "version": 3
   },
   "file_extension": ".py",
   "mimetype": "text/x-python",
   "name": "python",
   "nbconvert_exporter": "python",
   "pygments_lexer": "ipython3",
   "version": "3.9.7"
  }
 },
 "nbformat": 4,
 "nbformat_minor": 5
}
