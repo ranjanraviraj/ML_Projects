{
 "cells": [
  {
   "cell_type": "markdown",
   "id": "b2055224-15e8-49eb-87e3-12f765051212",
   "metadata": {},
   "source": [
    "# <center><b>Prediction of Abalone Age<b></center>"
   ]
  },
  {
   "cell_type": "markdown",
   "id": "c219529b-6f84-4480-8307-83b5717f93e2",
   "metadata": {},
   "source": [
    "---\n",
    "# **Table of Contents**\n",
    "---\n",
    "\n",
    "**1.** [**Introduction**](#Section1)<br>\n",
    "**2.** [**Problem Statement**](#Section2)<br>\n",
    "**3.** [**Installing & Importing Libraries**](#Section3)<br>\n",
    "\n",
    "**4.** [**Data Acquisition & Description**](#Section4)<br>\n",
    "\n",
    "**5.** [**Data Pre-Profiling**](#Section5)<br>\n",
    "\n",
    "**6.** [**Data Cleaning**](#Section6)<br>\n",
    "**7.** [**Exploratory Data Analysis**](#Section7)<br>\n",
    "**8.** [**Model Development & Evaluation**](#Section8)<br>\n",
    "  - **8.1** [**Train test split**](#Section81)<br>\n",
    "  - **8.2** [**Label Encoding**](#Section82)<br>\n",
    "  - **8.3** [**Model creation**](#Section83)<br>\n",
    "  - **8.3.1** [**Linear Regression**](#Section831)<br>\n",
    "  - **8.3.2** [**Decision Tree Regressor**](#Section832)<br>\n",
    "  - **8.3.3** [**GridSearchCV**](#Section833)<br>\n",
    "**9.** [**Summarization**](#Section9)<br>\n",
    "  - **9.1** [**Conclusion**](#Section91)<br>"
   ]
  },
  {
   "cell_type": "markdown",
   "id": "001aa51b-178a-4bba-8379-d364afea8ce2",
   "metadata": {},
   "source": [
    "---\n",
    "<a name = Section1></a>\n",
    "# **1. Introduction**\n",
    "---\n",
    "\n",
    "- **Abalones** are marine snails.\n",
    "\n",
    "- The flesh of abalones is widely considered to be a **desirable food**, and is consumed **raw** or **cooked** by a variety of **cultures**. \n",
    "\n",
    "- The age of **abalone** is determined by cutting the shell through the cone, staining it, and counting the **number of rings** through a microscope.\n",
    "\n",
    "- The **economic value** of **abalone** is **positively correlated** with its **age**. Therefore, to detect the **age of abalone** accurately is important for both farmers and customers to determine its price.\n",
    "\n",
    "<center><img width=40% src=\"https://m.media-amazon.com/images/I/814bKET-F8L._AC_SL1500_.jpg\"></center>\n",
    "\n",
    "- The case study considers a report collected from various parameters of the abalones like their sex, length, diameter, height, weight, etc."
   ]
  },
  {
   "cell_type": "markdown",
   "id": "180763e6-a936-4496-909a-39e0151c454c",
   "metadata": {},
   "source": [
    "---\n",
    "<a name = Section2></a>\n",
    "# **2. Problem Statement**\n",
    "---\n",
    "\n",
    "- Predicting the **age** of abalone without **cone and staining** is very important.\n",
    "- This can be done by **predicting a number of rings** by its various other parameters like sex, length, diameters, height and weight.\n",
    "- In a **data science** role I have been hired to analyse and create a model which can predict **rings** in abalone.\n",
    "- Adding rings with **1.5** will give **approx age** of abalone and thus provide an appropriate **price**.\n",
    "- This would be a **leading step** to helping the farmers and customers."
   ]
  },
  {
   "cell_type": "markdown",
   "id": "15928d19-c2b9-4f79-a2c3-27a20cb5dd7d",
   "metadata": {},
   "source": [
    "---\n",
    "<a name = Section3></a>\n",
    "# **3. Installing and Importing Libraries**\n",
    "---"
   ]
  },
  {
   "cell_type": "code",
   "execution_count": 1,
   "id": "200e7dc6-8ec4-4fad-a73e-305a0ccb02d8",
   "metadata": {},
   "outputs": [],
   "source": [
    "#-------------------------------------------------------------------------------------------------------------------------------\n",
    "import pandas as pd                                                 # Importing for panel data analysis\n",
    "pd.set_option('display.max_columns', None)                          # Unfolding hidden features if the cardinality is high\n",
    "pd.set_option('display.max_colwidth', None)                         # Unfolding the max feature width for better clearity\n",
    "pd.set_option('display.max_rows', None)                             # Unfolding hidden data points if the cardinality is high\n",
    "pd.set_option('mode.chained_assignment', None)                      # Removing restriction over chained assignments operations\n",
    "pd.set_option('display.float_format', lambda x: '%.3f' % x)         # To suppress scientific notation over exponential values\n",
    "%matplotlib inline\n",
    "#-------------------------------------------------------------------------------------------------------------------------------\n",
    "import numpy as np                                                  # Importing package numpys (For Numerical Python)\n",
    "#-------------------------------------------------------------------------------------------------------------------------------\n",
    "import matplotlib.pyplot as plt                                     # Importing pyplot interface of matplotlib\n",
    "import seaborn as sns                                                # For datetime operations\n",
    "#-------------------------------------------------------------------------------------------------------------------------------\n",
    "import warnings                                                     # Importing warning to disable runtime warnings\n",
    "warnings.filterwarnings(\"ignore\")                                   # Warnings will appear only once\n",
    "import re"
   ]
  },
  {
   "cell_type": "markdown",
   "id": "52c80cd7-aaec-4f91-8d6b-acaf3f443d86",
   "metadata": {},
   "source": [
    "---\n",
    "<a name = Section4></a>\n",
    "# **4. Data Acquisition & Description**\n",
    "---\n",
    "\n",
    "\n",
    "- The dataset consists of information about featurs of **Abalone** like **sex**, **length**, **diameters**, **height**, **weight** number of rings.\n",
    "\n",
    "| Records | Features | Dataset Size |\n",
    "| :--: | :--: | :--: |\n",
    "| 3341 | 10 | 261.2 KB | \n",
    "\n",
    "<br>\n",
    "\n",
    "| # | Feature Name | Feature Description |\n",
    "|:--:|:--|:--| \n",
    "|1| Id | Unique id of each dataset |\n",
    "|2| Sex | Sex of abalone  |\n",
    "|3| Length |\tLongest shell measurement (mm)|\n",
    "|4| Diameter |\tDiameter of abalone perpendicular to length (mm) |\n",
    "|5| Height |\tHeight of abalone with meat in the shell (mm) |\n",
    "|6| Whole_weight |\tWeight of the whole abalone (grams) |\n",
    "|7| Shucked_weight |\tWeight of the meat of abalone (grams) |\n",
    "|8| Viscera_weight |\tGut weight (after bleeding) of the abalone (grams)|\n",
    "|9| Shell_weight |\tWeight of the abalone after being dried (grams)|\n",
    "|10| Rings | \tNumber of Rings in the abalone|"
   ]
  },
  {
   "cell_type": "code",
   "execution_count": 2,
   "id": "ed02478d-4e6c-4273-9487-db7cedf0fbd9",
   "metadata": {},
   "outputs": [
    {
     "name": "stdout",
     "output_type": "stream",
     "text": [
      "Data shape :  (3341, 10)\n"
     ]
    },
    {
     "data": {
      "text/html": [
       "<div>\n",
       "<style scoped>\n",
       "    .dataframe tbody tr th:only-of-type {\n",
       "        vertical-align: middle;\n",
       "    }\n",
       "\n",
       "    .dataframe tbody tr th {\n",
       "        vertical-align: top;\n",
       "    }\n",
       "\n",
       "    .dataframe thead th {\n",
       "        text-align: right;\n",
       "    }\n",
       "</style>\n",
       "<table border=\"1\" class=\"dataframe\">\n",
       "  <thead>\n",
       "    <tr style=\"text-align: right;\">\n",
       "      <th></th>\n",
       "      <th>Id</th>\n",
       "      <th>Sex</th>\n",
       "      <th>Length</th>\n",
       "      <th>Diameter</th>\n",
       "      <th>Height</th>\n",
       "      <th>Whole_weight</th>\n",
       "      <th>Shucked_weight</th>\n",
       "      <th>Viscera_weight</th>\n",
       "      <th>Shell_weight</th>\n",
       "      <th>Rings</th>\n",
       "    </tr>\n",
       "  </thead>\n",
       "  <tbody>\n",
       "    <tr>\n",
       "      <th>0</th>\n",
       "      <td>3141</td>\n",
       "      <td>I</td>\n",
       "      <td>0.180</td>\n",
       "      <td>0.135</td>\n",
       "      <td>0.080</td>\n",
       "      <td>0.033</td>\n",
       "      <td>0.015</td>\n",
       "      <td>0.007</td>\n",
       "      <td>0.010</td>\n",
       "      <td>5</td>\n",
       "    </tr>\n",
       "    <tr>\n",
       "      <th>1</th>\n",
       "      <td>3521</td>\n",
       "      <td>I</td>\n",
       "      <td>0.215</td>\n",
       "      <td>0.150</td>\n",
       "      <td>0.055</td>\n",
       "      <td>0.041</td>\n",
       "      <td>0.015</td>\n",
       "      <td>0.009</td>\n",
       "      <td>0.013</td>\n",
       "      <td>3</td>\n",
       "    </tr>\n",
       "    <tr>\n",
       "      <th>2</th>\n",
       "      <td>883</td>\n",
       "      <td>M</td>\n",
       "      <td>0.660</td>\n",
       "      <td>0.530</td>\n",
       "      <td>0.170</td>\n",
       "      <td>1.391</td>\n",
       "      <td>0.591</td>\n",
       "      <td>0.212</td>\n",
       "      <td>0.453</td>\n",
       "      <td>15</td>\n",
       "    </tr>\n",
       "    <tr>\n",
       "      <th>3</th>\n",
       "      <td>3627</td>\n",
       "      <td>M</td>\n",
       "      <td>0.715</td>\n",
       "      <td>0.525</td>\n",
       "      <td>0.200</td>\n",
       "      <td>1.890</td>\n",
       "      <td>0.950</td>\n",
       "      <td>0.436</td>\n",
       "      <td>0.430</td>\n",
       "      <td>10</td>\n",
       "    </tr>\n",
       "    <tr>\n",
       "      <th>4</th>\n",
       "      <td>2106</td>\n",
       "      <td>M</td>\n",
       "      <td>0.595</td>\n",
       "      <td>0.455</td>\n",
       "      <td>0.155</td>\n",
       "      <td>1.041</td>\n",
       "      <td>0.416</td>\n",
       "      <td>0.210</td>\n",
       "      <td>0.365</td>\n",
       "      <td>14</td>\n",
       "    </tr>\n",
       "  </tbody>\n",
       "</table>\n",
       "</div>"
      ],
      "text/plain": [
       "     Id Sex  Length  Diameter  Height  Whole_weight  Shucked_weight  \\\n",
       "0  3141   I   0.180     0.135   0.080         0.033           0.015   \n",
       "1  3521   I   0.215     0.150   0.055         0.041           0.015   \n",
       "2   883   M   0.660     0.530   0.170         1.391           0.591   \n",
       "3  3627   M   0.715     0.525   0.200         1.890           0.950   \n",
       "4  2106   M   0.595     0.455   0.155         1.041           0.416   \n",
       "\n",
       "   Viscera_weight  Shell_weight  Rings  \n",
       "0           0.007         0.010      5  \n",
       "1           0.009         0.013      3  \n",
       "2           0.212         0.453     15  \n",
       "3           0.436         0.430     10  \n",
       "4           0.210         0.365     14  "
      ]
     },
     "execution_count": 2,
     "metadata": {},
     "output_type": "execute_result"
    }
   ],
   "source": [
    "ds_aba = pd.read_csv('abalone_train.csv')\n",
    "print('Data shape : ', ds_aba.shape)\n",
    "ds_aba.head()"
   ]
  },
  {
   "cell_type": "code",
   "execution_count": 3,
   "id": "263e62aa-42a1-42e0-bcdb-882320cec103",
   "metadata": {},
   "outputs": [
    {
     "name": "stdout",
     "output_type": "stream",
     "text": [
      "<class 'pandas.core.frame.DataFrame'>\n",
      "RangeIndex: 3341 entries, 0 to 3340\n",
      "Data columns (total 10 columns):\n",
      " #   Column          Non-Null Count  Dtype  \n",
      "---  ------          --------------  -----  \n",
      " 0   Id              3341 non-null   int64  \n",
      " 1   Sex             3341 non-null   object \n",
      " 2   Length          3341 non-null   float64\n",
      " 3   Diameter        3341 non-null   float64\n",
      " 4   Height          3341 non-null   float64\n",
      " 5   Whole_weight    3341 non-null   float64\n",
      " 6   Shucked_weight  3341 non-null   float64\n",
      " 7   Viscera_weight  3341 non-null   float64\n",
      " 8   Shell_weight    3341 non-null   float64\n",
      " 9   Rings           3341 non-null   int64  \n",
      "dtypes: float64(7), int64(2), object(1)\n",
      "memory usage: 261.1+ KB\n"
     ]
    }
   ],
   "source": [
    "ds_aba.info()"
   ]
  },
  {
   "cell_type": "markdown",
   "id": "60c33dc8-c314-426f-9526-30a56cf45911",
   "metadata": {},
   "source": [
    "**Observations:**\n",
    "\n",
    "- We can see there are total **3341** records and **10** features.\n",
    "\n",
    "- Feature **Rings** will be used as the target variable where the model will predict numbers of rings in abalone.\n",
    "- There is no missing value in the given dataset.\n",
    "- We have only once categorical variable as Sex."
   ]
  },
  {
   "cell_type": "markdown",
   "id": "2eadc39f-021e-4ddd-a090-1418e9a9a5d2",
   "metadata": {},
   "source": [
    "<a name = Section5></a>\n",
    "\n",
    "---\n",
    "# **5. Data Pre-Profiling**\n",
    "---"
   ]
  },
  {
   "cell_type": "code",
   "execution_count": 4,
   "id": "08cf2e8a-9393-4d91-bcf6-a346d1f2e305",
   "metadata": {},
   "outputs": [
    {
     "data": {
      "text/plain": [
       "(0, 10)"
      ]
     },
     "execution_count": 4,
     "metadata": {},
     "output_type": "execute_result"
    }
   ],
   "source": [
    "ds_aba[ds_aba.duplicated()].shape"
   ]
  },
  {
   "cell_type": "code",
   "execution_count": 5,
   "id": "9e56b1d2-33f7-4daa-b5c5-7c3c7e9c5ad8",
   "metadata": {},
   "outputs": [
    {
     "data": {
      "text/html": [
       "<div>\n",
       "<style scoped>\n",
       "    .dataframe tbody tr th:only-of-type {\n",
       "        vertical-align: middle;\n",
       "    }\n",
       "\n",
       "    .dataframe tbody tr th {\n",
       "        vertical-align: top;\n",
       "    }\n",
       "\n",
       "    .dataframe thead th {\n",
       "        text-align: right;\n",
       "    }\n",
       "</style>\n",
       "<table border=\"1\" class=\"dataframe\">\n",
       "  <thead>\n",
       "    <tr style=\"text-align: right;\">\n",
       "      <th></th>\n",
       "      <th>Id</th>\n",
       "      <th>Length</th>\n",
       "      <th>Diameter</th>\n",
       "      <th>Height</th>\n",
       "      <th>Whole_weight</th>\n",
       "      <th>Shucked_weight</th>\n",
       "      <th>Viscera_weight</th>\n",
       "      <th>Shell_weight</th>\n",
       "      <th>Rings</th>\n",
       "    </tr>\n",
       "  </thead>\n",
       "  <tbody>\n",
       "    <tr>\n",
       "      <th>count</th>\n",
       "      <td>3341.000</td>\n",
       "      <td>3341.000</td>\n",
       "      <td>3341.000</td>\n",
       "      <td>3341.000</td>\n",
       "      <td>3341.000</td>\n",
       "      <td>3341.000</td>\n",
       "      <td>3341.000</td>\n",
       "      <td>3341.000</td>\n",
       "      <td>3341.000</td>\n",
       "    </tr>\n",
       "    <tr>\n",
       "      <th>mean</th>\n",
       "      <td>2085.442</td>\n",
       "      <td>0.526</td>\n",
       "      <td>0.409</td>\n",
       "      <td>0.140</td>\n",
       "      <td>0.838</td>\n",
       "      <td>0.364</td>\n",
       "      <td>0.183</td>\n",
       "      <td>0.241</td>\n",
       "      <td>9.958</td>\n",
       "    </tr>\n",
       "    <tr>\n",
       "      <th>std</th>\n",
       "      <td>1197.722</td>\n",
       "      <td>0.120</td>\n",
       "      <td>0.099</td>\n",
       "      <td>0.043</td>\n",
       "      <td>0.494</td>\n",
       "      <td>0.224</td>\n",
       "      <td>0.110</td>\n",
       "      <td>0.140</td>\n",
       "      <td>3.206</td>\n",
       "    </tr>\n",
       "    <tr>\n",
       "      <th>min</th>\n",
       "      <td>0.000</td>\n",
       "      <td>0.075</td>\n",
       "      <td>0.055</td>\n",
       "      <td>0.000</td>\n",
       "      <td>0.002</td>\n",
       "      <td>0.001</td>\n",
       "      <td>0.001</td>\n",
       "      <td>0.002</td>\n",
       "      <td>1.000</td>\n",
       "    </tr>\n",
       "    <tr>\n",
       "      <th>25%</th>\n",
       "      <td>1055.000</td>\n",
       "      <td>0.450</td>\n",
       "      <td>0.350</td>\n",
       "      <td>0.115</td>\n",
       "      <td>0.445</td>\n",
       "      <td>0.188</td>\n",
       "      <td>0.093</td>\n",
       "      <td>0.132</td>\n",
       "      <td>8.000</td>\n",
       "    </tr>\n",
       "    <tr>\n",
       "      <th>50%</th>\n",
       "      <td>2086.000</td>\n",
       "      <td>0.545</td>\n",
       "      <td>0.425</td>\n",
       "      <td>0.145</td>\n",
       "      <td>0.810</td>\n",
       "      <td>0.342</td>\n",
       "      <td>0.172</td>\n",
       "      <td>0.235</td>\n",
       "      <td>10.000</td>\n",
       "    </tr>\n",
       "    <tr>\n",
       "      <th>75%</th>\n",
       "      <td>3114.000</td>\n",
       "      <td>0.620</td>\n",
       "      <td>0.485</td>\n",
       "      <td>0.165</td>\n",
       "      <td>1.169</td>\n",
       "      <td>0.509</td>\n",
       "      <td>0.256</td>\n",
       "      <td>0.330</td>\n",
       "      <td>11.000</td>\n",
       "    </tr>\n",
       "    <tr>\n",
       "      <th>max</th>\n",
       "      <td>4175.000</td>\n",
       "      <td>0.815</td>\n",
       "      <td>0.650</td>\n",
       "      <td>1.130</td>\n",
       "      <td>2.780</td>\n",
       "      <td>1.488</td>\n",
       "      <td>0.760</td>\n",
       "      <td>1.005</td>\n",
       "      <td>27.000</td>\n",
       "    </tr>\n",
       "  </tbody>\n",
       "</table>\n",
       "</div>"
      ],
      "text/plain": [
       "            Id   Length  Diameter   Height  Whole_weight  Shucked_weight  \\\n",
       "count 3341.000 3341.000  3341.000 3341.000      3341.000        3341.000   \n",
       "mean  2085.442    0.526     0.409    0.140         0.838           0.364   \n",
       "std   1197.722    0.120     0.099    0.043         0.494           0.224   \n",
       "min      0.000    0.075     0.055    0.000         0.002           0.001   \n",
       "25%   1055.000    0.450     0.350    0.115         0.445           0.188   \n",
       "50%   2086.000    0.545     0.425    0.145         0.810           0.342   \n",
       "75%   3114.000    0.620     0.485    0.165         1.169           0.509   \n",
       "max   4175.000    0.815     0.650    1.130         2.780           1.488   \n",
       "\n",
       "       Viscera_weight  Shell_weight    Rings  \n",
       "count        3341.000      3341.000 3341.000  \n",
       "mean            0.183         0.241    9.958  \n",
       "std             0.110         0.140    3.206  \n",
       "min             0.001         0.002    1.000  \n",
       "25%             0.093         0.132    8.000  \n",
       "50%             0.172         0.235   10.000  \n",
       "75%             0.256         0.330   11.000  \n",
       "max             0.760         1.005   27.000  "
      ]
     },
     "execution_count": 5,
     "metadata": {},
     "output_type": "execute_result"
    }
   ],
   "source": [
    "ds_aba.describe()"
   ]
  },
  {
   "cell_type": "code",
   "execution_count": 6,
   "id": "59dc6250-c44e-4cea-9a6c-e0675a1cda30",
   "metadata": {},
   "outputs": [
    {
     "data": {
      "text/html": [
       "<div>\n",
       "<style scoped>\n",
       "    .dataframe tbody tr th:only-of-type {\n",
       "        vertical-align: middle;\n",
       "    }\n",
       "\n",
       "    .dataframe tbody tr th {\n",
       "        vertical-align: top;\n",
       "    }\n",
       "\n",
       "    .dataframe thead th {\n",
       "        text-align: right;\n",
       "    }\n",
       "</style>\n",
       "<table border=\"1\" class=\"dataframe\">\n",
       "  <thead>\n",
       "    <tr style=\"text-align: right;\">\n",
       "      <th></th>\n",
       "      <th>Id</th>\n",
       "      <th>Sex</th>\n",
       "      <th>Length</th>\n",
       "      <th>Diameter</th>\n",
       "      <th>Height</th>\n",
       "      <th>Whole_weight</th>\n",
       "      <th>Shucked_weight</th>\n",
       "      <th>Viscera_weight</th>\n",
       "      <th>Shell_weight</th>\n",
       "      <th>Rings</th>\n",
       "    </tr>\n",
       "  </thead>\n",
       "  <tbody>\n",
       "    <tr>\n",
       "      <th>1311</th>\n",
       "      <td>1257</td>\n",
       "      <td>I</td>\n",
       "      <td>0.430</td>\n",
       "      <td>0.340</td>\n",
       "      <td>0.000</td>\n",
       "      <td>0.428</td>\n",
       "      <td>0.206</td>\n",
       "      <td>0.086</td>\n",
       "      <td>0.115</td>\n",
       "      <td>8</td>\n",
       "    </tr>\n",
       "    <tr>\n",
       "      <th>2442</th>\n",
       "      <td>3996</td>\n",
       "      <td>I</td>\n",
       "      <td>0.315</td>\n",
       "      <td>0.230</td>\n",
       "      <td>0.000</td>\n",
       "      <td>0.134</td>\n",
       "      <td>0.058</td>\n",
       "      <td>0.029</td>\n",
       "      <td>0.350</td>\n",
       "      <td>6</td>\n",
       "    </tr>\n",
       "  </tbody>\n",
       "</table>\n",
       "</div>"
      ],
      "text/plain": [
       "        Id Sex  Length  Diameter  Height  Whole_weight  Shucked_weight  \\\n",
       "1311  1257   I   0.430     0.340   0.000         0.428           0.206   \n",
       "2442  3996   I   0.315     0.230   0.000         0.134           0.058   \n",
       "\n",
       "      Viscera_weight  Shell_weight  Rings  \n",
       "1311           0.086         0.115      8  \n",
       "2442           0.029         0.350      6  "
      ]
     },
     "execution_count": 6,
     "metadata": {},
     "output_type": "execute_result"
    }
   ],
   "source": [
    "ds_aba[ds_aba.Height == 0]"
   ]
  },
  {
   "cell_type": "markdown",
   "id": "124cb427-816d-4679-b06a-873dd7106e3c",
   "metadata": {},
   "source": [
    "#### We will check the mean and median of the Infant class"
   ]
  },
  {
   "cell_type": "code",
   "execution_count": 7,
   "id": "697432ab-2eaf-4997-9929-ebb5445697a3",
   "metadata": {},
   "outputs": [
    {
     "data": {
      "text/html": [
       "<div>\n",
       "<style scoped>\n",
       "    .dataframe tbody tr th:only-of-type {\n",
       "        vertical-align: middle;\n",
       "    }\n",
       "\n",
       "    .dataframe tbody tr th {\n",
       "        vertical-align: top;\n",
       "    }\n",
       "\n",
       "    .dataframe thead th {\n",
       "        text-align: right;\n",
       "    }\n",
       "</style>\n",
       "<table border=\"1\" class=\"dataframe\">\n",
       "  <thead>\n",
       "    <tr style=\"text-align: right;\">\n",
       "      <th></th>\n",
       "      <th>Id</th>\n",
       "      <th>Length</th>\n",
       "      <th>Diameter</th>\n",
       "      <th>Height</th>\n",
       "      <th>Whole_weight</th>\n",
       "      <th>Shucked_weight</th>\n",
       "      <th>Viscera_weight</th>\n",
       "      <th>Shell_weight</th>\n",
       "      <th>Rings</th>\n",
       "    </tr>\n",
       "  </thead>\n",
       "  <tbody>\n",
       "    <tr>\n",
       "      <th>count</th>\n",
       "      <td>1051.000</td>\n",
       "      <td>1051.000</td>\n",
       "      <td>1051.000</td>\n",
       "      <td>1051.000</td>\n",
       "      <td>1051.000</td>\n",
       "      <td>1051.000</td>\n",
       "      <td>1051.000</td>\n",
       "      <td>1051.000</td>\n",
       "      <td>1051.000</td>\n",
       "    </tr>\n",
       "    <tr>\n",
       "      <th>mean</th>\n",
       "      <td>2164.152</td>\n",
       "      <td>0.428</td>\n",
       "      <td>0.327</td>\n",
       "      <td>0.108</td>\n",
       "      <td>0.430</td>\n",
       "      <td>0.190</td>\n",
       "      <td>0.092</td>\n",
       "      <td>0.128</td>\n",
       "      <td>7.896</td>\n",
       "    </tr>\n",
       "    <tr>\n",
       "      <th>std</th>\n",
       "      <td>1149.244</td>\n",
       "      <td>0.108</td>\n",
       "      <td>0.087</td>\n",
       "      <td>0.032</td>\n",
       "      <td>0.283</td>\n",
       "      <td>0.127</td>\n",
       "      <td>0.061</td>\n",
       "      <td>0.084</td>\n",
       "      <td>2.495</td>\n",
       "    </tr>\n",
       "    <tr>\n",
       "      <th>min</th>\n",
       "      <td>5.000</td>\n",
       "      <td>0.075</td>\n",
       "      <td>0.055</td>\n",
       "      <td>0.000</td>\n",
       "      <td>0.002</td>\n",
       "      <td>0.001</td>\n",
       "      <td>0.001</td>\n",
       "      <td>0.002</td>\n",
       "      <td>1.000</td>\n",
       "    </tr>\n",
       "    <tr>\n",
       "      <th>25%</th>\n",
       "      <td>1235.500</td>\n",
       "      <td>0.360</td>\n",
       "      <td>0.270</td>\n",
       "      <td>0.090</td>\n",
       "      <td>0.213</td>\n",
       "      <td>0.091</td>\n",
       "      <td>0.044</td>\n",
       "      <td>0.065</td>\n",
       "      <td>6.000</td>\n",
       "    </tr>\n",
       "    <tr>\n",
       "      <th>50%</th>\n",
       "      <td>2041.000</td>\n",
       "      <td>0.435</td>\n",
       "      <td>0.335</td>\n",
       "      <td>0.110</td>\n",
       "      <td>0.381</td>\n",
       "      <td>0.169</td>\n",
       "      <td>0.080</td>\n",
       "      <td>0.113</td>\n",
       "      <td>8.000</td>\n",
       "    </tr>\n",
       "    <tr>\n",
       "      <th>75%</th>\n",
       "      <td>3113.500</td>\n",
       "      <td>0.510</td>\n",
       "      <td>0.390</td>\n",
       "      <td>0.130</td>\n",
       "      <td>0.596</td>\n",
       "      <td>0.265</td>\n",
       "      <td>0.128</td>\n",
       "      <td>0.178</td>\n",
       "      <td>9.000</td>\n",
       "    </tr>\n",
       "    <tr>\n",
       "      <th>max</th>\n",
       "      <td>4166.000</td>\n",
       "      <td>0.725</td>\n",
       "      <td>0.550</td>\n",
       "      <td>0.220</td>\n",
       "      <td>2.050</td>\n",
       "      <td>0.773</td>\n",
       "      <td>0.441</td>\n",
       "      <td>0.655</td>\n",
       "      <td>21.000</td>\n",
       "    </tr>\n",
       "  </tbody>\n",
       "</table>\n",
       "</div>"
      ],
      "text/plain": [
       "            Id   Length  Diameter   Height  Whole_weight  Shucked_weight  \\\n",
       "count 1051.000 1051.000  1051.000 1051.000      1051.000        1051.000   \n",
       "mean  2164.152    0.428     0.327    0.108         0.430           0.190   \n",
       "std   1149.244    0.108     0.087    0.032         0.283           0.127   \n",
       "min      5.000    0.075     0.055    0.000         0.002           0.001   \n",
       "25%   1235.500    0.360     0.270    0.090         0.213           0.091   \n",
       "50%   2041.000    0.435     0.335    0.110         0.381           0.169   \n",
       "75%   3113.500    0.510     0.390    0.130         0.596           0.265   \n",
       "max   4166.000    0.725     0.550    0.220         2.050           0.773   \n",
       "\n",
       "       Viscera_weight  Shell_weight    Rings  \n",
       "count        1051.000      1051.000 1051.000  \n",
       "mean            0.092         0.128    7.896  \n",
       "std             0.061         0.084    2.495  \n",
       "min             0.001         0.002    1.000  \n",
       "25%             0.044         0.065    6.000  \n",
       "50%             0.080         0.113    8.000  \n",
       "75%             0.128         0.178    9.000  \n",
       "max             0.441         0.655   21.000  "
      ]
     },
     "execution_count": 7,
     "metadata": {},
     "output_type": "execute_result"
    }
   ],
   "source": [
    "ds_aba[ds_aba.Sex == 'I'].describe()"
   ]
  },
  {
   "cell_type": "code",
   "execution_count": 8,
   "id": "718e3d5b-ad7f-4ca4-82ea-d240b92732e0",
   "metadata": {},
   "outputs": [
    {
     "data": {
      "text/plain": [
       "M    1232\n",
       "F    1058\n",
       "I    1051\n",
       "Name: Sex, dtype: int64"
      ]
     },
     "execution_count": 8,
     "metadata": {},
     "output_type": "execute_result"
    }
   ],
   "source": [
    "ds_aba.Sex.value_counts()"
   ]
  },
  {
   "cell_type": "markdown",
   "id": "5da100a8-e37c-46c9-a12e-ffd3a2675d2f",
   "metadata": {},
   "source": [
    "**Observations:**\n",
    "\n",
    "- There are no **missing** and **duplicates** values.\n",
    "- It seems to be two reconds have **outliers** having value for height i.e. **0**.\n",
    "- As Sex was an **infant** and we check the mean of that as **0.108** we will replace 0 with the mean of infant value"
   ]
  },
  {
   "cell_type": "markdown",
   "id": "f85bce73-7a12-479d-bf21-55e79426b475",
   "metadata": {},
   "source": [
    "#### We will check other outliers using IQR"
   ]
  },
  {
   "cell_type": "code",
   "execution_count": 9,
   "id": "8d0d3907-7840-46ab-8b4c-fc88069fd026",
   "metadata": {},
   "outputs": [
    {
     "name": "stdout",
     "output_type": "stream",
     "text": [
      "Column Name :  Id\n",
      "Shape of negative outliers =  0\n",
      "Shape of positive outliers =  0\n",
      "\n",
      "Column Name :  Length\n",
      "Shape of negative outliers =  30\n",
      "Shape of positive outliers =  0\n",
      "\n",
      "Column Name :  Diameter\n",
      "Shape of negative outliers =  36\n",
      "Shape of positive outliers =  0\n",
      "\n",
      "Column Name :  Height\n",
      "Shape of negative outliers =  19\n",
      "Shape of positive outliers =  5\n",
      "\n",
      "Column Name :  Whole_weight\n",
      "Shape of negative outliers =  0\n",
      "Shape of positive outliers =  21\n",
      "\n",
      "Column Name :  Shucked_weight\n",
      "Shape of negative outliers =  0\n",
      "Shape of positive outliers =  38\n",
      "\n",
      "Column Name :  Viscera_weight\n",
      "Shape of negative outliers =  0\n",
      "Shape of positive outliers =  20\n",
      "\n",
      "Column Name :  Shell_weight\n",
      "Shape of negative outliers =  0\n",
      "Shape of positive outliers =  31\n",
      "\n",
      "Column Name :  Rings\n",
      "Shape of negative outliers =  12\n",
      "Shape of positive outliers =  210\n",
      "\n"
     ]
    }
   ],
   "source": [
    "ds_info = ds_aba.describe()\n",
    "for c in ds_info.columns.to_list():\n",
    "    print('Column Name : ',c)\n",
    "    IQR = (ds_info[c]['75%'] - ds_info[c]['25%'])*1.5\n",
    "    NIQR_value = ds_info[c]['25%'] - IQR\n",
    "    PIQR_value = ds_info[c]['75%'] + IQR\n",
    "    print('Shape of negative outliers = ', ds_aba[ds_aba[c] < NIQR_value].shape[0])\n",
    "    print('Shape of positive outliers = ', ds_aba[ds_aba[c] > PIQR_value].shape[0])\n",
    "    print('')"
   ]
  },
  {
   "cell_type": "markdown",
   "id": "15214a30-7302-4671-ab7d-31a144278ac0",
   "metadata": {},
   "source": [
    "**Observations:**\n",
    "\n",
    "- Every **independent** variable has some outliers.\n",
    "- **Target** variables are too many outliers.\n",
    "- Data is collected from dependable sources so will not treat any outliers."
   ]
  },
  {
   "cell_type": "markdown",
   "id": "a72c324a-2074-463b-bfe1-d793d7668ed4",
   "metadata": {},
   "source": [
    "<a name = Section6></a>\n",
    "\n",
    "---\n",
    "# **6. Data Cleaning**\n",
    "---\n",
    "\n",
    "- In this section, we will perform the **cleaning** operations over the features using information from the previous section.\n",
    "\n",
    "- In the above analysis we are replacing height with infant mean."
   ]
  },
  {
   "cell_type": "code",
   "execution_count": 10,
   "id": "a1609e0c-49e1-4f01-a170-4c83ba5e3470",
   "metadata": {},
   "outputs": [],
   "source": [
    "height_mean = ds_aba[ds_aba.Sex == 'I'].Height.mean()\n",
    "ds_aba.loc[ds_aba.Height == 0,'Height'] = height_mean"
   ]
  },
  {
   "cell_type": "code",
   "execution_count": 11,
   "id": "2eee912a-396e-469b-9fc4-42893a9cce3c",
   "metadata": {},
   "outputs": [
    {
     "data": {
      "text/html": [
       "<div>\n",
       "<style scoped>\n",
       "    .dataframe tbody tr th:only-of-type {\n",
       "        vertical-align: middle;\n",
       "    }\n",
       "\n",
       "    .dataframe tbody tr th {\n",
       "        vertical-align: top;\n",
       "    }\n",
       "\n",
       "    .dataframe thead th {\n",
       "        text-align: right;\n",
       "    }\n",
       "</style>\n",
       "<table border=\"1\" class=\"dataframe\">\n",
       "  <thead>\n",
       "    <tr style=\"text-align: right;\">\n",
       "      <th></th>\n",
       "      <th>Id</th>\n",
       "      <th>Length</th>\n",
       "      <th>Diameter</th>\n",
       "      <th>Height</th>\n",
       "      <th>Whole_weight</th>\n",
       "      <th>Shucked_weight</th>\n",
       "      <th>Viscera_weight</th>\n",
       "      <th>Shell_weight</th>\n",
       "      <th>Rings</th>\n",
       "    </tr>\n",
       "  </thead>\n",
       "  <tbody>\n",
       "    <tr>\n",
       "      <th>count</th>\n",
       "      <td>3341.000</td>\n",
       "      <td>3341.000</td>\n",
       "      <td>3341.000</td>\n",
       "      <td>3341.000</td>\n",
       "      <td>3341.000</td>\n",
       "      <td>3341.000</td>\n",
       "      <td>3341.000</td>\n",
       "      <td>3341.000</td>\n",
       "      <td>3341.000</td>\n",
       "    </tr>\n",
       "    <tr>\n",
       "      <th>mean</th>\n",
       "      <td>2085.442</td>\n",
       "      <td>0.526</td>\n",
       "      <td>0.409</td>\n",
       "      <td>0.140</td>\n",
       "      <td>0.838</td>\n",
       "      <td>0.364</td>\n",
       "      <td>0.183</td>\n",
       "      <td>0.241</td>\n",
       "      <td>9.958</td>\n",
       "    </tr>\n",
       "    <tr>\n",
       "      <th>std</th>\n",
       "      <td>1197.722</td>\n",
       "      <td>0.120</td>\n",
       "      <td>0.099</td>\n",
       "      <td>0.042</td>\n",
       "      <td>0.494</td>\n",
       "      <td>0.224</td>\n",
       "      <td>0.110</td>\n",
       "      <td>0.140</td>\n",
       "      <td>3.206</td>\n",
       "    </tr>\n",
       "    <tr>\n",
       "      <th>min</th>\n",
       "      <td>0.000</td>\n",
       "      <td>0.075</td>\n",
       "      <td>0.055</td>\n",
       "      <td>0.010</td>\n",
       "      <td>0.002</td>\n",
       "      <td>0.001</td>\n",
       "      <td>0.001</td>\n",
       "      <td>0.002</td>\n",
       "      <td>1.000</td>\n",
       "    </tr>\n",
       "    <tr>\n",
       "      <th>25%</th>\n",
       "      <td>1055.000</td>\n",
       "      <td>0.450</td>\n",
       "      <td>0.350</td>\n",
       "      <td>0.115</td>\n",
       "      <td>0.445</td>\n",
       "      <td>0.188</td>\n",
       "      <td>0.093</td>\n",
       "      <td>0.132</td>\n",
       "      <td>8.000</td>\n",
       "    </tr>\n",
       "    <tr>\n",
       "      <th>50%</th>\n",
       "      <td>2086.000</td>\n",
       "      <td>0.545</td>\n",
       "      <td>0.425</td>\n",
       "      <td>0.145</td>\n",
       "      <td>0.810</td>\n",
       "      <td>0.342</td>\n",
       "      <td>0.172</td>\n",
       "      <td>0.235</td>\n",
       "      <td>10.000</td>\n",
       "    </tr>\n",
       "    <tr>\n",
       "      <th>75%</th>\n",
       "      <td>3114.000</td>\n",
       "      <td>0.620</td>\n",
       "      <td>0.485</td>\n",
       "      <td>0.165</td>\n",
       "      <td>1.169</td>\n",
       "      <td>0.509</td>\n",
       "      <td>0.256</td>\n",
       "      <td>0.330</td>\n",
       "      <td>11.000</td>\n",
       "    </tr>\n",
       "    <tr>\n",
       "      <th>max</th>\n",
       "      <td>4175.000</td>\n",
       "      <td>0.815</td>\n",
       "      <td>0.650</td>\n",
       "      <td>1.130</td>\n",
       "      <td>2.780</td>\n",
       "      <td>1.488</td>\n",
       "      <td>0.760</td>\n",
       "      <td>1.005</td>\n",
       "      <td>27.000</td>\n",
       "    </tr>\n",
       "  </tbody>\n",
       "</table>\n",
       "</div>"
      ],
      "text/plain": [
       "            Id   Length  Diameter   Height  Whole_weight  Shucked_weight  \\\n",
       "count 3341.000 3341.000  3341.000 3341.000      3341.000        3341.000   \n",
       "mean  2085.442    0.526     0.409    0.140         0.838           0.364   \n",
       "std   1197.722    0.120     0.099    0.042         0.494           0.224   \n",
       "min      0.000    0.075     0.055    0.010         0.002           0.001   \n",
       "25%   1055.000    0.450     0.350    0.115         0.445           0.188   \n",
       "50%   2086.000    0.545     0.425    0.145         0.810           0.342   \n",
       "75%   3114.000    0.620     0.485    0.165         1.169           0.509   \n",
       "max   4175.000    0.815     0.650    1.130         2.780           1.488   \n",
       "\n",
       "       Viscera_weight  Shell_weight    Rings  \n",
       "count        3341.000      3341.000 3341.000  \n",
       "mean            0.183         0.241    9.958  \n",
       "std             0.110         0.140    3.206  \n",
       "min             0.001         0.002    1.000  \n",
       "25%             0.093         0.132    8.000  \n",
       "50%             0.172         0.235   10.000  \n",
       "75%             0.256         0.330   11.000  \n",
       "max             0.760         1.005   27.000  "
      ]
     },
     "execution_count": 11,
     "metadata": {},
     "output_type": "execute_result"
    }
   ],
   "source": [
    "ds_aba.describe()"
   ]
  },
  {
   "cell_type": "markdown",
   "id": "c84fd300-ae93-4c07-b50c-1ed90c80e4c0",
   "metadata": {},
   "source": [
    "<a name = Section7></a>\n",
    "\n",
    "---\n",
    "# **7. Exploratory Data Analysis**\n",
    "---"
   ]
  },
  {
   "cell_type": "code",
   "execution_count": 12,
   "id": "71204582-ebef-4911-8a6c-04ad40472a19",
   "metadata": {},
   "outputs": [
    {
     "data": {
      "text/html": [
       "<div>\n",
       "<style scoped>\n",
       "    .dataframe tbody tr th:only-of-type {\n",
       "        vertical-align: middle;\n",
       "    }\n",
       "\n",
       "    .dataframe tbody tr th {\n",
       "        vertical-align: top;\n",
       "    }\n",
       "\n",
       "    .dataframe thead th {\n",
       "        text-align: right;\n",
       "    }\n",
       "</style>\n",
       "<table border=\"1\" class=\"dataframe\">\n",
       "  <thead>\n",
       "    <tr style=\"text-align: right;\">\n",
       "      <th></th>\n",
       "      <th>Id</th>\n",
       "      <th>Sex</th>\n",
       "      <th>Length</th>\n",
       "      <th>Diameter</th>\n",
       "      <th>Height</th>\n",
       "      <th>Whole_weight</th>\n",
       "      <th>Shucked_weight</th>\n",
       "      <th>Viscera_weight</th>\n",
       "      <th>Shell_weight</th>\n",
       "      <th>Rings</th>\n",
       "    </tr>\n",
       "  </thead>\n",
       "  <tbody>\n",
       "    <tr>\n",
       "      <th>0</th>\n",
       "      <td>3141</td>\n",
       "      <td>I</td>\n",
       "      <td>0.180</td>\n",
       "      <td>0.135</td>\n",
       "      <td>0.080</td>\n",
       "      <td>0.033</td>\n",
       "      <td>0.015</td>\n",
       "      <td>0.007</td>\n",
       "      <td>0.010</td>\n",
       "      <td>5</td>\n",
       "    </tr>\n",
       "    <tr>\n",
       "      <th>1</th>\n",
       "      <td>3521</td>\n",
       "      <td>I</td>\n",
       "      <td>0.215</td>\n",
       "      <td>0.150</td>\n",
       "      <td>0.055</td>\n",
       "      <td>0.041</td>\n",
       "      <td>0.015</td>\n",
       "      <td>0.009</td>\n",
       "      <td>0.013</td>\n",
       "      <td>3</td>\n",
       "    </tr>\n",
       "    <tr>\n",
       "      <th>2</th>\n",
       "      <td>883</td>\n",
       "      <td>M</td>\n",
       "      <td>0.660</td>\n",
       "      <td>0.530</td>\n",
       "      <td>0.170</td>\n",
       "      <td>1.391</td>\n",
       "      <td>0.591</td>\n",
       "      <td>0.212</td>\n",
       "      <td>0.453</td>\n",
       "      <td>15</td>\n",
       "    </tr>\n",
       "    <tr>\n",
       "      <th>3</th>\n",
       "      <td>3627</td>\n",
       "      <td>M</td>\n",
       "      <td>0.715</td>\n",
       "      <td>0.525</td>\n",
       "      <td>0.200</td>\n",
       "      <td>1.890</td>\n",
       "      <td>0.950</td>\n",
       "      <td>0.436</td>\n",
       "      <td>0.430</td>\n",
       "      <td>10</td>\n",
       "    </tr>\n",
       "    <tr>\n",
       "      <th>4</th>\n",
       "      <td>2106</td>\n",
       "      <td>M</td>\n",
       "      <td>0.595</td>\n",
       "      <td>0.455</td>\n",
       "      <td>0.155</td>\n",
       "      <td>1.041</td>\n",
       "      <td>0.416</td>\n",
       "      <td>0.210</td>\n",
       "      <td>0.365</td>\n",
       "      <td>14</td>\n",
       "    </tr>\n",
       "  </tbody>\n",
       "</table>\n",
       "</div>"
      ],
      "text/plain": [
       "     Id Sex  Length  Diameter  Height  Whole_weight  Shucked_weight  \\\n",
       "0  3141   I   0.180     0.135   0.080         0.033           0.015   \n",
       "1  3521   I   0.215     0.150   0.055         0.041           0.015   \n",
       "2   883   M   0.660     0.530   0.170         1.391           0.591   \n",
       "3  3627   M   0.715     0.525   0.200         1.890           0.950   \n",
       "4  2106   M   0.595     0.455   0.155         1.041           0.416   \n",
       "\n",
       "   Viscera_weight  Shell_weight  Rings  \n",
       "0           0.007         0.010      5  \n",
       "1           0.009         0.013      3  \n",
       "2           0.212         0.453     15  \n",
       "3           0.436         0.430     10  \n",
       "4           0.210         0.365     14  "
      ]
     },
     "execution_count": 12,
     "metadata": {},
     "output_type": "execute_result"
    }
   ],
   "source": [
    "ds_aba.head()"
   ]
  },
  {
   "cell_type": "code",
   "execution_count": 13,
   "id": "12460890-60bd-43ee-b875-5f1b11ac1606",
   "metadata": {},
   "outputs": [
    {
     "data": {
      "image/png": "[encoded data removed]",
      "text/plain": [
       "<Figure size 504x504 with 1 Axes>"
      ]
     },
     "metadata": {},
     "output_type": "display_data"
    }
   ],
   "source": [
    "ds_aba.Sex.value_counts().plot(kind='pie',\n",
    "                                                                autopct='%3.1f%%',\n",
    "                                                                wedgeprops=dict(width=0.15), \n",
    "                                                                explode=np.ones(3)/15,\n",
    "                                                                figsize=(7, 7),\n",
    "                                                                fontsize=12, \n",
    "                                                                startangle=90,\n",
    "                                                                label='Sex')\n",
    "plt.show()"
   ]
  },
  {
   "cell_type": "markdown",
   "id": "c345f66b-e61e-4b2d-9c9a-48cd8cabc485",
   "metadata": {},
   "source": [
    "**Observations:**\n",
    "\n",
    "- We have a total of **40% Male, 31.5% Infant** and **31.7 % Female**.\n",
    "- Data is almost **equally** distributed among sex.\n",
    "- We will not get a **biased** problem."
   ]
  },
  {
   "cell_type": "code",
   "execution_count": 14,
   "id": "3d29a096-9a95-4a17-9c72-717b6bc3079c",
   "metadata": {},
   "outputs": [
    {
     "data": {
      "image/png": "[encoded data removed]",
      "text/plain": [
       "<Figure size 1080x504 with 1 Axes>"
      ]
     },
     "metadata": {
      "needs_background": "light"
     },
     "output_type": "display_data"
    }
   ],
   "source": [
    "fig = plt.figure(figsize=(15, 7))\n",
    "\n",
    "# Plot density distribution of age\n",
    "sns.distplot(a=ds_aba['Length'], kde=True)\n",
    "\n",
    "# Add some cosmetics\n",
    "plt.title(label='Length distribution of abalone', size=16)\n",
    "plt.xlabel(xlabel='Length', size=14)\n",
    "plt.ylabel(ylabel='Frequecy', size=14)\n",
    "plt.xticks(size=12)\n",
    "plt.yticks(size=12)\n",
    "plt.grid(b=True)\n",
    "plt.axvline(ds_aba.Length.mean(), color = 'b')\n",
    "plt.axvline(ds_aba.Length.median(), color = 'r')\n",
    "\n",
    "# Display the plot\n",
    "plt.show()"
   ]
  },
  {
   "cell_type": "markdown",
   "id": "52bacec0-cae9-48a5-ac0e-abae79d410f2",
   "metadata": {},
   "source": [
    "**Observations:**\n",
    "\n",
    "- Length of abalone is **right skewed**. \n",
    "- There is **0.019 mm** difference between mean and median.\n",
    "- Most of data is in between **0.5 mm** to **0.7 mm** range. "
   ]
  },
  {
   "cell_type": "code",
   "execution_count": 15,
   "id": "63e9eb7a-b48a-4cde-a748-c9c8f598fed1",
   "metadata": {},
   "outputs": [
    {
     "data": {
      "image/png": "[encoded data removed]",
      "text/plain": [
       "<Figure size 1080x504 with 1 Axes>"
      ]
     },
     "metadata": {
      "needs_background": "light"
     },
     "output_type": "display_data"
    }
   ],
   "source": [
    "fig = plt.figure(figsize=(15, 7))\n",
    "\n",
    "# Plot density distribution of age\n",
    "sns.distplot(a=ds_aba.Diameter, kde=True)\n",
    "\n",
    "# Add some cosmetics\n",
    "plt.title(label='Diameter distribution of abalone', size=16)\n",
    "plt.xlabel(xlabel='Diameter', size=14)\n",
    "plt.ylabel(ylabel='Frequecy', size=14)\n",
    "plt.xticks(size=12)\n",
    "plt.yticks(size=12)\n",
    "plt.grid(b=True)\n",
    "plt.axvline(ds_aba.Diameter.mean(), color = 'b')\n",
    "plt.axvline(ds_aba.Diameter.median(), color = 'r')\n",
    "\n",
    "# Display the plot\n",
    "plt.show()"
   ]
  },
  {
   "cell_type": "markdown",
   "id": "640615fd-1176-44e5-acc1-7c59bcd18a98",
   "metadata": {},
   "source": [
    "**Observations:**\n",
    "\n",
    "- Diameter of abalone is **right skewed**. \n",
    "- There is **0.016 mm** difference between mean and median.\n",
    "- Most of data is in between **0.4 mm** to **0.5 mm** range. "
   ]
  },
  {
   "cell_type": "code",
   "execution_count": 16,
   "id": "8f8b9470-9f6a-41cd-8077-72beea1947a8",
   "metadata": {},
   "outputs": [
    {
     "data": {
      "image/png": "[encoded data removed]",
      "text/plain": [
       "<Figure size 1080x504 with 1 Axes>"
      ]
     },
     "metadata": {
      "needs_background": "light"
     },
     "output_type": "display_data"
    }
   ],
   "source": [
    "fig = plt.figure(figsize=(15, 7))\n",
    "\n",
    "# Plot density distribution of age\n",
    "sns.distplot(a=ds_aba.Height, kde=True)\n",
    "\n",
    "# Add some cosmetics\n",
    "plt.title(label='Height distribution of abalone', size=16)\n",
    "plt.xlabel(xlabel='Height', size=14)\n",
    "plt.ylabel(ylabel='Frequecy', size=14)\n",
    "plt.xticks(size=12)\n",
    "plt.yticks(size=12)\n",
    "plt.grid(b=True)\n",
    "plt.axvline(ds_aba.Height.mean(), color = 'b')\n",
    "plt.axvline(ds_aba.Height.median(), color = 'r')\n",
    "\n",
    "# Display the plot\n",
    "plt.show()"
   ]
  },
  {
   "cell_type": "markdown",
   "id": "5e48318b-7f82-4f5e-960f-5b78a97d594b",
   "metadata": {},
   "source": [
    "**Observations:**\n",
    "\n",
    "- Height is normally distributed. \n",
    "- There are very few abalones whose height is between 0.3 to 1.13.\n",
    "- It is very negligible. "
   ]
  },
  {
   "cell_type": "code",
   "execution_count": 17,
   "id": "00a8271b-6608-4fc8-b8f9-f948ddcd26fb",
   "metadata": {},
   "outputs": [
    {
     "data": {
      "image/png": "[encoded data removed]",
      "text/plain": [
       "<Figure size 1080x504 with 1 Axes>"
      ]
     },
     "metadata": {
      "needs_background": "light"
     },
     "output_type": "display_data"
    }
   ],
   "source": [
    "fig = plt.figure(figsize=(15, 7))\n",
    "\n",
    "# Plot density distribution of age\n",
    "sns.distplot(a=ds_aba.Whole_weight, kde=True)\n",
    "\n",
    "# Add some cosmetics\n",
    "plt.title(label='Whole Weight distribution of abalone', size=16)\n",
    "plt.xlabel(xlabel='Weight', size=14)\n",
    "plt.ylabel(ylabel='Frequecy', size=14)\n",
    "plt.xticks(size=12)\n",
    "plt.yticks(size=12)\n",
    "plt.grid(b=True)\n",
    "plt.axvline(ds_aba.Whole_weight.mean(), color = 'b')\n",
    "plt.axvline(ds_aba.Whole_weight.median(), color = 'r')\n",
    "\n",
    "# Display the plot\n",
    "plt.show()"
   ]
  },
  {
   "cell_type": "markdown",
   "id": "d74d8a26-db9c-4632-afda-6c6d3c8acdfd",
   "metadata": {},
   "source": [
    "**Observations:**\n",
    "\n",
    "- Weight is normally distributed. \n",
    "- There are many  abalones whose height is between 0.1 to 1.4."
   ]
  },
  {
   "cell_type": "code",
   "execution_count": 18,
   "id": "453eaa19-6795-4765-9467-83b0ae3a3727",
   "metadata": {},
   "outputs": [
    {
     "data": {
      "image/png": "[encoded data removed]",
      "text/plain": [
       "<Figure size 1440x1008 with 4 Axes>"
      ]
     },
     "metadata": {
      "needs_background": "light"
     },
     "output_type": "display_data"
    }
   ],
   "source": [
    "fig = plt.figure(figsize=(20, 14))\n",
    "plt.subplot(2,2,1)\n",
    "sns.lineplot(data=ds_aba, x=\"Rings\", y=\"Length\")\n",
    "plt.subplot(2,2,2)\n",
    "sns.lineplot(data=ds_aba, x=\"Rings\", y=\"Diameter\")\n",
    "plt.subplot(2,2,3)\n",
    "sns.lineplot(data=ds_aba, x=\"Rings\", y=\"Height\")\n",
    "plt.subplot(2,2,4)\n",
    "sns.lineplot(data=ds_aba, x=\"Rings\", y=\"Whole_weight\")\n",
    "plt.show()"
   ]
  },
  {
   "cell_type": "markdown",
   "id": "5a206690-9c98-4a1f-9e0c-965082d23b29",
   "metadata": {},
   "source": [
    "**Observations:**\n",
    "\n",
    "- Number of **rings increases** with an increase in **length**, **diameter**, **height** and **weight** of abalone. \n",
    "- But after 10 rings length, diameter, height and weight are almost **constant**.\n",
    "- There is a small deflection after 20 rings. "
   ]
  },
  {
   "cell_type": "markdown",
   "id": "89949cbc-d4b3-46e9-a9b6-28f0292899e1",
   "metadata": {},
   "source": [
    "<a name = Section8></a>\n",
    "\n",
    "---\n",
    "# **8. Post Data Processing**\n",
    "---"
   ]
  },
  {
   "cell_type": "code",
   "execution_count": 19,
   "id": "2c142b92-4d53-4bf4-8e3a-c7321b11665f",
   "metadata": {},
   "outputs": [
    {
     "data": {
      "text/html": [
       "<div>\n",
       "<style scoped>\n",
       "    .dataframe tbody tr th:only-of-type {\n",
       "        vertical-align: middle;\n",
       "    }\n",
       "\n",
       "    .dataframe tbody tr th {\n",
       "        vertical-align: top;\n",
       "    }\n",
       "\n",
       "    .dataframe thead th {\n",
       "        text-align: right;\n",
       "    }\n",
       "</style>\n",
       "<table border=\"1\" class=\"dataframe\">\n",
       "  <thead>\n",
       "    <tr style=\"text-align: right;\">\n",
       "      <th></th>\n",
       "      <th>Sex</th>\n",
       "      <th>Length</th>\n",
       "      <th>Diameter</th>\n",
       "      <th>Height</th>\n",
       "      <th>Whole_weight</th>\n",
       "      <th>Shucked_weight</th>\n",
       "      <th>Viscera_weight</th>\n",
       "      <th>Shell_weight</th>\n",
       "    </tr>\n",
       "  </thead>\n",
       "  <tbody>\n",
       "    <tr>\n",
       "      <th>0</th>\n",
       "      <td>I</td>\n",
       "      <td>0.180</td>\n",
       "      <td>0.135</td>\n",
       "      <td>0.080</td>\n",
       "      <td>0.033</td>\n",
       "      <td>0.015</td>\n",
       "      <td>0.007</td>\n",
       "      <td>0.010</td>\n",
       "    </tr>\n",
       "    <tr>\n",
       "      <th>1</th>\n",
       "      <td>I</td>\n",
       "      <td>0.215</td>\n",
       "      <td>0.150</td>\n",
       "      <td>0.055</td>\n",
       "      <td>0.041</td>\n",
       "      <td>0.015</td>\n",
       "      <td>0.009</td>\n",
       "      <td>0.013</td>\n",
       "    </tr>\n",
       "    <tr>\n",
       "      <th>2</th>\n",
       "      <td>M</td>\n",
       "      <td>0.660</td>\n",
       "      <td>0.530</td>\n",
       "      <td>0.170</td>\n",
       "      <td>1.391</td>\n",
       "      <td>0.591</td>\n",
       "      <td>0.212</td>\n",
       "      <td>0.453</td>\n",
       "    </tr>\n",
       "    <tr>\n",
       "      <th>3</th>\n",
       "      <td>M</td>\n",
       "      <td>0.715</td>\n",
       "      <td>0.525</td>\n",
       "      <td>0.200</td>\n",
       "      <td>1.890</td>\n",
       "      <td>0.950</td>\n",
       "      <td>0.436</td>\n",
       "      <td>0.430</td>\n",
       "    </tr>\n",
       "    <tr>\n",
       "      <th>4</th>\n",
       "      <td>M</td>\n",
       "      <td>0.595</td>\n",
       "      <td>0.455</td>\n",
       "      <td>0.155</td>\n",
       "      <td>1.041</td>\n",
       "      <td>0.416</td>\n",
       "      <td>0.210</td>\n",
       "      <td>0.365</td>\n",
       "    </tr>\n",
       "  </tbody>\n",
       "</table>\n",
       "</div>"
      ],
      "text/plain": [
       "  Sex  Length  Diameter  Height  Whole_weight  Shucked_weight  Viscera_weight  \\\n",
       "0   I   0.180     0.135   0.080         0.033           0.015           0.007   \n",
       "1   I   0.215     0.150   0.055         0.041           0.015           0.009   \n",
       "2   M   0.660     0.530   0.170         1.391           0.591           0.212   \n",
       "3   M   0.715     0.525   0.200         1.890           0.950           0.436   \n",
       "4   M   0.595     0.455   0.155         1.041           0.416           0.210   \n",
       "\n",
       "   Shell_weight  \n",
       "0         0.010  \n",
       "1         0.013  \n",
       "2         0.453  \n",
       "3         0.430  \n",
       "4         0.365  "
      ]
     },
     "execution_count": 19,
     "metadata": {},
     "output_type": "execute_result"
    }
   ],
   "source": [
    "X = ds_aba.drop(['Id','Rings'], axis=1)\n",
    "X.head()"
   ]
  },
  {
   "cell_type": "code",
   "execution_count": 20,
   "id": "fde6df10-f36b-4e3c-8e32-221ad2154abb",
   "metadata": {},
   "outputs": [],
   "source": [
    "y = ds_aba.Rings"
   ]
  },
  {
   "cell_type": "code",
   "execution_count": 88,
   "id": "5489a9b9-7490-4c31-a869-59daab4fcbde",
   "metadata": {},
   "outputs": [
    {
     "data": {
      "image/png": "[encoded data removed]",
      "text/plain": [
       "<Figure size 720x504 with 2 Axes>"
      ]
     },
     "metadata": {
      "needs_background": "light"
     },
     "output_type": "display_data"
    }
   ],
   "source": [
    "fig = plt.figure(figsize=(10, 7))\n",
    "sns.heatmap(X.corr(), annot=True );\n",
    "plt.xticks(rotation = 45)\n",
    "plt.yticks(rotation = 45)\n",
    "plt.show()"
   ]
  },
  {
   "cell_type": "markdown",
   "id": "06673a8c-217d-4cf6-bf7e-55c9b367a8bd",
   "metadata": {},
   "source": [
    "**Observations:**\n",
    "\n",
    "- **Length** and **diameters** are **highly** correlated.\n",
    "- All types of **weight** are **highly** correalted with each other.  \n",
    "- There is a small deflection after 20 rings. "
   ]
  },
  {
   "cell_type": "markdown",
   "id": "b49ab3c1-2f94-4d8c-8697-91304642c728",
   "metadata": {},
   "source": [
    "<a name = Section8></a>\n",
    "\n",
    "---\n",
    "# **8. Model Development & Evaluation**\n",
    "---\n",
    "\n",
    "- In this section we will **develop various model** which will predict rings of abalones based on its various parameters. \n",
    "\n",
    "- Then we will **analyze the results** obtained and **make our observations**.\n",
    "\n",
    "- For **evaluation purpose** we will **RMSE** score to evaluate problem."
   ]
  },
  {
   "cell_type": "markdown",
   "id": "5482137b-0112-44d1-8752-9b1036486d11",
   "metadata": {},
   "source": [
    "<a name = Section81></a>\n",
    "### **8.1 Train test split**\n",
    "\n",
    "- Train test split. Keeping 20% data in test data."
   ]
  },
  {
   "cell_type": "code",
   "execution_count": 22,
   "id": "d4dd8696-78d1-4705-861b-3fee23a71157",
   "metadata": {},
   "outputs": [],
   "source": [
    "from sklearn.model_selection import train_test_split\n",
    "\n",
    "def split(X,y):\n",
    "    return train_test_split(X, y, test_size=0.20, random_state=10,stratify=X['Sex'])"
   ]
  },
  {
   "cell_type": "code",
   "execution_count": 23,
   "id": "9d909176-0bdc-4a6e-a9d4-20b3cf193807",
   "metadata": {},
   "outputs": [
    {
     "name": "stdout",
     "output_type": "stream",
     "text": [
      "Train cases as below\n",
      "X_train shape:  (2672, 8)\n",
      "y_train shape:  (2672,)\n",
      "\n",
      "Test cases as below\n",
      "X_test shape:  (669, 8)\n",
      "y_test shape:  (669,)\n"
     ]
    }
   ],
   "source": [
    "X_train, X_test, y_train, y_test=split(X,y)\n",
    "print('Train cases as below')\n",
    "print('X_train shape: ',X_train.shape)\n",
    "print('y_train shape: ',y_train.shape)\n",
    "print('\\nTest cases as below')\n",
    "print('X_test shape: ',X_test.shape)\n",
    "print('y_test shape: ',y_test.shape)"
   ]
  },
  {
   "cell_type": "markdown",
   "id": "aad037dc-716a-489b-abdc-62400f819b71",
   "metadata": {},
   "source": [
    "**Observations:**\n",
    "\n",
    "- Split train and test data with **20%** of test data from an actual dataset.\n",
    "- Used random state as **10** for randomness.  \n",
    "- Stratify with **sex** so that both train and test data have an **equal proportion** of Sex. "
   ]
  },
  {
   "cell_type": "markdown",
   "id": "086d2724-3c6b-478b-8cb2-ac78cfc09293",
   "metadata": {},
   "source": [
    "<a name = Section82></a>\n",
    "### **8.2 Label Encoding**\n",
    "\n",
    "- Encode target labels with value between 0 and n_classes-1."
   ]
  },
  {
   "cell_type": "code",
   "execution_count": 24,
   "id": "e3cca6ef-7762-4b88-864c-345d3cee0a4d",
   "metadata": {},
   "outputs": [],
   "source": [
    "from sklearn import preprocessing\n",
    "\n",
    "le = preprocessing.LabelEncoder()\n",
    "X_train['Sex'] = le.fit_transform(X_train['Sex'])\n",
    "X_test['Sex'] = le.transform(X_test['Sex'])"
   ]
  },
  {
   "cell_type": "markdown",
   "id": "4fb2510d-d42a-4298-a884-c65e84b57b4c",
   "metadata": {},
   "source": [
    "<a name = Section83></a>\n",
    "### **8.3 Model creation**\n",
    "\n",
    "- Model creation for abalone dataset"
   ]
  },
  {
   "cell_type": "markdown",
   "id": "66dbe99b-5bc6-439a-a1c5-5ade98df0f41",
   "metadata": {},
   "source": [
    "<a name = Section831></a>\n",
    "#### **8.3.1 Linear Regression**\n",
    "\n",
    "- Creation of linear model with default paramters."
   ]
  },
  {
   "cell_type": "code",
   "execution_count": 28,
   "id": "26da0b38-55b0-4825-a3b5-e5eb09e30c91",
   "metadata": {},
   "outputs": [],
   "source": [
    "from sklearn.linear_model import LinearRegression\n",
    "linreg = LinearRegression()\n",
    "linreg.fit(X_train, y_train)\n",
    "y_pred_train = linreg.predict(X_train)  \n",
    "y_pred_test = linreg.predict(X_test) "
   ]
  },
  {
   "cell_type": "code",
   "execution_count": 31,
   "id": "95db33b3-8052-4bb2-b612-7e19fe24c84f",
   "metadata": {},
   "outputs": [
    {
     "name": "stdout",
     "output_type": "stream",
     "text": [
      "------------------------------------------------------------------\n",
      "RMSE for training set is 2.2072318250772294\n",
      "RMSE for test set is 2.2017332708749398\n",
      "------------------------------------------------------------------\n",
      "R2 score for training set is 0.524547745574389\n",
      "R2 score for test set is 0.531583661433872\n",
      "------------------------------------------------------------------\n",
      "Adjusted R2 score for training set is 0.5231194248701438\n",
      "Adjusted R2 score for test set is 0.5259058876330704\n",
      "------------------------------------------------------------------\n"
     ]
    }
   ],
   "source": [
    "from sklearn import metrics\n",
    "RMSE_train = np.sqrt( metrics.mean_squared_error(y_train, y_pred_train))\n",
    "RMSE_test = np.sqrt(metrics.mean_squared_error(y_test, y_pred_test))\n",
    "print('------------------------------------------------------------------')\n",
    "print('RMSE for training set is {}'.format(RMSE_train))\n",
    "print('RMSE for test set is {}'.format(RMSE_test))\n",
    "print('------------------------------------------------------------------')\n",
    "\n",
    "r2_train = metrics.r2_score(y_train,y_pred_train)\n",
    "r2_test = metrics.r2_score(y_test,y_pred_test)\n",
    "print(\"R2 score for training set is {}\".format(r2_train))\n",
    "print(\"R2 score for test set is {}\".format(r2_test))\n",
    "print('------------------------------------------------------------------')\n",
    "\n",
    "adj_r_squared_train = 1 - (1-r2_train)*(len(y_train)-1)/(len(y_train)-X_train.shape[1]-1)\n",
    "adj_r_squared_test = 1 - (1-r2_test)*(len(y_test)-1)/(len(y_test)-X_test.shape[1]-1)\n",
    "print(\"Adjusted R2 score for training set is {}\".format(adj_r_squared_train))\n",
    "print(\"Adjusted R2 score for test set is {}\".format(adj_r_squared_test))\n",
    "print('------------------------------------------------------------------')"
   ]
  },
  {
   "cell_type": "markdown",
   "id": "19fc7be1-8af8-44a0-8f38-0c60e64cf3da",
   "metadata": {},
   "source": [
    "**Observations:**\n",
    "\n",
    "- **RMSE** is **2.21** for **train** and **2.20** for **test** data.\n",
    "- **R2** and **Adjusted R2** are almost near to each other for test and train data.  \n",
    "- We will go for a different model to see the difference. "
   ]
  },
  {
   "cell_type": "markdown",
   "id": "a8396bf2-a283-46b5-b5a0-f7e9fdb1ebb4",
   "metadata": {},
   "source": [
    "<a name = Section832></a>\n",
    "#### **8.3.2 Decision Tree Regressor**\n",
    "\n",
    "- Creation of Decision Tree Regressor model by providing some hyper parameters."
   ]
  },
  {
   "cell_type": "code",
   "execution_count": 40,
   "id": "22bbe32b-091c-4b11-ae2b-fd94687c2333",
   "metadata": {},
   "outputs": [],
   "source": [
    "from sklearn.tree import DecisionTreeRegressor\n",
    "dtm = DecisionTreeRegressor(max_depth=5,\n",
    "                           min_samples_split=6,\n",
    "                           max_leaf_nodes=10)\n",
    "dtm.fit(X_train, y_train)\n",
    "y_pred_train_d = dtm.predict(X_train)  \n",
    "y_pred_test_d = dtm.predict(X_test) "
   ]
  },
  {
   "cell_type": "code",
   "execution_count": 41,
   "id": "5d1984ce-650d-42b0-b6ec-45cc0afe1b14",
   "metadata": {},
   "outputs": [
    {
     "name": "stdout",
     "output_type": "stream",
     "text": [
      "------------------------------------------------------------------\n",
      "RMSE for training set is 2.3120032673157995\n",
      "RMSE for test set is 2.3615256803670786\n",
      "------------------------------------------------------------------\n",
      "R2 score for training set is 0.4783395650185981\n",
      "R2 score for test set is 0.4611250817213457\n",
      "------------------------------------------------------------------\n",
      "Adjusted R2 score for training set is 0.47677242890149285\n",
      "Adjusted R2 score for test set is 0.4545932645300892\n",
      "------------------------------------------------------------------\n"
     ]
    }
   ],
   "source": [
    "RMSE_train_d = np.sqrt( metrics.mean_squared_error(y_train, y_pred_train_d))\n",
    "RMSE_test_d = np.sqrt(metrics.mean_squared_error(y_test, y_pred_test_d))\n",
    "print('------------------------------------------------------------------')\n",
    "print('RMSE for training set is {}'.format(RMSE_train_d))\n",
    "print('RMSE for test set is {}'.format(RMSE_test_d))\n",
    "print('------------------------------------------------------------------')\n",
    "\n",
    "r2_train_d = metrics.r2_score(y_train,y_pred_train_d)\n",
    "r2_test_d = metrics.r2_score(y_test,y_pred_test_d)\n",
    "print(\"R2 score for training set is {}\".format(r2_train_d))\n",
    "print(\"R2 score for test set is {}\".format(r2_test_d))\n",
    "print('------------------------------------------------------------------')\n",
    "\n",
    "adj_r_squared_train_d = 1 - (1-r2_train_d)*(len(y_train)-1)/(len(y_train)-X_train.shape[1]-1)\n",
    "adj_r_squared_test_d = 1 - (1-r2_test_d)*(len(y_test)-1)/(len(y_test)-X_test.shape[1]-1)\n",
    "print(\"Adjusted R2 score for training set is {}\".format(adj_r_squared_train_d))\n",
    "print(\"Adjusted R2 score for test set is {}\".format(adj_r_squared_test_d))\n",
    "print('------------------------------------------------------------------')"
   ]
  },
  {
   "cell_type": "markdown",
   "id": "22dcdfa8-b7a9-4105-9ce4-f31645ebdc80",
   "metadata": {},
   "source": [
    "**Observations:**\n",
    "\n",
    "- Result of **RMSE** is almost the same as of **Linear** model.\n",
    "- **R2** and **Adjusted R2** have decreased a little bit.\n",
    "- We will fine-tune the model with **GridSearchCV** to see the difference. "
   ]
  },
  {
   "cell_type": "markdown",
   "id": "14c8f7e3-6c66-469d-9dd3-15d0f07be5b9",
   "metadata": {},
   "source": [
    "<a name = Section833></a>\n",
    "#### **8.3.3 GridSearchCV**\n",
    "\n",
    "- Hyperparameter tuning with GridSearchCV."
   ]
  },
  {
   "cell_type": "code",
   "execution_count": 45,
   "id": "f2e3d4e2-dec9-460d-95c0-282d873cf165",
   "metadata": {},
   "outputs": [
    {
     "data": {
      "text/plain": [
       "GridSearchCV(cv=5,\n",
       "             estimator=DecisionTreeRegressor(max_depth=5, max_leaf_nodes=10,\n",
       "                                             min_samples_split=6),\n",
       "             param_grid={'criterion': ['mse', 'mae', 'poisson'],\n",
       "                         'max_depth': [6, 7, 8, 10, 12],\n",
       "                         'max_leaf_nodes': [15, 18, 20, 22, 25, 30],\n",
       "                         'min_samples_leaf': [10, 15, 18, 20, 22, 25],\n",
       "                         'min_samples_split': [10, 20, 40],\n",
       "                         'random_state': [4, 5, 6, 7]})"
      ]
     },
     "execution_count": 45,
     "metadata": {},
     "output_type": "execute_result"
    }
   ],
   "source": [
    "from sklearn.model_selection import GridSearchCV, cross_val_score, cross_val_predict\n",
    "\n",
    "param_grid = {\"criterion\": [\"mse\", \"mae\",\"poisson\"],\n",
    "              \"min_samples_split\": [10, 20, 40],\n",
    "              \"max_depth\": [6, 7, 8, 10, 12],\n",
    "              \"min_samples_leaf\": [10,15, 18, 20, 22, 25],\n",
    "              \"max_leaf_nodes\": [15, 18, 20, 22, 25, 30],\n",
    "              \"random_state\": [4, 5, 6, 7],\n",
    "              }\n",
    "\n",
    "grid_cv_dtm = GridSearchCV(dtm, param_grid, cv=5)\n",
    "\n",
    "grid_cv_dtm.fit(X_train,y_train)"
   ]
  },
  {
   "cell_type": "code",
   "execution_count": 48,
   "id": "a67b229f-16b8-4256-82ff-7ff438ce7897",
   "metadata": {},
   "outputs": [
    {
     "name": "stdout",
     "output_type": "stream",
     "text": [
      "------------------------------------------------------------------\n",
      "RMSE for training set is 2.1192662628269847\n",
      "RMSE for test set is 2.23962860853703\n",
      "------------------------------------------------------------------\n",
      "R2 score for training set is 0.5616893115978394\n",
      "R2 score for test set is 0.5153205152223843\n",
      "------------------------------------------------------------------\n",
      "Adjusted R2 score for training set is 0.5603725690115768\n",
      "Adjusted R2 score for test set is 0.509445612376595\n",
      "------------------------------------------------------------------\n",
      "------------------------------------------------------------------\n",
      "\n",
      "Best Hyperparameters::\n",
      "{'criterion': 'mse', 'max_depth': 6, 'max_leaf_nodes': 30, 'min_samples_leaf': 25, 'min_samples_split': 10, 'random_state': 4}\n",
      "------------------------------------------------------------------\n"
     ]
    }
   ],
   "source": [
    "y_pred_train_gc = grid_cv_dtm.best_estimator_.predict(X_train)  \n",
    "y_pred_test_gc = grid_cv_dtm.best_estimator_.predict(X_test) \n",
    "\n",
    "RMSE_train_gc = np.sqrt( metrics.mean_squared_error(y_train, y_pred_train_gc))\n",
    "RMSE_test_gc = np.sqrt(metrics.mean_squared_error(y_test, y_pred_test_gc))\n",
    "print('------------------------------------------------------------------')\n",
    "print('RMSE for training set is {}'.format(RMSE_train_gc))\n",
    "print('RMSE for test set is {}'.format(RMSE_test_gc))\n",
    "print('------------------------------------------------------------------')\n",
    "\n",
    "r2_train_gc = metrics.r2_score(y_train,y_pred_train_gc)\n",
    "r2_test_gc = metrics.r2_score(y_test,y_pred_test_gc)\n",
    "print(\"R2 score for training set is {}\".format(r2_train_gc))\n",
    "print(\"R2 score for test set is {}\".format(r2_test_gc))\n",
    "print('------------------------------------------------------------------')\n",
    "\n",
    "adj_r_squared_train_gc = 1 - (1-r2_train_gc)*(len(y_train)-1)/(len(y_train)-X_train.shape[1]-1)\n",
    "adj_r_squared_test_gc = 1 - (1-r2_test_gc)*(len(y_test)-1)/(len(y_test)-X_test.shape[1]-1)\n",
    "print(\"Adjusted R2 score for training set is {}\".format(adj_r_squared_train_gc))\n",
    "print(\"Adjusted R2 score for test set is {}\".format(adj_r_squared_test_gc))\n",
    "print('------------------------------------------------------------------')\n",
    "print('------------------------------------------------------------------')\n",
    "print('')\n",
    "print(\"Best Hyperparameters::\\n{}\".format(grid_cv_dtm.best_params_))\n",
    "print('------------------------------------------------------------------')"
   ]
  },
  {
   "cell_type": "markdown",
   "id": "00b561fe-206f-456a-bdc8-e7f74af90584",
   "metadata": {},
   "source": [
    "**Observations:**\n",
    "\n",
    "- There is improvement in **RMSE** from other models.\n",
    "- **R2** and **Adjusted R2** have improved a little bit.\n",
    "- We will choose GrivdSearchCV and evaluate performance in test data. "
   ]
  },
  {
   "cell_type": "code",
   "execution_count": 50,
   "id": "89eaa768-11f3-4183-9c77-98643e8def32",
   "metadata": {},
   "outputs": [
    {
     "name": "stdout",
     "output_type": "stream",
     "text": [
      "Data shape :  (836, 9)\n"
     ]
    },
    {
     "data": {
      "text/html": [
       "<div>\n",
       "<style scoped>\n",
       "    .dataframe tbody tr th:only-of-type {\n",
       "        vertical-align: middle;\n",
       "    }\n",
       "\n",
       "    .dataframe tbody tr th {\n",
       "        vertical-align: top;\n",
       "    }\n",
       "\n",
       "    .dataframe thead th {\n",
       "        text-align: right;\n",
       "    }\n",
       "</style>\n",
       "<table border=\"1\" class=\"dataframe\">\n",
       "  <thead>\n",
       "    <tr style=\"text-align: right;\">\n",
       "      <th></th>\n",
       "      <th>Id</th>\n",
       "      <th>Sex</th>\n",
       "      <th>Length</th>\n",
       "      <th>Diameter</th>\n",
       "      <th>Height</th>\n",
       "      <th>Whole_weight</th>\n",
       "      <th>Shucked_weight</th>\n",
       "      <th>Viscera_weight</th>\n",
       "      <th>Shell_weight</th>\n",
       "    </tr>\n",
       "  </thead>\n",
       "  <tbody>\n",
       "    <tr>\n",
       "      <th>0</th>\n",
       "      <td>668</td>\n",
       "      <td>M</td>\n",
       "      <td>0.550</td>\n",
       "      <td>0.425</td>\n",
       "      <td>0.155</td>\n",
       "      <td>0.917</td>\n",
       "      <td>0.278</td>\n",
       "      <td>0.243</td>\n",
       "      <td>0.335</td>\n",
       "    </tr>\n",
       "    <tr>\n",
       "      <th>1</th>\n",
       "      <td>1580</td>\n",
       "      <td>I</td>\n",
       "      <td>0.500</td>\n",
       "      <td>0.400</td>\n",
       "      <td>0.120</td>\n",
       "      <td>0.616</td>\n",
       "      <td>0.261</td>\n",
       "      <td>0.143</td>\n",
       "      <td>0.194</td>\n",
       "    </tr>\n",
       "    <tr>\n",
       "      <th>2</th>\n",
       "      <td>3784</td>\n",
       "      <td>M</td>\n",
       "      <td>0.620</td>\n",
       "      <td>0.480</td>\n",
       "      <td>0.155</td>\n",
       "      <td>1.256</td>\n",
       "      <td>0.527</td>\n",
       "      <td>0.374</td>\n",
       "      <td>0.318</td>\n",
       "    </tr>\n",
       "    <tr>\n",
       "      <th>3</th>\n",
       "      <td>463</td>\n",
       "      <td>I</td>\n",
       "      <td>0.220</td>\n",
       "      <td>0.165</td>\n",
       "      <td>0.055</td>\n",
       "      <td>0.054</td>\n",
       "      <td>0.021</td>\n",
       "      <td>0.012</td>\n",
       "      <td>0.020</td>\n",
       "    </tr>\n",
       "    <tr>\n",
       "      <th>4</th>\n",
       "      <td>2615</td>\n",
       "      <td>M</td>\n",
       "      <td>0.645</td>\n",
       "      <td>0.500</td>\n",
       "      <td>0.175</td>\n",
       "      <td>1.510</td>\n",
       "      <td>0.673</td>\n",
       "      <td>0.376</td>\n",
       "      <td>0.378</td>\n",
       "    </tr>\n",
       "  </tbody>\n",
       "</table>\n",
       "</div>"
      ],
      "text/plain": [
       "     Id Sex  Length  Diameter  Height  Whole_weight  Shucked_weight  \\\n",
       "0   668   M   0.550     0.425   0.155         0.917           0.278   \n",
       "1  1580   I   0.500     0.400   0.120         0.616           0.261   \n",
       "2  3784   M   0.620     0.480   0.155         1.256           0.527   \n",
       "3   463   I   0.220     0.165   0.055         0.054           0.021   \n",
       "4  2615   M   0.645     0.500   0.175         1.510           0.673   \n",
       "\n",
       "   Viscera_weight  Shell_weight  \n",
       "0           0.243         0.335  \n",
       "1           0.143         0.194  \n",
       "2           0.374         0.318  \n",
       "3           0.012         0.020  \n",
       "4           0.376         0.378  "
      ]
     },
     "execution_count": 50,
     "metadata": {},
     "output_type": "execute_result"
    }
   ],
   "source": [
    "ds_real_aba = pd.read_csv('abalone_test.csv')\n",
    "print('Data shape : ', ds_real_aba.shape)\n",
    "ds_real_aba.head()"
   ]
  },
  {
   "cell_type": "code",
   "execution_count": 52,
   "id": "0ead0190-321f-43d1-a623-18da24e75dbc",
   "metadata": {},
   "outputs": [
    {
     "name": "stdout",
     "output_type": "stream",
     "text": [
      "<class 'pandas.core.frame.DataFrame'>\n",
      "RangeIndex: 836 entries, 0 to 835\n",
      "Data columns (total 9 columns):\n",
      " #   Column          Non-Null Count  Dtype  \n",
      "---  ------          --------------  -----  \n",
      " 0   Id              836 non-null    int64  \n",
      " 1   Sex             836 non-null    object \n",
      " 2   Length          836 non-null    float64\n",
      " 3   Diameter        836 non-null    float64\n",
      " 4   Height          836 non-null    float64\n",
      " 5   Whole_weight    836 non-null    float64\n",
      " 6   Shucked_weight  836 non-null    float64\n",
      " 7   Viscera_weight  836 non-null    float64\n",
      " 8   Shell_weight    836 non-null    float64\n",
      "dtypes: float64(7), int64(1), object(1)\n",
      "memory usage: 58.9+ KB\n"
     ]
    }
   ],
   "source": [
    "ds_real_aba.info()"
   ]
  },
  {
   "cell_type": "code",
   "execution_count": 53,
   "id": "776c12fd-84d1-4260-bbdf-ab708ceca686",
   "metadata": {},
   "outputs": [
    {
     "data": {
      "text/html": [
       "<div>\n",
       "<style scoped>\n",
       "    .dataframe tbody tr th:only-of-type {\n",
       "        vertical-align: middle;\n",
       "    }\n",
       "\n",
       "    .dataframe tbody tr th {\n",
       "        vertical-align: top;\n",
       "    }\n",
       "\n",
       "    .dataframe thead th {\n",
       "        text-align: right;\n",
       "    }\n",
       "</style>\n",
       "<table border=\"1\" class=\"dataframe\">\n",
       "  <thead>\n",
       "    <tr style=\"text-align: right;\">\n",
       "      <th></th>\n",
       "      <th>Id</th>\n",
       "      <th>Length</th>\n",
       "      <th>Diameter</th>\n",
       "      <th>Height</th>\n",
       "      <th>Whole_weight</th>\n",
       "      <th>Shucked_weight</th>\n",
       "      <th>Viscera_weight</th>\n",
       "      <th>Shell_weight</th>\n",
       "    </tr>\n",
       "  </thead>\n",
       "  <tbody>\n",
       "    <tr>\n",
       "      <th>count</th>\n",
       "      <td>836.000</td>\n",
       "      <td>836.000</td>\n",
       "      <td>836.000</td>\n",
       "      <td>836.000</td>\n",
       "      <td>836.000</td>\n",
       "      <td>836.000</td>\n",
       "      <td>836.000</td>\n",
       "      <td>836.000</td>\n",
       "    </tr>\n",
       "    <tr>\n",
       "      <th>mean</th>\n",
       "      <td>2098.222</td>\n",
       "      <td>0.516</td>\n",
       "      <td>0.402</td>\n",
       "      <td>0.137</td>\n",
       "      <td>0.791</td>\n",
       "      <td>0.342</td>\n",
       "      <td>0.173</td>\n",
       "      <td>0.229</td>\n",
       "    </tr>\n",
       "    <tr>\n",
       "      <th>std</th>\n",
       "      <td>1238.919</td>\n",
       "      <td>0.121</td>\n",
       "      <td>0.100</td>\n",
       "      <td>0.038</td>\n",
       "      <td>0.475</td>\n",
       "      <td>0.212</td>\n",
       "      <td>0.106</td>\n",
       "      <td>0.136</td>\n",
       "    </tr>\n",
       "    <tr>\n",
       "      <th>min</th>\n",
       "      <td>1.000</td>\n",
       "      <td>0.140</td>\n",
       "      <td>0.105</td>\n",
       "      <td>0.020</td>\n",
       "      <td>0.015</td>\n",
       "      <td>0.005</td>\n",
       "      <td>0.003</td>\n",
       "      <td>0.005</td>\n",
       "    </tr>\n",
       "    <tr>\n",
       "      <th>25%</th>\n",
       "      <td>994.750</td>\n",
       "      <td>0.445</td>\n",
       "      <td>0.345</td>\n",
       "      <td>0.110</td>\n",
       "      <td>0.433</td>\n",
       "      <td>0.178</td>\n",
       "      <td>0.091</td>\n",
       "      <td>0.121</td>\n",
       "    </tr>\n",
       "    <tr>\n",
       "      <th>50%</th>\n",
       "      <td>2108.500</td>\n",
       "      <td>0.535</td>\n",
       "      <td>0.420</td>\n",
       "      <td>0.140</td>\n",
       "      <td>0.771</td>\n",
       "      <td>0.320</td>\n",
       "      <td>0.161</td>\n",
       "      <td>0.220</td>\n",
       "    </tr>\n",
       "    <tr>\n",
       "      <th>75%</th>\n",
       "      <td>3202.000</td>\n",
       "      <td>0.610</td>\n",
       "      <td>0.475</td>\n",
       "      <td>0.165</td>\n",
       "      <td>1.097</td>\n",
       "      <td>0.472</td>\n",
       "      <td>0.243</td>\n",
       "      <td>0.315</td>\n",
       "    </tr>\n",
       "    <tr>\n",
       "      <th>max</th>\n",
       "      <td>4176.000</td>\n",
       "      <td>0.770</td>\n",
       "      <td>0.620</td>\n",
       "      <td>0.240</td>\n",
       "      <td>2.825</td>\n",
       "      <td>1.147</td>\n",
       "      <td>0.641</td>\n",
       "      <td>0.897</td>\n",
       "    </tr>\n",
       "  </tbody>\n",
       "</table>\n",
       "</div>"
      ],
      "text/plain": [
       "            Id  Length  Diameter  Height  Whole_weight  Shucked_weight  \\\n",
       "count  836.000 836.000   836.000 836.000       836.000         836.000   \n",
       "mean  2098.222   0.516     0.402   0.137         0.791           0.342   \n",
       "std   1238.919   0.121     0.100   0.038         0.475           0.212   \n",
       "min      1.000   0.140     0.105   0.020         0.015           0.005   \n",
       "25%    994.750   0.445     0.345   0.110         0.433           0.178   \n",
       "50%   2108.500   0.535     0.420   0.140         0.771           0.320   \n",
       "75%   3202.000   0.610     0.475   0.165         1.097           0.472   \n",
       "max   4176.000   0.770     0.620   0.240         2.825           1.147   \n",
       "\n",
       "       Viscera_weight  Shell_weight  \n",
       "count         836.000       836.000  \n",
       "mean            0.173         0.229  \n",
       "std             0.106         0.136  \n",
       "min             0.003         0.005  \n",
       "25%             0.091         0.121  \n",
       "50%             0.161         0.220  \n",
       "75%             0.243         0.315  \n",
       "max             0.641         0.897  "
      ]
     },
     "execution_count": 53,
     "metadata": {},
     "output_type": "execute_result"
    }
   ],
   "source": [
    "ds_real_aba.describe()"
   ]
  },
  {
   "cell_type": "markdown",
   "id": "139533db-e15e-4696-829a-e0da2952e14a",
   "metadata": {},
   "source": [
    "**Observations:**\n",
    "\n",
    "- There is no missing recods in test data.\n",
    "- All data seems to be in good shape."
   ]
  },
  {
   "cell_type": "markdown",
   "id": "9d2a8006-2717-4f05-bedd-c59a906f5f16",
   "metadata": {},
   "source": [
    "#### Choosing independednt variable"
   ]
  },
  {
   "cell_type": "code",
   "execution_count": 51,
   "id": "c8564f1e-08a8-4729-a415-be5f1987861b",
   "metadata": {},
   "outputs": [],
   "source": [
    "X_real = ds_real_aba.drop('Id', axis= 1)"
   ]
  },
  {
   "cell_type": "markdown",
   "id": "4cb101a7-59ae-44d6-bdbe-7f01b63eb4a4",
   "metadata": {},
   "source": [
    "#### Label encoding of testdata"
   ]
  },
  {
   "cell_type": "code",
   "execution_count": 54,
   "id": "1aa377a1-7e05-4ffb-83d0-881ba6f49b87",
   "metadata": {},
   "outputs": [],
   "source": [
    "X_real['Sex'] = le.transform(X_real['Sex'])"
   ]
  },
  {
   "cell_type": "code",
   "execution_count": 81,
   "id": "a9cd9470-c467-4063-9d2f-e0b5cd84f75d",
   "metadata": {},
   "outputs": [],
   "source": [
    "y_pred_real_gc = grid_cv_dtm.best_estimator_.predict(X_real)  "
   ]
  },
  {
   "cell_type": "code",
   "execution_count": 84,
   "id": "be822b82-2c83-4ed3-be1d-2be4886c4a44",
   "metadata": {},
   "outputs": [
    {
     "data": {
      "text/html": [
       "<div>\n",
       "<style scoped>\n",
       "    .dataframe tbody tr th:only-of-type {\n",
       "        vertical-align: middle;\n",
       "    }\n",
       "\n",
       "    .dataframe tbody tr th {\n",
       "        vertical-align: top;\n",
       "    }\n",
       "\n",
       "    .dataframe thead th {\n",
       "        text-align: right;\n",
       "    }\n",
       "</style>\n",
       "<table border=\"1\" class=\"dataframe\">\n",
       "  <thead>\n",
       "    <tr style=\"text-align: right;\">\n",
       "      <th></th>\n",
       "      <th>Id</th>\n",
       "      <th>Sex</th>\n",
       "      <th>Length</th>\n",
       "      <th>Diameter</th>\n",
       "      <th>Height</th>\n",
       "      <th>Whole_weight</th>\n",
       "      <th>Shucked_weight</th>\n",
       "      <th>Viscera_weight</th>\n",
       "      <th>Shell_weight</th>\n",
       "      <th>Rings</th>\n",
       "    </tr>\n",
       "  </thead>\n",
       "  <tbody>\n",
       "    <tr>\n",
       "      <th>0</th>\n",
       "      <td>668</td>\n",
       "      <td>M</td>\n",
       "      <td>0.550</td>\n",
       "      <td>0.425</td>\n",
       "      <td>0.155</td>\n",
       "      <td>0.917</td>\n",
       "      <td>0.278</td>\n",
       "      <td>0.243</td>\n",
       "      <td>0.335</td>\n",
       "      <td>14.208</td>\n",
       "    </tr>\n",
       "    <tr>\n",
       "      <th>1</th>\n",
       "      <td>1580</td>\n",
       "      <td>I</td>\n",
       "      <td>0.500</td>\n",
       "      <td>0.400</td>\n",
       "      <td>0.120</td>\n",
       "      <td>0.616</td>\n",
       "      <td>0.261</td>\n",
       "      <td>0.143</td>\n",
       "      <td>0.194</td>\n",
       "      <td>8.469</td>\n",
       "    </tr>\n",
       "    <tr>\n",
       "      <th>2</th>\n",
       "      <td>3784</td>\n",
       "      <td>M</td>\n",
       "      <td>0.620</td>\n",
       "      <td>0.480</td>\n",
       "      <td>0.155</td>\n",
       "      <td>1.256</td>\n",
       "      <td>0.527</td>\n",
       "      <td>0.374</td>\n",
       "      <td>0.318</td>\n",
       "      <td>10.413</td>\n",
       "    </tr>\n",
       "    <tr>\n",
       "      <th>3</th>\n",
       "      <td>463</td>\n",
       "      <td>I</td>\n",
       "      <td>0.220</td>\n",
       "      <td>0.165</td>\n",
       "      <td>0.055</td>\n",
       "      <td>0.054</td>\n",
       "      <td>0.021</td>\n",
       "      <td>0.012</td>\n",
       "      <td>0.020</td>\n",
       "      <td>4.234</td>\n",
       "    </tr>\n",
       "    <tr>\n",
       "      <th>4</th>\n",
       "      <td>2615</td>\n",
       "      <td>M</td>\n",
       "      <td>0.645</td>\n",
       "      <td>0.500</td>\n",
       "      <td>0.175</td>\n",
       "      <td>1.510</td>\n",
       "      <td>0.673</td>\n",
       "      <td>0.376</td>\n",
       "      <td>0.378</td>\n",
       "      <td>10.993</td>\n",
       "    </tr>\n",
       "  </tbody>\n",
       "</table>\n",
       "</div>"
      ],
      "text/plain": [
       "     Id Sex  Length  Diameter  Height  Whole_weight  Shucked_weight  \\\n",
       "0   668   M   0.550     0.425   0.155         0.917           0.278   \n",
       "1  1580   I   0.500     0.400   0.120         0.616           0.261   \n",
       "2  3784   M   0.620     0.480   0.155         1.256           0.527   \n",
       "3   463   I   0.220     0.165   0.055         0.054           0.021   \n",
       "4  2615   M   0.645     0.500   0.175         1.510           0.673   \n",
       "\n",
       "   Viscera_weight  Shell_weight  Rings  \n",
       "0           0.243         0.335 14.208  \n",
       "1           0.143         0.194  8.469  \n",
       "2           0.374         0.318 10.413  \n",
       "3           0.012         0.020  4.234  \n",
       "4           0.376         0.378 10.993  "
      ]
     },
     "execution_count": 84,
     "metadata": {},
     "output_type": "execute_result"
    }
   ],
   "source": [
    "y_pred_real_arr = np.array(y_pred_real_gc)\n",
    "ds_real_aba['Rings'] = y_pred_real_arr.tolist()\n",
    "ds_real_aba.head()"
   ]
  },
  {
   "cell_type": "code",
   "execution_count": 86,
   "id": "abf53200-93cf-4f87-a5f8-d1a5b2c13f63",
   "metadata": {},
   "outputs": [],
   "source": [
    "ds_real_aba[{'Id','Rings'}].to_csv('submission.csv',index=False,header=False)"
   ]
  },
  {
   "cell_type": "markdown",
   "id": "312dc94b-668f-4d65-a65d-5715791472a9",
   "metadata": {},
   "source": [
    "<a name = Section9></a>\n",
    "\n",
    "---\n",
    "# **9. Summarization**\n",
    "---"
   ]
  },
  {
   "cell_type": "markdown",
   "id": "c0eea6d7-6e3c-477e-b0fd-79850a21a3ca",
   "metadata": {},
   "source": [
    "<a name = Section91></a>\n",
    "### **9.1 Conclusion**\n",
    "\n",
    "- After hypertuning we got good results."
   ]
  }
 ],
 "metadata": {
  "kernelspec": {
   "display_name": "Python 3 (ipykernel)",
   "language": "python",
   "name": "python3"
  },
  "language_info": {
   "codemirror_mode": {
    "name": "ipython",
    "version": 3
   },
   "file_extension": ".py",
   "mimetype": "text/x-python",
   "name": "python",
   "nbconvert_exporter": "python",
   "pygments_lexer": "ipython3",
   "version": "3.9.7"
  }
 },
 "nbformat": 4,
 "nbformat_minor": 5
}
