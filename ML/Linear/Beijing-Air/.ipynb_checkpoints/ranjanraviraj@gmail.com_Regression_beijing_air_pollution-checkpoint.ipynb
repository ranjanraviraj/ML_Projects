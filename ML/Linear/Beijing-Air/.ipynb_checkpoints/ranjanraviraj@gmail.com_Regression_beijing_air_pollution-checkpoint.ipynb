{
 "cells": [
  {
   "cell_type": "code",
   "execution_count": 1,
   "id": "55f4a0fb",
   "metadata": {},
   "outputs": [],
   "source": [
    "#-------------------------------------------------------------------------------------------------------------------------------\n",
    "import pandas as pd                                                 # Importing for panel data analysis\n",
    "pd.set_option('display.max_columns', None)                          # Unfolding hidden features if the cardinality is high\n",
    "pd.set_option('display.max_colwidth', None)                         # Unfolding the max feature width for better clearity\n",
    "pd.set_option('display.max_rows', None)                             # Unfolding hidden data points if the cardinality is high\n",
    "pd.set_option('mode.chained_assignment', None)                      # Removing restriction over chained assignments operations\n",
    "pd.set_option('display.float_format', lambda x: '%.2f' % x)         # To suppress scientific notation over exponential values\n",
    "%matplotlib inline\n",
    "#-------------------------------------------------------------------------------------------------------------------------------\n",
    "import numpy as np                                                  # Importing package numpys (For Numerical Python)\n",
    "#-------------------------------------------------------------------------------------------------------------------------------\n",
    "import matplotlib.pyplot as plt                                     # Importing pyplot interface of matplotlib\n",
    "import seaborn as sns                                                # For datetime operations\n",
    "#-------------------------------------------------------------------------------------------------------------------------------\n",
    "import warnings                                                     # Importing warning to disable runtime warnings\n",
    "warnings.filterwarnings(\"ignore\")                                   # Warnings will appear only once"
   ]
  },
  {
   "cell_type": "code",
   "execution_count": null,
   "id": "d8878d2e",
   "metadata": {},
   "outputs": [],
   "source": [
    "ds_car = pd.read_csv('Car details v3.csv')\n",
    "print('Data shape : ', ds_car.shape)\n",
    "ds_car.head()"
   ]
  }
 ],
 "metadata": {
  "kernelspec": {
   "display_name": "Python 3 (ipykernel)",
   "language": "python",
   "name": "python3"
  },
  "language_info": {
   "codemirror_mode": {
    "name": "ipython",
    "version": 3
   },
   "file_extension": ".py",
   "mimetype": "text/x-python",
   "name": "python",
   "nbconvert_exporter": "python",
   "pygments_lexer": "ipython3",
   "version": "3.9.7"
  }
 },
 "nbformat": 4,
 "nbformat_minor": 5
}
