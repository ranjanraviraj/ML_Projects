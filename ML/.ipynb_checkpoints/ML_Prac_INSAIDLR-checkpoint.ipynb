{
 "cells": [
  {
   "cell_type": "markdown",
   "metadata": {
    "id": "9aKrLR_gXrUn"
   },
   "source": [
    "Data:\n",
    "1) Structured Data: 2 Dimensional Data (Rows and Columns)\n",
    "\ta) Homogenous: Statistical Models (Linear Regression and Logistic Regression)\n",
    "\tb) Hetrogenous: Machine Learning (Random Forest, SVM, Boosting...)\n",
    "2) Unstructured Data: n dimensional (Images, Text, Voice, videos) Deep Learning\n",
    "\n",
    "\n",
    "Variables\n",
    "1) Discrete\n",
    "\t- Flag\n",
    "\t- Categorical/nominal\n",
    "\t- Ordinal\n",
    "2) Numerical\n",
    "\t- Continuous\n",
    "\t- Integer\n",
    "\t\n",
    "Approach:\n",
    "1) Load and Audit the data (Pandas, sklearn)\n",
    "\ta) Shape of the data\n",
    "\tb) distribution of the data (Homogenous/Linear or Hetrogenous/NonLinear)\n",
    "\tc) integrity of the data (missing values, inconsistencies etc)\n",
    "2) Data Preparation and Data Transformation\n",
    "\ta) Missing value imputation\n",
    "\tb) Handle inconsistencies\n",
    "\tc) Transformation\n",
    "\t\t- zscore/standard scaler\n",
    "\t\t- log (scaling)\n",
    "\t\t- min/max scaler\n",
    "3) Data Visualization\n",
    "\ta) Boxplots\n",
    "\tb) scatters\n",
    "\tc) Pairplot\n",
    "\t\n",
    "4) Analysis\n",
    "\ta) Uni-variate analysis (Measures central tendency/ measures of dipersion)\n",
    "\tb) Bi-variate analysis (correlation/chi square tests)\n",
    "\tc) Multi-Variate\n",
    "\t\t- Supervised\n",
    "\t\t\t- Classification\n",
    "\t\t- Unsupervised"
   ]
  },
  {
   "cell_type": "markdown",
   "metadata": {
    "id": "Kg6ETWRFYYpB"
   },
   "source": [
    "Import the standard libraries"
   ]
  },
  {
   "cell_type": "code",
   "execution_count": 1,
   "metadata": {
    "id": "SE9InQMrXqyt"
   },
   "outputs": [],
   "source": [
    "import pandas as pd\n",
    "import numpy as np\n",
    "import matplotlib.pyplot as plt\n",
    "import seaborn as sns\n",
    "from sklearn.model_selection import train_test_split\n",
    "from sklearn.linear_model import LogisticRegression\n",
    "from sklearn.metrics import confusion_matrix, accuracy_score, classification_report"
   ]
  },
  {
   "cell_type": "markdown",
   "metadata": {
    "id": "Br1L2GNSZbWc"
   },
   "source": [
    "Load and Audit the data"
   ]
  },
  {
   "cell_type": "code",
   "execution_count": 2,
   "metadata": {
    "id": "GXVi08vdZc8l"
   },
   "outputs": [],
   "source": [
    "train = pd.read_csv('train_ctrUa4K.csv')\n",
    "test = pd.read_csv('test_lAUu6dG.csv')"
   ]
  },
  {
   "cell_type": "code",
   "execution_count": 3,
   "metadata": {
    "colab": {
     "base_uri": "https://localhost:8080/"
    },
    "id": "-GtcO3C8aiEt",
    "outputId": "9403ffaa-d8bb-44f4-d191-c0f12ec61311"
   },
   "outputs": [
    {
     "name": "stdout",
     "output_type": "stream",
     "text": [
      "<class 'pandas.core.frame.DataFrame'>\n",
      "RangeIndex: 614 entries, 0 to 613\n",
      "Data columns (total 13 columns):\n",
      " #   Column             Non-Null Count  Dtype  \n",
      "---  ------             --------------  -----  \n",
      " 0   Loan_ID            614 non-null    object \n",
      " 1   Gender             601 non-null    object \n",
      " 2   Married            611 non-null    object \n",
      " 3   Dependents         599 non-null    object \n",
      " 4   Education          614 non-null    object \n",
      " 5   Self_Employed      582 non-null    object \n",
      " 6   ApplicantIncome    614 non-null    int64  \n",
      " 7   CoapplicantIncome  614 non-null    float64\n",
      " 8   LoanAmount         592 non-null    float64\n",
      " 9   Loan_Amount_Term   600 non-null    float64\n",
      " 10  Credit_History     564 non-null    float64\n",
      " 11  Property_Area      614 non-null    object \n",
      " 12  Loan_Status        614 non-null    object \n",
      "dtypes: float64(4), int64(1), object(8)\n",
      "memory usage: 62.5+ KB\n"
     ]
    }
   ],
   "source": [
    "train.info()"
   ]
  },
  {
   "cell_type": "code",
   "execution_count": 4,
   "metadata": {
    "colab": {
     "base_uri": "https://localhost:8080/"
    },
    "id": "_Ye8eSMwbLBE",
    "outputId": "4f4dab5b-ce06-4236-eefc-5cfe122a7060"
   },
   "outputs": [
    {
     "data": {
      "text/plain": [
       "Loan_ID               0\n",
       "Gender               13\n",
       "Married               3\n",
       "Dependents           15\n",
       "Education             0\n",
       "Self_Employed        32\n",
       "ApplicantIncome       0\n",
       "CoapplicantIncome     0\n",
       "LoanAmount           22\n",
       "Loan_Amount_Term     14\n",
       "Credit_History       50\n",
       "Property_Area         0\n",
       "Loan_Status           0\n",
       "dtype: int64"
      ]
     },
     "execution_count": 4,
     "metadata": {},
     "output_type": "execute_result"
    }
   ],
   "source": [
    "train.isna().sum()"
   ]
  },
  {
   "cell_type": "markdown",
   "metadata": {
    "id": "26H4pc2dbtwC"
   },
   "source": [
    "Imputation of missing values\n",
    "\n",
    "\n",
    "1.   Categorical/Object dtype: Mode (Frequency)\n",
    "2.   Continuous/Int and Float dtype: Median \n",
    "\n"
   ]
  },
  {
   "cell_type": "code",
   "execution_count": 5,
   "metadata": {
    "id": "puDWCslOb9Bk"
   },
   "outputs": [],
   "source": [
    "train_1 = train.copy()"
   ]
  },
  {
   "cell_type": "code",
   "execution_count": 6,
   "metadata": {
    "colab": {
     "base_uri": "https://localhost:8080/"
    },
    "id": "efTyg5M7cKlB",
    "outputId": "a29f1960-4075-4bff-ef70-45b0947b765c"
   },
   "outputs": [
    {
     "data": {
      "text/plain": [
       "Male      489\n",
       "Female    112\n",
       "Name: Gender, dtype: int64"
      ]
     },
     "execution_count": 6,
     "metadata": {},
     "output_type": "execute_result"
    }
   ],
   "source": [
    "train_1['Gender'].value_counts()"
   ]
  },
  {
   "cell_type": "code",
   "execution_count": 7,
   "metadata": {
    "id": "TYmyoOWYcTnE"
   },
   "outputs": [],
   "source": [
    "train_1['Gender'] = np.where(train_1['Gender'].isna(),'Male', train_1['Gender'])"
   ]
  },
  {
   "cell_type": "code",
   "execution_count": 9,
   "metadata": {
    "colab": {
     "base_uri": "https://localhost:8080/"
    },
    "id": "CWzNE6tVcpMf",
    "outputId": "9dfef58f-6b98-4dba-ef58-daf7214f81ca"
   },
   "outputs": [
    {
     "data": {
      "text/plain": [
       "Yes    398\n",
       "No     213\n",
       "Name: Married, dtype: int64"
      ]
     },
     "execution_count": 9,
     "metadata": {},
     "output_type": "execute_result"
    }
   ],
   "source": [
    "train_1['Married'].value_counts()"
   ]
  },
  {
   "cell_type": "code",
   "execution_count": 10,
   "metadata": {},
   "outputs": [
    {
     "data": {
      "text/plain": [
       "0    Yes\n",
       "Name: Married, dtype: object"
      ]
     },
     "execution_count": 10,
     "metadata": {},
     "output_type": "execute_result"
    }
   ],
   "source": [
    "train_1['Married'].mode()[0]"
   ]
  }
 ],
 "metadata": {
  "colab": {
   "name": "INSAIDLR.ipynb",
   "provenance": []
  },
  "kernelspec": {
   "display_name": "Python 3 (ipykernel)",
   "language": "python",
   "name": "python3"
  },
  "language_info": {
   "codemirror_mode": {
    "name": "ipython",
    "version": 3
   },
   "file_extension": ".py",
   "mimetype": "text/x-python",
   "name": "python",
   "nbconvert_exporter": "python",
   "pygments_lexer": "ipython3",
   "version": "3.9.7"
  }
 },
 "nbformat": 4,
 "nbformat_minor": 1
}
